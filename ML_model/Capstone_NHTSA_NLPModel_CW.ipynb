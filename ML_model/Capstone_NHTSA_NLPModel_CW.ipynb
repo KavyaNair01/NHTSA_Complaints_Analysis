{
 "cells": [
  {
   "cell_type": "code",
   "execution_count": 2,
   "id": "3235ba0e-7ae5-4811-bac0-665cdd870194",
   "metadata": {},
   "outputs": [],
   "source": [
    "#importing relevant libraries\n",
    "import pandas as pd\n",
    "import numpy as np\n",
    "import seaborn as sns\n",
    "import matplotlib.pyplot as plt\n",
    "import warnings\n",
    "warnings.filterwarnings(\"ignore\")"
   ]
  },
  {
   "cell_type": "markdown",
   "id": "37889279-110c-41aa-bb54-8378304bc748",
   "metadata": {},
   "source": [
    "## BERT_Sentence Tranformer"
   ]
  },
  {
   "cell_type": "markdown",
   "id": "317119a5-50e8-4595-a939-6e4083e8a465",
   "metadata": {},
   "source": [
    "---"
   ]
  },
  {
   "cell_type": "code",
   "execution_count": 2,
   "id": "8fbec8fb-9a1f-4fc4-a6ad-508a5c7f88bb",
   "metadata": {},
   "outputs": [],
   "source": [
    "#loading the csv output containing primary keys and complaint descriptions\n",
    "text1 = pd.read_csv(r\"C:\\Users\\shanm\\OneDrive\\Desktop\\Kavya\\Spring 25\\NHTSA dataset-20250211T191427Z-002\\NHTSA dataset\\Complaints\\complaints_descriptions.csv\",low_memory = True)"
   ]
  },
  {
   "cell_type": "code",
   "execution_count": 3,
   "id": "163a82e6-d9e9-47aa-aec8-c6f45f3779b8",
   "metadata": {},
   "outputs": [
    {
     "data": {
      "text/html": [
       "<div>\n",
       "<style scoped>\n",
       "    .dataframe tbody tr th:only-of-type {\n",
       "        vertical-align: middle;\n",
       "    }\n",
       "\n",
       "    .dataframe tbody tr th {\n",
       "        vertical-align: top;\n",
       "    }\n",
       "\n",
       "    .dataframe thead th {\n",
       "        text-align: right;\n",
       "    }\n",
       "</style>\n",
       "<table border=\"1\" class=\"dataframe\">\n",
       "  <thead>\n",
       "    <tr style=\"text-align: right;\">\n",
       "      <th></th>\n",
       "      <th>MAKETXT</th>\n",
       "      <th>MODELTXT</th>\n",
       "      <th>YEARTXT</th>\n",
       "      <th>COMPDESC</th>\n",
       "      <th>CDESCR</th>\n",
       "    </tr>\n",
       "  </thead>\n",
       "  <tbody>\n",
       "    <tr>\n",
       "      <th>0</th>\n",
       "      <td>FORD</td>\n",
       "      <td>EXPEDITION                                    ...</td>\n",
       "      <td>2008.0</td>\n",
       "      <td>VISIBILITY:POWER WINDOW DEVICES AND CONTROLS  ...</td>\n",
       "      <td>EXPERIENCED PROBLEM WITH POWER WINDOWS FAILING...</td>\n",
       "    </tr>\n",
       "    <tr>\n",
       "      <th>1</th>\n",
       "      <td>FORD</td>\n",
       "      <td>EXPEDITION                                    ...</td>\n",
       "      <td>2008.0</td>\n",
       "      <td>VEHICLE SPEED CONTROL                         ...</td>\n",
       "      <td>EXPERIENCED PROBLEM WITH POWER WINDOWS FAILING...</td>\n",
       "    </tr>\n",
       "    <tr>\n",
       "      <th>2</th>\n",
       "      <td>GULF STREAM</td>\n",
       "      <td>TOURMASTER                                    ...</td>\n",
       "      <td>2008.0</td>\n",
       "      <td>VISIBILITY                                    ...</td>\n",
       "      <td>2008 GULFSTREAM R V,PURCHASED JAN.18, 2008  TR...</td>\n",
       "    </tr>\n",
       "    <tr>\n",
       "      <th>3</th>\n",
       "      <td>VOLKSWAGEN</td>\n",
       "      <td>PASSAT                                        ...</td>\n",
       "      <td>2006.0</td>\n",
       "      <td>AIR BAGS                                      ...</td>\n",
       "      <td>VOLKSWAGEN HAS ACKNOWLEDGED TO ME, BOTH THE DE...</td>\n",
       "    </tr>\n",
       "    <tr>\n",
       "      <th>4</th>\n",
       "      <td>MERCURY</td>\n",
       "      <td>SABLE                                         ...</td>\n",
       "      <td>2002.0</td>\n",
       "      <td>SUSPENSION:FRONT:SPRINGS:COIL SPRINGS         ...</td>\n",
       "      <td>TL*THE CONTACT OWNS A 2002  MERCURY SABLE. WHI...</td>\n",
       "    </tr>\n",
       "  </tbody>\n",
       "</table>\n",
       "</div>"
      ],
      "text/plain": [
       "                     MAKETXT  \\\n",
       "0  FORD                        \n",
       "1  FORD                        \n",
       "2  GULF STREAM                 \n",
       "3  VOLKSWAGEN                  \n",
       "4  MERCURY                     \n",
       "\n",
       "                                            MODELTXT  YEARTXT  \\\n",
       "0  EXPEDITION                                    ...   2008.0   \n",
       "1  EXPEDITION                                    ...   2008.0   \n",
       "2  TOURMASTER                                    ...   2008.0   \n",
       "3  PASSAT                                        ...   2006.0   \n",
       "4  SABLE                                         ...   2002.0   \n",
       "\n",
       "                                            COMPDESC  \\\n",
       "0  VISIBILITY:POWER WINDOW DEVICES AND CONTROLS  ...   \n",
       "1  VEHICLE SPEED CONTROL                         ...   \n",
       "2  VISIBILITY                                    ...   \n",
       "3  AIR BAGS                                      ...   \n",
       "4  SUSPENSION:FRONT:SPRINGS:COIL SPRINGS         ...   \n",
       "\n",
       "                                              CDESCR  \n",
       "0  EXPERIENCED PROBLEM WITH POWER WINDOWS FAILING...  \n",
       "1  EXPERIENCED PROBLEM WITH POWER WINDOWS FAILING...  \n",
       "2  2008 GULFSTREAM R V,PURCHASED JAN.18, 2008  TR...  \n",
       "3  VOLKSWAGEN HAS ACKNOWLEDGED TO ME, BOTH THE DE...  \n",
       "4  TL*THE CONTACT OWNS A 2002  MERCURY SABLE. WHI...  "
      ]
     },
     "execution_count": 3,
     "metadata": {},
     "output_type": "execute_result"
    }
   ],
   "source": [
    "text1.head()"
   ]
  },
  {
   "cell_type": "code",
   "execution_count": 4,
   "id": "a53c6172-2073-4874-8767-32abf124a05b",
   "metadata": {},
   "outputs": [
    {
     "data": {
      "text/plain": [
       "(1184117, 5)"
      ]
     },
     "execution_count": 4,
     "metadata": {},
     "output_type": "execute_result"
    }
   ],
   "source": [
    "text1.shape"
   ]
  },
  {
   "cell_type": "code",
   "execution_count": 6,
   "id": "7be9ad96-9b69-4689-a9be-19e9f3f82a2b",
   "metadata": {},
   "outputs": [],
   "source": [
    "#text = text.reset_index()"
   ]
  },
  {
   "cell_type": "code",
   "execution_count": 2,
   "id": "4bfbdac3-f304-4eed-b82f-1c7b24e080a6",
   "metadata": {
    "scrolled": true
   },
   "outputs": [
    {
     "name": "stdout",
     "output_type": "stream",
     "text": [
      "Defaulting to user installation because normal site-packages is not writeable\n",
      "Requirement already satisfied: sentence_transformers in c:\\users\\shanm\\appdata\\roaming\\python\\python311\\site-packages (3.4.1)\n",
      "Requirement already satisfied: transformers<5.0.0,>=4.41.0 in c:\\users\\shanm\\appdata\\roaming\\python\\python311\\site-packages (from sentence_transformers) (4.49.0)\n",
      "Requirement already satisfied: tqdm in c:\\users\\shanm\\appdata\\roaming\\python\\python311\\site-packages (from sentence_transformers) (4.66.2)\n",
      "Requirement already satisfied: torch>=1.11.0 in c:\\users\\shanm\\appdata\\roaming\\python\\python311\\site-packages (from sentence_transformers) (2.2.2)\n",
      "Requirement already satisfied: scikit-learn in c:\\users\\shanm\\appdata\\roaming\\python\\python311\\site-packages (from sentence_transformers) (1.4.2)\n",
      "Requirement already satisfied: scipy in c:\\users\\shanm\\appdata\\roaming\\python\\python311\\site-packages (from sentence_transformers) (1.12.0)\n",
      "Requirement already satisfied: huggingface-hub>=0.20.0 in c:\\users\\shanm\\appdata\\roaming\\python\\python311\\site-packages (from sentence_transformers) (0.29.2)\n",
      "Requirement already satisfied: Pillow in c:\\users\\shanm\\appdata\\roaming\\python\\python311\\site-packages (from sentence_transformers) (10.2.0)\n",
      "Requirement already satisfied: filelock in c:\\users\\shanm\\appdata\\roaming\\python\\python311\\site-packages (from huggingface-hub>=0.20.0->sentence_transformers) (3.13.1)\n",
      "Requirement already satisfied: fsspec>=2023.5.0 in c:\\users\\shanm\\appdata\\roaming\\python\\python311\\site-packages (from huggingface-hub>=0.20.0->sentence_transformers) (2024.2.0)\n",
      "Requirement already satisfied: packaging>=20.9 in c:\\users\\shanm\\appdata\\roaming\\python\\python311\\site-packages (from huggingface-hub>=0.20.0->sentence_transformers) (23.2)\n",
      "Requirement already satisfied: pyyaml>=5.1 in c:\\users\\shanm\\appdata\\roaming\\python\\python311\\site-packages (from huggingface-hub>=0.20.0->sentence_transformers) (6.0.1)\n",
      "Requirement already satisfied: requests in c:\\users\\shanm\\appdata\\roaming\\python\\python311\\site-packages (from huggingface-hub>=0.20.0->sentence_transformers) (2.31.0)\n",
      "Requirement already satisfied: typing-extensions>=3.7.4.3 in c:\\users\\shanm\\appdata\\roaming\\python\\python311\\site-packages (from huggingface-hub>=0.20.0->sentence_transformers) (4.12.2)\n",
      "Requirement already satisfied: sympy in c:\\users\\shanm\\appdata\\roaming\\python\\python311\\site-packages (from torch>=1.11.0->sentence_transformers) (1.12)\n",
      "Requirement already satisfied: networkx in c:\\users\\shanm\\appdata\\roaming\\python\\python311\\site-packages (from torch>=1.11.0->sentence_transformers) (3.3)\n",
      "Requirement already satisfied: jinja2 in c:\\users\\shanm\\appdata\\roaming\\python\\python311\\site-packages (from torch>=1.11.0->sentence_transformers) (3.1.3)\n",
      "Requirement already satisfied: colorama in c:\\users\\shanm\\appdata\\roaming\\python\\python311\\site-packages (from tqdm->sentence_transformers) (0.4.6)\n",
      "Requirement already satisfied: numpy>=1.17 in c:\\users\\shanm\\appdata\\roaming\\python\\python311\\site-packages (from transformers<5.0.0,>=4.41.0->sentence_transformers) (1.24.3)\n",
      "Requirement already satisfied: regex!=2019.12.17 in c:\\users\\shanm\\appdata\\roaming\\python\\python311\\site-packages (from transformers<5.0.0,>=4.41.0->sentence_transformers) (2023.12.25)\n",
      "Requirement already satisfied: tokenizers<0.22,>=0.21 in c:\\users\\shanm\\appdata\\roaming\\python\\python311\\site-packages (from transformers<5.0.0,>=4.41.0->sentence_transformers) (0.21.0)\n",
      "Requirement already satisfied: safetensors>=0.4.1 in c:\\users\\shanm\\appdata\\roaming\\python\\python311\\site-packages (from transformers<5.0.0,>=4.41.0->sentence_transformers) (0.4.2)\n",
      "Requirement already satisfied: joblib>=1.2.0 in c:\\users\\shanm\\appdata\\roaming\\python\\python311\\site-packages (from scikit-learn->sentence_transformers) (1.3.2)\n",
      "Requirement already satisfied: threadpoolctl>=2.0.0 in c:\\users\\shanm\\appdata\\roaming\\python\\python311\\site-packages (from scikit-learn->sentence_transformers) (3.3.0)\n",
      "Requirement already satisfied: MarkupSafe>=2.0 in c:\\users\\shanm\\appdata\\roaming\\python\\python311\\site-packages (from jinja2->torch>=1.11.0->sentence_transformers) (2.1.5)\n",
      "Requirement already satisfied: charset-normalizer<4,>=2 in c:\\users\\shanm\\appdata\\roaming\\python\\python311\\site-packages (from requests->huggingface-hub>=0.20.0->sentence_transformers) (3.3.2)\n",
      "Requirement already satisfied: idna<4,>=2.5 in c:\\users\\shanm\\appdata\\roaming\\python\\python311\\site-packages (from requests->huggingface-hub>=0.20.0->sentence_transformers) (3.6)\n",
      "Requirement already satisfied: urllib3<3,>=1.21.1 in c:\\users\\shanm\\appdata\\roaming\\python\\python311\\site-packages (from requests->huggingface-hub>=0.20.0->sentence_transformers) (2.2.1)\n",
      "Requirement already satisfied: certifi>=2017.4.17 in c:\\users\\shanm\\appdata\\roaming\\python\\python311\\site-packages (from requests->huggingface-hub>=0.20.0->sentence_transformers) (2024.2.2)\n",
      "Requirement already satisfied: mpmath>=0.19 in c:\\users\\shanm\\appdata\\roaming\\python\\python311\\site-packages (from sympy->torch>=1.11.0->sentence_transformers) (1.3.0)\n"
     ]
    },
    {
     "name": "stderr",
     "output_type": "stream",
     "text": [
      "\n",
      "[notice] A new release of pip is available: 24.2 -> 25.0.1\n",
      "[notice] To update, run: python.exe -m pip install --upgrade pip\n"
     ]
    }
   ],
   "source": [
    "!pip install sentence_transformers"
   ]
  },
  {
   "cell_type": "code",
   "execution_count": 3,
   "id": "1b565f4e-13c0-403d-93fd-9979ec490e6d",
   "metadata": {
    "scrolled": true
   },
   "outputs": [
    {
     "name": "stdout",
     "output_type": "stream",
     "text": [
      "WARNING:tensorflow:From C:\\Users\\shanm\\AppData\\Roaming\\Python\\Python311\\site-packages\\tf_keras\\src\\losses.py:2976: The name tf.losses.sparse_softmax_cross_entropy is deprecated. Please use tf.compat.v1.losses.sparse_softmax_cross_entropy instead.\n",
      "\n"
     ]
    }
   ],
   "source": [
    "#performing BERT\n",
    "from sentence_transformers import SentenceTransformer\n",
    "\n",
    "# Load a pretrained Sentence Transformer model\n",
    "model = SentenceTransformer(\"all-MiniLM-L6-v2\")"
   ]
  },
  {
   "cell_type": "code",
   "execution_count": 9,
   "id": "ca846210-600f-4a37-b980-c9d453ae5289",
   "metadata": {},
   "outputs": [],
   "source": [
    "#saving only text inputs for inpuring BERT model\n",
    "sentences = text1['CDESCR']"
   ]
  },
  {
   "cell_type": "code",
   "execution_count": 10,
   "id": "4ab90ded-e03e-45e5-b1ab-3c05e5a0342d",
   "metadata": {},
   "outputs": [
    {
     "data": {
      "text/plain": [
       "0          EXPERIENCED PROBLEM WITH POWER WINDOWS FAILING...\n",
       "1          EXPERIENCED PROBLEM WITH POWER WINDOWS FAILING...\n",
       "2          2008 GULFSTREAM R V,PURCHASED JAN.18, 2008  TR...\n",
       "3          VOLKSWAGEN HAS ACKNOWLEDGED TO ME, BOTH THE DE...\n",
       "4          TL*THE CONTACT OWNS A 2002  MERCURY SABLE. WHI...\n",
       "                                 ...                        \n",
       "1184112    At times the transmission does not shift from ...\n",
       "1184113    The main battery keeps going into battery save...\n",
       "1184114    The main battery keeps going into battery save...\n",
       "1184115    My vehicle is experiencing an abnormal free pl...\n",
       "1184116    My 2017 Chevy Equinox, equipped with the 2.4L ...\n",
       "Name: CDESCR, Length: 1184117, dtype: object"
      ]
     },
     "execution_count": 10,
     "metadata": {},
     "output_type": "execute_result"
    }
   ],
   "source": [
    "sentences"
   ]
  },
  {
   "cell_type": "code",
   "execution_count": 14,
   "id": "4577914f-1084-4af3-af7a-173eb697ef59",
   "metadata": {},
   "outputs": [
    {
     "data": {
      "application/vnd.jupyter.widget-view+json": {
       "model_id": "3c66f9b4a92f4f17a706aaa8de0a8a19",
       "version_major": 2,
       "version_minor": 0
      },
      "text/plain": [
       "Batches:   0%|          | 0/37004 [00:00<?, ?it/s]"
      ]
     },
     "metadata": {},
     "output_type": "display_data"
    },
    {
     "data": {
      "text/plain": [
       "array([[ 0.00693593,  0.10631328,  0.04279705, ...,  0.04273076,\n",
       "        -0.06612051,  0.09021068],\n",
       "       [ 0.00693593,  0.10631328,  0.04279705, ...,  0.04273076,\n",
       "        -0.06612051,  0.09021068],\n",
       "       [-0.05205611,  0.05811791,  0.12576434, ..., -0.03561599,\n",
       "        -0.0565255 ,  0.04980998],\n",
       "       ...,\n",
       "       [ 0.05159131,  0.07968046, -0.04171931, ..., -0.0475803 ,\n",
       "        -0.04168319,  0.05527847],\n",
       "       [ 0.01360507, -0.01397104,  0.05913178, ..., -0.0589281 ,\n",
       "        -0.0106579 ,  0.03687558],\n",
       "       [-0.07735323,  0.14122577,  0.13654396, ..., -0.02022977,\n",
       "         0.02074945,  0.00273345]], dtype=float32)"
      ]
     },
     "execution_count": 14,
     "metadata": {},
     "output_type": "execute_result"
    }
   ],
   "source": [
    "#encoding all text inputs to numericals\n",
    "embeddings = model.encode(sentences, show_progress_bar = True)\n",
    "embeddings"
   ]
  },
  {
   "cell_type": "code",
   "execution_count": 24,
   "id": "29b2a009-b10a-4daf-8f8a-044a800ece70",
   "metadata": {},
   "outputs": [],
   "source": [
    "#saving all compliants encodings to txt and csv files\n",
    "np.savetxt(r\"C:\\Users\\shanm\\OneDrive\\Desktop\\Kavya\\Spring 25\\NHTSA dataset-20250211T191427Z-002\\NHTSA dataset\\Complaints\\text_embeddings_onlyemb.txt\", embeddings, delimiter=',')"
   ]
  },
  {
   "cell_type": "code",
   "execution_count": 16,
   "id": "bda457dd-80d0-413f-9556-f37a47799773",
   "metadata": {},
   "outputs": [
    {
     "data": {
      "text/html": [
       "<div>\n",
       "<style scoped>\n",
       "    .dataframe tbody tr th:only-of-type {\n",
       "        vertical-align: middle;\n",
       "    }\n",
       "\n",
       "    .dataframe tbody tr th {\n",
       "        vertical-align: top;\n",
       "    }\n",
       "\n",
       "    .dataframe thead th {\n",
       "        text-align: right;\n",
       "    }\n",
       "</style>\n",
       "<table border=\"1\" class=\"dataframe\">\n",
       "  <thead>\n",
       "    <tr style=\"text-align: right;\">\n",
       "      <th></th>\n",
       "      <th>0</th>\n",
       "      <th>1</th>\n",
       "      <th>2</th>\n",
       "      <th>3</th>\n",
       "      <th>4</th>\n",
       "      <th>5</th>\n",
       "      <th>6</th>\n",
       "      <th>7</th>\n",
       "      <th>8</th>\n",
       "      <th>9</th>\n",
       "      <th>...</th>\n",
       "      <th>374</th>\n",
       "      <th>375</th>\n",
       "      <th>376</th>\n",
       "      <th>377</th>\n",
       "      <th>378</th>\n",
       "      <th>379</th>\n",
       "      <th>380</th>\n",
       "      <th>381</th>\n",
       "      <th>382</th>\n",
       "      <th>383</th>\n",
       "    </tr>\n",
       "  </thead>\n",
       "  <tbody>\n",
       "    <tr>\n",
       "      <th>0</th>\n",
       "      <td>0.006936</td>\n",
       "      <td>0.106313</td>\n",
       "      <td>0.042797</td>\n",
       "      <td>0.067573</td>\n",
       "      <td>0.006167</td>\n",
       "      <td>-0.007845</td>\n",
       "      <td>0.017268</td>\n",
       "      <td>0.007687</td>\n",
       "      <td>-0.037929</td>\n",
       "      <td>0.085506</td>\n",
       "      <td>...</td>\n",
       "      <td>-0.051656</td>\n",
       "      <td>-0.008418</td>\n",
       "      <td>-0.013029</td>\n",
       "      <td>-0.051347</td>\n",
       "      <td>-0.016031</td>\n",
       "      <td>-0.071335</td>\n",
       "      <td>0.045396</td>\n",
       "      <td>0.042731</td>\n",
       "      <td>-0.066121</td>\n",
       "      <td>0.090211</td>\n",
       "    </tr>\n",
       "    <tr>\n",
       "      <th>1</th>\n",
       "      <td>0.006936</td>\n",
       "      <td>0.106313</td>\n",
       "      <td>0.042797</td>\n",
       "      <td>0.067573</td>\n",
       "      <td>0.006167</td>\n",
       "      <td>-0.007845</td>\n",
       "      <td>0.017268</td>\n",
       "      <td>0.007687</td>\n",
       "      <td>-0.037929</td>\n",
       "      <td>0.085506</td>\n",
       "      <td>...</td>\n",
       "      <td>-0.051656</td>\n",
       "      <td>-0.008418</td>\n",
       "      <td>-0.013029</td>\n",
       "      <td>-0.051347</td>\n",
       "      <td>-0.016031</td>\n",
       "      <td>-0.071335</td>\n",
       "      <td>0.045396</td>\n",
       "      <td>0.042731</td>\n",
       "      <td>-0.066121</td>\n",
       "      <td>0.090211</td>\n",
       "    </tr>\n",
       "    <tr>\n",
       "      <th>2</th>\n",
       "      <td>-0.052056</td>\n",
       "      <td>0.058118</td>\n",
       "      <td>0.125764</td>\n",
       "      <td>-0.007410</td>\n",
       "      <td>-0.021002</td>\n",
       "      <td>0.021555</td>\n",
       "      <td>-0.000345</td>\n",
       "      <td>0.031823</td>\n",
       "      <td>-0.014067</td>\n",
       "      <td>-0.043889</td>\n",
       "      <td>...</td>\n",
       "      <td>-0.047827</td>\n",
       "      <td>-0.026463</td>\n",
       "      <td>0.002688</td>\n",
       "      <td>-0.035078</td>\n",
       "      <td>0.049227</td>\n",
       "      <td>-0.040045</td>\n",
       "      <td>-0.065161</td>\n",
       "      <td>-0.035616</td>\n",
       "      <td>-0.056526</td>\n",
       "      <td>0.049810</td>\n",
       "    </tr>\n",
       "    <tr>\n",
       "      <th>3</th>\n",
       "      <td>0.024926</td>\n",
       "      <td>0.049406</td>\n",
       "      <td>0.017942</td>\n",
       "      <td>0.066896</td>\n",
       "      <td>0.053024</td>\n",
       "      <td>0.031700</td>\n",
       "      <td>0.073195</td>\n",
       "      <td>0.026258</td>\n",
       "      <td>-0.007056</td>\n",
       "      <td>0.067373</td>\n",
       "      <td>...</td>\n",
       "      <td>-0.080481</td>\n",
       "      <td>-0.004132</td>\n",
       "      <td>-0.056895</td>\n",
       "      <td>0.015205</td>\n",
       "      <td>0.037044</td>\n",
       "      <td>0.014320</td>\n",
       "      <td>0.012618</td>\n",
       "      <td>-0.007463</td>\n",
       "      <td>-0.060123</td>\n",
       "      <td>-0.020369</td>\n",
       "    </tr>\n",
       "    <tr>\n",
       "      <th>4</th>\n",
       "      <td>-0.029774</td>\n",
       "      <td>0.006268</td>\n",
       "      <td>0.094309</td>\n",
       "      <td>0.025275</td>\n",
       "      <td>0.022137</td>\n",
       "      <td>-0.033800</td>\n",
       "      <td>0.030413</td>\n",
       "      <td>0.074909</td>\n",
       "      <td>0.009207</td>\n",
       "      <td>-0.055344</td>\n",
       "      <td>...</td>\n",
       "      <td>-0.084817</td>\n",
       "      <td>-0.026395</td>\n",
       "      <td>-0.065388</td>\n",
       "      <td>0.013431</td>\n",
       "      <td>-0.032176</td>\n",
       "      <td>-0.074009</td>\n",
       "      <td>-0.031882</td>\n",
       "      <td>-0.001911</td>\n",
       "      <td>0.016439</td>\n",
       "      <td>0.059413</td>\n",
       "    </tr>\n",
       "  </tbody>\n",
       "</table>\n",
       "<p>5 rows × 384 columns</p>\n",
       "</div>"
      ],
      "text/plain": [
       "        0         1         2         3         4         5         6    \\\n",
       "0  0.006936  0.106313  0.042797  0.067573  0.006167 -0.007845  0.017268   \n",
       "1  0.006936  0.106313  0.042797  0.067573  0.006167 -0.007845  0.017268   \n",
       "2 -0.052056  0.058118  0.125764 -0.007410 -0.021002  0.021555 -0.000345   \n",
       "3  0.024926  0.049406  0.017942  0.066896  0.053024  0.031700  0.073195   \n",
       "4 -0.029774  0.006268  0.094309  0.025275  0.022137 -0.033800  0.030413   \n",
       "\n",
       "        7         8         9    ...       374       375       376       377  \\\n",
       "0  0.007687 -0.037929  0.085506  ... -0.051656 -0.008418 -0.013029 -0.051347   \n",
       "1  0.007687 -0.037929  0.085506  ... -0.051656 -0.008418 -0.013029 -0.051347   \n",
       "2  0.031823 -0.014067 -0.043889  ... -0.047827 -0.026463  0.002688 -0.035078   \n",
       "3  0.026258 -0.007056  0.067373  ... -0.080481 -0.004132 -0.056895  0.015205   \n",
       "4  0.074909  0.009207 -0.055344  ... -0.084817 -0.026395 -0.065388  0.013431   \n",
       "\n",
       "        378       379       380       381       382       383  \n",
       "0 -0.016031 -0.071335  0.045396  0.042731 -0.066121  0.090211  \n",
       "1 -0.016031 -0.071335  0.045396  0.042731 -0.066121  0.090211  \n",
       "2  0.049227 -0.040045 -0.065161 -0.035616 -0.056526  0.049810  \n",
       "3  0.037044  0.014320  0.012618 -0.007463 -0.060123 -0.020369  \n",
       "4 -0.032176 -0.074009 -0.031882 -0.001911  0.016439  0.059413  \n",
       "\n",
       "[5 rows x 384 columns]"
      ]
     },
     "execution_count": 16,
     "metadata": {},
     "output_type": "execute_result"
    }
   ],
   "source": [
    "#loading all encodings to a dataframe\n",
    "df = pd.DataFrame(embeddings)\n",
    "df.head()"
   ]
  },
  {
   "cell_type": "code",
   "execution_count": 18,
   "id": "5d463cd2-b4cf-473a-a0a3-5b929526834a",
   "metadata": {},
   "outputs": [],
   "source": [
    "#loading the csv containing only primary keys\n",
    "text2 = pd.read_csv(r\"C:\\Users\\shanm\\OneDrive\\Desktop\\Kavya\\Spring 25\\NHTSA dataset-20250211T191427Z-002\\NHTSA dataset\\Complaints\\complaints_descriptions.csv\", usecols=['MAKETXT','MODELTXT','YEARTXT','COMPDESC'],low_memory = True)"
   ]
  },
  {
   "cell_type": "code",
   "execution_count": 20,
   "id": "6ead34c4-ea8d-47ec-a10a-c4eca423f917",
   "metadata": {},
   "outputs": [
    {
     "data": {
      "text/html": [
       "<div>\n",
       "<style scoped>\n",
       "    .dataframe tbody tr th:only-of-type {\n",
       "        vertical-align: middle;\n",
       "    }\n",
       "\n",
       "    .dataframe tbody tr th {\n",
       "        vertical-align: top;\n",
       "    }\n",
       "\n",
       "    .dataframe thead th {\n",
       "        text-align: right;\n",
       "    }\n",
       "</style>\n",
       "<table border=\"1\" class=\"dataframe\">\n",
       "  <thead>\n",
       "    <tr style=\"text-align: right;\">\n",
       "      <th></th>\n",
       "      <th>MAKETXT</th>\n",
       "      <th>MODELTXT</th>\n",
       "      <th>YEARTXT</th>\n",
       "      <th>COMPDESC</th>\n",
       "    </tr>\n",
       "  </thead>\n",
       "  <tbody>\n",
       "    <tr>\n",
       "      <th>0</th>\n",
       "      <td>FORD</td>\n",
       "      <td>EXPEDITION                                    ...</td>\n",
       "      <td>2008.0</td>\n",
       "      <td>VISIBILITY:POWER WINDOW DEVICES AND CONTROLS  ...</td>\n",
       "    </tr>\n",
       "    <tr>\n",
       "      <th>1</th>\n",
       "      <td>FORD</td>\n",
       "      <td>EXPEDITION                                    ...</td>\n",
       "      <td>2008.0</td>\n",
       "      <td>VEHICLE SPEED CONTROL                         ...</td>\n",
       "    </tr>\n",
       "    <tr>\n",
       "      <th>2</th>\n",
       "      <td>GULF STREAM</td>\n",
       "      <td>TOURMASTER                                    ...</td>\n",
       "      <td>2008.0</td>\n",
       "      <td>VISIBILITY                                    ...</td>\n",
       "    </tr>\n",
       "    <tr>\n",
       "      <th>3</th>\n",
       "      <td>VOLKSWAGEN</td>\n",
       "      <td>PASSAT                                        ...</td>\n",
       "      <td>2006.0</td>\n",
       "      <td>AIR BAGS                                      ...</td>\n",
       "    </tr>\n",
       "    <tr>\n",
       "      <th>4</th>\n",
       "      <td>MERCURY</td>\n",
       "      <td>SABLE                                         ...</td>\n",
       "      <td>2002.0</td>\n",
       "      <td>SUSPENSION:FRONT:SPRINGS:COIL SPRINGS         ...</td>\n",
       "    </tr>\n",
       "  </tbody>\n",
       "</table>\n",
       "</div>"
      ],
      "text/plain": [
       "                     MAKETXT  \\\n",
       "0  FORD                        \n",
       "1  FORD                        \n",
       "2  GULF STREAM                 \n",
       "3  VOLKSWAGEN                  \n",
       "4  MERCURY                     \n",
       "\n",
       "                                            MODELTXT  YEARTXT  \\\n",
       "0  EXPEDITION                                    ...   2008.0   \n",
       "1  EXPEDITION                                    ...   2008.0   \n",
       "2  TOURMASTER                                    ...   2008.0   \n",
       "3  PASSAT                                        ...   2006.0   \n",
       "4  SABLE                                         ...   2002.0   \n",
       "\n",
       "                                            COMPDESC  \n",
       "0  VISIBILITY:POWER WINDOW DEVICES AND CONTROLS  ...  \n",
       "1  VEHICLE SPEED CONTROL                         ...  \n",
       "2  VISIBILITY                                    ...  \n",
       "3  AIR BAGS                                      ...  \n",
       "4  SUSPENSION:FRONT:SPRINGS:COIL SPRINGS         ...  "
      ]
     },
     "execution_count": 20,
     "metadata": {},
     "output_type": "execute_result"
    }
   ],
   "source": [
    "text2.head()"
   ]
  },
  {
   "cell_type": "code",
   "execution_count": 23,
   "id": "ca5f60eb-1eb9-49a3-9f9d-bac7a1ac98ca",
   "metadata": {},
   "outputs": [],
   "source": [
    "#concatinating embeddings with primary keys to get concatenated embeddings\n",
    "pd.concat([text,df], axis=1).to_csv(r\"C:\\Users\\shanm\\OneDrive\\Desktop\\Kavya\\Spring 25\\NHTSA dataset-20250211T191427Z-002\\NHTSA dataset\\Complaints\\CT_embeddings.csv\")"
   ]
  },
  {
   "cell_type": "markdown",
   "id": "a063d09b-113a-4159-b936-3df3a788aeab",
   "metadata": {},
   "source": [
    "---"
   ]
  },
  {
   "cell_type": "markdown",
   "id": "0f794122-8180-4134-aa7c-d73b68bf42ba",
   "metadata": {},
   "source": [
    "Encoding is done and saved to a new csv. Using that csv to do the transformation"
   ]
  },
  {
   "cell_type": "code",
   "execution_count": 3,
   "id": "cfe13f86-370c-4708-a469-56b66a2f4394",
   "metadata": {},
   "outputs": [],
   "source": [
    "#reading the saved embeddings file for aggregation purpose\n",
    "embeddings = pd.read_csv(r\"C:\\Users\\shanm\\OneDrive\\Desktop\\Kavya\\Spring 25\\NHTSA dataset-20250211T191427Z-002\\NHTSA dataset\\Complaints\\CT_embeddings.csv\", low_memory = True)"
   ]
  },
  {
   "cell_type": "code",
   "execution_count": 4,
   "id": "9373b2d7-c75e-49ca-bd91-9ce580bb3043",
   "metadata": {},
   "outputs": [
    {
     "data": {
      "text/html": [
       "<div>\n",
       "<style scoped>\n",
       "    .dataframe tbody tr th:only-of-type {\n",
       "        vertical-align: middle;\n",
       "    }\n",
       "\n",
       "    .dataframe tbody tr th {\n",
       "        vertical-align: top;\n",
       "    }\n",
       "\n",
       "    .dataframe thead th {\n",
       "        text-align: right;\n",
       "    }\n",
       "</style>\n",
       "<table border=\"1\" class=\"dataframe\">\n",
       "  <thead>\n",
       "    <tr style=\"text-align: right;\">\n",
       "      <th></th>\n",
       "      <th>Unnamed: 0</th>\n",
       "      <th>MAKETXT</th>\n",
       "      <th>MODELTXT</th>\n",
       "      <th>YEARTXT</th>\n",
       "      <th>COMPDESC</th>\n",
       "      <th>0</th>\n",
       "      <th>1</th>\n",
       "      <th>2</th>\n",
       "      <th>3</th>\n",
       "      <th>4</th>\n",
       "      <th>...</th>\n",
       "      <th>374</th>\n",
       "      <th>375</th>\n",
       "      <th>376</th>\n",
       "      <th>377</th>\n",
       "      <th>378</th>\n",
       "      <th>379</th>\n",
       "      <th>380</th>\n",
       "      <th>381</th>\n",
       "      <th>382</th>\n",
       "      <th>383</th>\n",
       "    </tr>\n",
       "  </thead>\n",
       "  <tbody>\n",
       "    <tr>\n",
       "      <th>0</th>\n",
       "      <td>0</td>\n",
       "      <td>FORD</td>\n",
       "      <td>EXPEDITION                                    ...</td>\n",
       "      <td>2008.0</td>\n",
       "      <td>VISIBILITY:POWER WINDOW DEVICES AND CONTROLS  ...</td>\n",
       "      <td>0.006936</td>\n",
       "      <td>0.106313</td>\n",
       "      <td>0.042797</td>\n",
       "      <td>0.067573</td>\n",
       "      <td>0.006167</td>\n",
       "      <td>...</td>\n",
       "      <td>-0.051656</td>\n",
       "      <td>-0.008418</td>\n",
       "      <td>-0.013029</td>\n",
       "      <td>-0.051347</td>\n",
       "      <td>-0.016031</td>\n",
       "      <td>-0.071335</td>\n",
       "      <td>0.045396</td>\n",
       "      <td>0.042731</td>\n",
       "      <td>-0.066121</td>\n",
       "      <td>0.090211</td>\n",
       "    </tr>\n",
       "    <tr>\n",
       "      <th>1</th>\n",
       "      <td>1</td>\n",
       "      <td>FORD</td>\n",
       "      <td>EXPEDITION                                    ...</td>\n",
       "      <td>2008.0</td>\n",
       "      <td>VEHICLE SPEED CONTROL                         ...</td>\n",
       "      <td>0.006936</td>\n",
       "      <td>0.106313</td>\n",
       "      <td>0.042797</td>\n",
       "      <td>0.067573</td>\n",
       "      <td>0.006167</td>\n",
       "      <td>...</td>\n",
       "      <td>-0.051656</td>\n",
       "      <td>-0.008418</td>\n",
       "      <td>-0.013029</td>\n",
       "      <td>-0.051347</td>\n",
       "      <td>-0.016031</td>\n",
       "      <td>-0.071335</td>\n",
       "      <td>0.045396</td>\n",
       "      <td>0.042731</td>\n",
       "      <td>-0.066121</td>\n",
       "      <td>0.090211</td>\n",
       "    </tr>\n",
       "    <tr>\n",
       "      <th>2</th>\n",
       "      <td>2</td>\n",
       "      <td>GULF STREAM</td>\n",
       "      <td>TOURMASTER                                    ...</td>\n",
       "      <td>2008.0</td>\n",
       "      <td>VISIBILITY                                    ...</td>\n",
       "      <td>-0.052056</td>\n",
       "      <td>0.058118</td>\n",
       "      <td>0.125764</td>\n",
       "      <td>-0.007410</td>\n",
       "      <td>-0.021002</td>\n",
       "      <td>...</td>\n",
       "      <td>-0.047827</td>\n",
       "      <td>-0.026463</td>\n",
       "      <td>0.002688</td>\n",
       "      <td>-0.035078</td>\n",
       "      <td>0.049227</td>\n",
       "      <td>-0.040045</td>\n",
       "      <td>-0.065161</td>\n",
       "      <td>-0.035616</td>\n",
       "      <td>-0.056526</td>\n",
       "      <td>0.049810</td>\n",
       "    </tr>\n",
       "    <tr>\n",
       "      <th>3</th>\n",
       "      <td>3</td>\n",
       "      <td>VOLKSWAGEN</td>\n",
       "      <td>PASSAT                                        ...</td>\n",
       "      <td>2006.0</td>\n",
       "      <td>AIR BAGS                                      ...</td>\n",
       "      <td>0.024926</td>\n",
       "      <td>0.049406</td>\n",
       "      <td>0.017942</td>\n",
       "      <td>0.066896</td>\n",
       "      <td>0.053024</td>\n",
       "      <td>...</td>\n",
       "      <td>-0.080481</td>\n",
       "      <td>-0.004132</td>\n",
       "      <td>-0.056895</td>\n",
       "      <td>0.015205</td>\n",
       "      <td>0.037044</td>\n",
       "      <td>0.014320</td>\n",
       "      <td>0.012618</td>\n",
       "      <td>-0.007463</td>\n",
       "      <td>-0.060123</td>\n",
       "      <td>-0.020369</td>\n",
       "    </tr>\n",
       "    <tr>\n",
       "      <th>4</th>\n",
       "      <td>4</td>\n",
       "      <td>MERCURY</td>\n",
       "      <td>SABLE                                         ...</td>\n",
       "      <td>2002.0</td>\n",
       "      <td>SUSPENSION:FRONT:SPRINGS:COIL SPRINGS         ...</td>\n",
       "      <td>-0.029774</td>\n",
       "      <td>0.006268</td>\n",
       "      <td>0.094309</td>\n",
       "      <td>0.025275</td>\n",
       "      <td>0.022137</td>\n",
       "      <td>...</td>\n",
       "      <td>-0.084817</td>\n",
       "      <td>-0.026395</td>\n",
       "      <td>-0.065388</td>\n",
       "      <td>0.013431</td>\n",
       "      <td>-0.032176</td>\n",
       "      <td>-0.074009</td>\n",
       "      <td>-0.031882</td>\n",
       "      <td>-0.001911</td>\n",
       "      <td>0.016439</td>\n",
       "      <td>0.059413</td>\n",
       "    </tr>\n",
       "  </tbody>\n",
       "</table>\n",
       "<p>5 rows × 389 columns</p>\n",
       "</div>"
      ],
      "text/plain": [
       "   Unnamed: 0                    MAKETXT  \\\n",
       "0           0  FORD                        \n",
       "1           1  FORD                        \n",
       "2           2  GULF STREAM                 \n",
       "3           3  VOLKSWAGEN                  \n",
       "4           4  MERCURY                     \n",
       "\n",
       "                                            MODELTXT  YEARTXT  \\\n",
       "0  EXPEDITION                                    ...   2008.0   \n",
       "1  EXPEDITION                                    ...   2008.0   \n",
       "2  TOURMASTER                                    ...   2008.0   \n",
       "3  PASSAT                                        ...   2006.0   \n",
       "4  SABLE                                         ...   2002.0   \n",
       "\n",
       "                                            COMPDESC         0         1  \\\n",
       "0  VISIBILITY:POWER WINDOW DEVICES AND CONTROLS  ...  0.006936  0.106313   \n",
       "1  VEHICLE SPEED CONTROL                         ...  0.006936  0.106313   \n",
       "2  VISIBILITY                                    ... -0.052056  0.058118   \n",
       "3  AIR BAGS                                      ...  0.024926  0.049406   \n",
       "4  SUSPENSION:FRONT:SPRINGS:COIL SPRINGS         ... -0.029774  0.006268   \n",
       "\n",
       "          2         3         4  ...       374       375       376       377  \\\n",
       "0  0.042797  0.067573  0.006167  ... -0.051656 -0.008418 -0.013029 -0.051347   \n",
       "1  0.042797  0.067573  0.006167  ... -0.051656 -0.008418 -0.013029 -0.051347   \n",
       "2  0.125764 -0.007410 -0.021002  ... -0.047827 -0.026463  0.002688 -0.035078   \n",
       "3  0.017942  0.066896  0.053024  ... -0.080481 -0.004132 -0.056895  0.015205   \n",
       "4  0.094309  0.025275  0.022137  ... -0.084817 -0.026395 -0.065388  0.013431   \n",
       "\n",
       "        378       379       380       381       382       383  \n",
       "0 -0.016031 -0.071335  0.045396  0.042731 -0.066121  0.090211  \n",
       "1 -0.016031 -0.071335  0.045396  0.042731 -0.066121  0.090211  \n",
       "2  0.049227 -0.040045 -0.065161 -0.035616 -0.056526  0.049810  \n",
       "3  0.037044  0.014320  0.012618 -0.007463 -0.060123 -0.020369  \n",
       "4 -0.032176 -0.074009 -0.031882 -0.001911  0.016439  0.059413  \n",
       "\n",
       "[5 rows x 389 columns]"
      ]
     },
     "execution_count": 4,
     "metadata": {},
     "output_type": "execute_result"
    }
   ],
   "source": [
    "embeddings.head()"
   ]
  },
  {
   "cell_type": "code",
   "execution_count": 5,
   "id": "670a88c8-4193-456b-90da-2b07e6689d45",
   "metadata": {},
   "outputs": [],
   "source": [
    "#embeddings.drop('Unnamed: 0', axis = 1, inplace = True)"
   ]
  },
  {
   "cell_type": "code",
   "execution_count": 6,
   "id": "6f9b1323-5b9c-459a-957c-81788b9a30b4",
   "metadata": {},
   "outputs": [],
   "source": [
    "#creating a dictionary for every column in agg_embs for performing aggreation by mean\n",
    "emb_columns = [f\"{i}\" for i in range(0, 384)]  \n",
    "\n",
    "agg_dict = {col: 'mean' for col in emb_columns}"
   ]
  },
  {
   "cell_type": "code",
   "execution_count": 7,
   "id": "ce132256-04f2-46b5-8ea3-3209f748e2bb",
   "metadata": {},
   "outputs": [],
   "source": [
    "#aggregating the complaints in primary key level by taking mean of all embeddings\n",
    "agg_embs = embeddings.groupby(['MAKETXT','MODELTXT','YEARTXT','COMPDESC']).agg(agg_dict).reset_index()"
   ]
  },
  {
   "cell_type": "code",
   "execution_count": 8,
   "id": "f855d797-f2cf-4141-b34d-aa9585344e84",
   "metadata": {},
   "outputs": [],
   "source": [
    "import re\n",
    " \n",
    "# Standardize column to match investigation dataset\n",
    "def clean_make_column(make):\n",
    "    if pd.isna(make):  # Handle NaN values\n",
    "        return None\n",
    "    make = make.strip().upper()  # Remove spaces and convert to uppercase\n",
    "    #make = re.sub(r'[^A-Z0-9 -]', '', make)  # Remove non-alphanumeric characters except spaces and hyphens\n",
    "    make = re.sub(r'\\s+', ' ', make)  # Normalize multiple spaces\n",
    " \n",
    "    return make"
   ]
  },
  {
   "cell_type": "code",
   "execution_count": 9,
   "id": "6d419a45-e1f4-4a81-9864-299ed105fe2f",
   "metadata": {},
   "outputs": [],
   "source": [
    "# Apply cleaning function in agg_embs\n",
    "agg_embs['MAKETXT'] = agg_embs['MAKETXT'].apply(clean_make_column)\n",
    "agg_embs['MODELTXT'] = agg_embs['MODELTXT'].apply(clean_make_column)\n",
    "#agg_embs['YEARTXT'] = agg_embs['YEARTXT'].apply(clean_make_column)\n",
    "agg_embs['COMPDESC'] = agg_embs['COMPDESC'].apply(clean_make_column)"
   ]
  },
  {
   "cell_type": "code",
   "execution_count": 10,
   "id": "ff721ad1-627a-4ac3-b3b0-c5ea2f85a37b",
   "metadata": {},
   "outputs": [],
   "source": [
    "target = pd.read_csv(r\"C:\\Users\\shanm\\OneDrive\\Desktop\\Kavya\\Spring 25\\NHTSA dataset-20250211T191427Z-002\\NHTSA dataset\\Target\\target_only_rcl_inv.csv\", low_memory = True)"
   ]
  },
  {
   "cell_type": "code",
   "execution_count": 11,
   "id": "44713e5d-00be-4356-aba6-08a9a7dd4530",
   "metadata": {},
   "outputs": [],
   "source": [
    "#creating a list to pass inside merge function\n",
    "lists = agg_embs.columns.tolist()"
   ]
  },
  {
   "cell_type": "code",
   "execution_count": 12,
   "id": "28c36931-f3b9-4937-8020-0500cdbad2c3",
   "metadata": {
    "scrolled": true
   },
   "outputs": [
    {
     "data": {
      "text/plain": [
       "['MAKETXT',\n",
       " 'MODELTXT',\n",
       " 'YEARTXT',\n",
       " 'COMPDESC',\n",
       " '0',\n",
       " '1',\n",
       " '2',\n",
       " '3',\n",
       " '4',\n",
       " '5',\n",
       " '6',\n",
       " '7',\n",
       " '8',\n",
       " '9',\n",
       " '10',\n",
       " '11',\n",
       " '12',\n",
       " '13',\n",
       " '14',\n",
       " '15',\n",
       " '16',\n",
       " '17',\n",
       " '18',\n",
       " '19',\n",
       " '20',\n",
       " '21',\n",
       " '22',\n",
       " '23',\n",
       " '24',\n",
       " '25',\n",
       " '26',\n",
       " '27',\n",
       " '28',\n",
       " '29',\n",
       " '30',\n",
       " '31',\n",
       " '32',\n",
       " '33',\n",
       " '34',\n",
       " '35',\n",
       " '36',\n",
       " '37',\n",
       " '38',\n",
       " '39',\n",
       " '40',\n",
       " '41',\n",
       " '42',\n",
       " '43',\n",
       " '44',\n",
       " '45',\n",
       " '46',\n",
       " '47',\n",
       " '48',\n",
       " '49',\n",
       " '50',\n",
       " '51',\n",
       " '52',\n",
       " '53',\n",
       " '54',\n",
       " '55',\n",
       " '56',\n",
       " '57',\n",
       " '58',\n",
       " '59',\n",
       " '60',\n",
       " '61',\n",
       " '62',\n",
       " '63',\n",
       " '64',\n",
       " '65',\n",
       " '66',\n",
       " '67',\n",
       " '68',\n",
       " '69',\n",
       " '70',\n",
       " '71',\n",
       " '72',\n",
       " '73',\n",
       " '74',\n",
       " '75',\n",
       " '76',\n",
       " '77',\n",
       " '78',\n",
       " '79',\n",
       " '80',\n",
       " '81',\n",
       " '82',\n",
       " '83',\n",
       " '84',\n",
       " '85',\n",
       " '86',\n",
       " '87',\n",
       " '88',\n",
       " '89',\n",
       " '90',\n",
       " '91',\n",
       " '92',\n",
       " '93',\n",
       " '94',\n",
       " '95',\n",
       " '96',\n",
       " '97',\n",
       " '98',\n",
       " '99',\n",
       " '100',\n",
       " '101',\n",
       " '102',\n",
       " '103',\n",
       " '104',\n",
       " '105',\n",
       " '106',\n",
       " '107',\n",
       " '108',\n",
       " '109',\n",
       " '110',\n",
       " '111',\n",
       " '112',\n",
       " '113',\n",
       " '114',\n",
       " '115',\n",
       " '116',\n",
       " '117',\n",
       " '118',\n",
       " '119',\n",
       " '120',\n",
       " '121',\n",
       " '122',\n",
       " '123',\n",
       " '124',\n",
       " '125',\n",
       " '126',\n",
       " '127',\n",
       " '128',\n",
       " '129',\n",
       " '130',\n",
       " '131',\n",
       " '132',\n",
       " '133',\n",
       " '134',\n",
       " '135',\n",
       " '136',\n",
       " '137',\n",
       " '138',\n",
       " '139',\n",
       " '140',\n",
       " '141',\n",
       " '142',\n",
       " '143',\n",
       " '144',\n",
       " '145',\n",
       " '146',\n",
       " '147',\n",
       " '148',\n",
       " '149',\n",
       " '150',\n",
       " '151',\n",
       " '152',\n",
       " '153',\n",
       " '154',\n",
       " '155',\n",
       " '156',\n",
       " '157',\n",
       " '158',\n",
       " '159',\n",
       " '160',\n",
       " '161',\n",
       " '162',\n",
       " '163',\n",
       " '164',\n",
       " '165',\n",
       " '166',\n",
       " '167',\n",
       " '168',\n",
       " '169',\n",
       " '170',\n",
       " '171',\n",
       " '172',\n",
       " '173',\n",
       " '174',\n",
       " '175',\n",
       " '176',\n",
       " '177',\n",
       " '178',\n",
       " '179',\n",
       " '180',\n",
       " '181',\n",
       " '182',\n",
       " '183',\n",
       " '184',\n",
       " '185',\n",
       " '186',\n",
       " '187',\n",
       " '188',\n",
       " '189',\n",
       " '190',\n",
       " '191',\n",
       " '192',\n",
       " '193',\n",
       " '194',\n",
       " '195',\n",
       " '196',\n",
       " '197',\n",
       " '198',\n",
       " '199',\n",
       " '200',\n",
       " '201',\n",
       " '202',\n",
       " '203',\n",
       " '204',\n",
       " '205',\n",
       " '206',\n",
       " '207',\n",
       " '208',\n",
       " '209',\n",
       " '210',\n",
       " '211',\n",
       " '212',\n",
       " '213',\n",
       " '214',\n",
       " '215',\n",
       " '216',\n",
       " '217',\n",
       " '218',\n",
       " '219',\n",
       " '220',\n",
       " '221',\n",
       " '222',\n",
       " '223',\n",
       " '224',\n",
       " '225',\n",
       " '226',\n",
       " '227',\n",
       " '228',\n",
       " '229',\n",
       " '230',\n",
       " '231',\n",
       " '232',\n",
       " '233',\n",
       " '234',\n",
       " '235',\n",
       " '236',\n",
       " '237',\n",
       " '238',\n",
       " '239',\n",
       " '240',\n",
       " '241',\n",
       " '242',\n",
       " '243',\n",
       " '244',\n",
       " '245',\n",
       " '246',\n",
       " '247',\n",
       " '248',\n",
       " '249',\n",
       " '250',\n",
       " '251',\n",
       " '252',\n",
       " '253',\n",
       " '254',\n",
       " '255',\n",
       " '256',\n",
       " '257',\n",
       " '258',\n",
       " '259',\n",
       " '260',\n",
       " '261',\n",
       " '262',\n",
       " '263',\n",
       " '264',\n",
       " '265',\n",
       " '266',\n",
       " '267',\n",
       " '268',\n",
       " '269',\n",
       " '270',\n",
       " '271',\n",
       " '272',\n",
       " '273',\n",
       " '274',\n",
       " '275',\n",
       " '276',\n",
       " '277',\n",
       " '278',\n",
       " '279',\n",
       " '280',\n",
       " '281',\n",
       " '282',\n",
       " '283',\n",
       " '284',\n",
       " '285',\n",
       " '286',\n",
       " '287',\n",
       " '288',\n",
       " '289',\n",
       " '290',\n",
       " '291',\n",
       " '292',\n",
       " '293',\n",
       " '294',\n",
       " '295',\n",
       " '296',\n",
       " '297',\n",
       " '298',\n",
       " '299',\n",
       " '300',\n",
       " '301',\n",
       " '302',\n",
       " '303',\n",
       " '304',\n",
       " '305',\n",
       " '306',\n",
       " '307',\n",
       " '308',\n",
       " '309',\n",
       " '310',\n",
       " '311',\n",
       " '312',\n",
       " '313',\n",
       " '314',\n",
       " '315',\n",
       " '316',\n",
       " '317',\n",
       " '318',\n",
       " '319',\n",
       " '320',\n",
       " '321',\n",
       " '322',\n",
       " '323',\n",
       " '324',\n",
       " '325',\n",
       " '326',\n",
       " '327',\n",
       " '328',\n",
       " '329',\n",
       " '330',\n",
       " '331',\n",
       " '332',\n",
       " '333',\n",
       " '334',\n",
       " '335',\n",
       " '336',\n",
       " '337',\n",
       " '338',\n",
       " '339',\n",
       " '340',\n",
       " '341',\n",
       " '342',\n",
       " '343',\n",
       " '344',\n",
       " '345',\n",
       " '346',\n",
       " '347',\n",
       " '348',\n",
       " '349',\n",
       " '350',\n",
       " '351',\n",
       " '352',\n",
       " '353',\n",
       " '354',\n",
       " '355',\n",
       " '356',\n",
       " '357',\n",
       " '358',\n",
       " '359',\n",
       " '360',\n",
       " '361',\n",
       " '362',\n",
       " '363',\n",
       " '364',\n",
       " '365',\n",
       " '366',\n",
       " '367',\n",
       " '368',\n",
       " '369',\n",
       " '370',\n",
       " '371',\n",
       " '372',\n",
       " '373',\n",
       " '374',\n",
       " '375',\n",
       " '376',\n",
       " '377',\n",
       " '378',\n",
       " '379',\n",
       " '380',\n",
       " '381',\n",
       " '382',\n",
       " '383',\n",
       " 'TARGET']"
      ]
     },
     "execution_count": 12,
     "metadata": {},
     "output_type": "execute_result"
    }
   ],
   "source": [
    "#adding a new string 'Target' to pass\n",
    "lists.append('TARGET')\n",
    "lists"
   ]
  },
  {
   "cell_type": "code",
   "execution_count": 13,
   "id": "1bc62fd7-b401-4316-ad04-f69b8237b8cd",
   "metadata": {},
   "outputs": [],
   "source": [
    "#joining the aggregated complaints embeddings and target values for training the deeplearninig model\n",
    "agg_embs = agg_embs.merge(target, how = 'left', left_on = ['MAKETXT','MODELTXT','YEARTXT','COMPDESC'], right_on = ['MAKE', 'MODEL', 'YEAR', 'COMPNAME'])[lists] "
   ]
  },
  {
   "cell_type": "code",
   "execution_count": 14,
   "id": "617d2b4e-29c2-4f7d-b6da-9efc81882c22",
   "metadata": {},
   "outputs": [],
   "source": [
    "#Modifying the target to column by identifying where target rows is null, replacing it with zero and considering it as low_risk category\n",
    "agg_embs['TARGET'] = np.where(agg_embs['TARGET'].isna(),0,agg_embs['TARGET'])"
   ]
  },
  {
   "cell_type": "code",
   "execution_count": 15,
   "id": "d69a04d6-8c8a-460e-9f00-3a860f7b8740",
   "metadata": {},
   "outputs": [
    {
     "data": {
      "text/plain": [
       "0.0    164566\n",
       "1.0      4750\n",
       "2.0      1109\n",
       "Name: TARGET, dtype: int64"
      ]
     },
     "execution_count": 15,
     "metadata": {},
     "output_type": "execute_result"
    }
   ],
   "source": [
    "#final target class distribution\n",
    "agg_embs['TARGET'].value_counts()"
   ]
  },
  {
   "cell_type": "code",
   "execution_count": 16,
   "id": "930b46f0-ce13-4da9-a8ab-4b774a68bfb3",
   "metadata": {},
   "outputs": [],
   "source": [
    "# Saving to CSV\n",
    "agg_embs.to_csv(r\"C:\\Users\\shanm\\OneDrive\\Desktop\\Kavya\\Spring 25\\NHTSA dataset-20250211T191427Z-002\\NHTSA dataset\\Target\\agg_embs.csv\", index=False, encoding='utf-8')"
   ]
  },
  {
   "cell_type": "code",
   "execution_count": 20,
   "id": "168b54c3-ea5b-4ecf-91d4-70a1d21f48d7",
   "metadata": {},
   "outputs": [
    {
     "name": "stdout",
     "output_type": "stream",
     "text": [
      "CSV file saved successfully!\n"
     ]
    }
   ],
   "source": [
    "#final dataset with only primary keys and target values\n",
    "import pandas as pd\n",
    "\n",
    "# Selecting the required columns\n",
    "selected_columns = ['MAKETXT', 'MODELTXT', 'YEARTXT', 'COMPDESC', 'TARGET']\n",
    "target_dist = agg_embs[selected_columns]\n",
    "\n",
    "# Saving to CSV\n",
    "target_dist.to_csv(r\"C:\\Users\\shanm\\OneDrive\\Desktop\\Kavya\\Spring 25\\NHTSA dataset-20250211T191427Z-002\\NHTSA dataset\\Target\\target_dist.csv\", index=False, encoding='utf-8')\n",
    "\n",
    "print(\"CSV file saved successfully!\")\n"
   ]
  },
  {
   "cell_type": "code",
   "execution_count": 12,
   "id": "4340d345-2579-4820-89de-add885ea04c7",
   "metadata": {},
   "outputs": [],
   "source": [
    "#check\n",
    "#check = target.merge(agg_embs, how = 'left', right_on = ['MAKETXT','MODELTXT','YEARTXT','COMPDESC'], left_on = ['MAKE', 'MODEL', 'YEAR', 'COMPNAME'])[['MAKE', 'MODEL', 'YEAR', 'COMPNAME','TARGET','RCL_IND', 'INV_IND','MAKETXT','MODELTXT','YEARTXT','COMPDESC']]"
   ]
  },
  {
   "cell_type": "code",
   "execution_count": null,
   "id": "c2c26042-7c18-4bc3-b59c-94b01c81f662",
   "metadata": {},
   "outputs": [],
   "source": [
    "#check[check['MAKETXT'].isna()]"
   ]
  },
  {
   "cell_type": "code",
   "execution_count": null,
   "id": "5db21a01-33db-4c01-85af-003c51772575",
   "metadata": {},
   "outputs": [],
   "source": [
    "#check[(check['MAKE'] == 'PACE AMERICAN') ]"
   ]
  },
  {
   "cell_type": "markdown",
   "id": "bc7ded32-c54d-4440-b2f0-7cff2dc2235a",
   "metadata": {},
   "source": [
    "---"
   ]
  },
  {
   "cell_type": "markdown",
   "id": "9f983672-e63c-4889-9c2e-49ac66c2d510",
   "metadata": {},
   "source": [
    "### Deep Learning Model"
   ]
  },
  {
   "cell_type": "code",
   "execution_count": 17,
   "id": "381cb2f8-d5e8-49bf-a505-0686560e552a",
   "metadata": {},
   "outputs": [],
   "source": [
    "# Importing necessary libraries from Keras\n",
    "import tensorflow as tf\n",
    "from tensorflow import keras\n",
    "from tensorflow.keras.models import Sequential\n",
    "from tensorflow.keras.layers import Dense, Dropout, Flatten, Conv2D, MaxPooling2D, LSTM\n",
    "from tensorflow.keras.optimizers import Adam\n",
    "from tensorflow.keras.losses import categorical_crossentropy\n",
    "from tensorflow.keras.utils import to_categorical\n",
    "from tensorflow.keras.preprocessing.image import ImageDataGenerator\n",
    "from tensorflow.keras.callbacks import EarlyStopping, ReduceLROnPlateau\n"
   ]
  },
  {
   "cell_type": "code",
   "execution_count": 18,
   "id": "49ad5309-c549-4d7a-936a-e65ea8b0dfc2",
   "metadata": {},
   "outputs": [
    {
     "data": {
      "text/html": [
       "<pre style=\"white-space:pre;overflow-x:auto;line-height:normal;font-family:Menlo,'DejaVu Sans Mono',consolas,'Courier New',monospace\"><span style=\"font-weight: bold\">Model: \"sequential\"</span>\n",
       "</pre>\n"
      ],
      "text/plain": [
       "\u001b[1mModel: \"sequential\"\u001b[0m\n"
      ]
     },
     "metadata": {},
     "output_type": "display_data"
    },
    {
     "data": {
      "text/html": [
       "<pre style=\"white-space:pre;overflow-x:auto;line-height:normal;font-family:Menlo,'DejaVu Sans Mono',consolas,'Courier New',monospace\">┏━━━━━━━━━━━━━━━━━━━━━━━━━━━━━━━━━━━━━━┳━━━━━━━━━━━━━━━━━━━━━━━━━━━━━┳━━━━━━━━━━━━━━━━━┓\n",
       "┃<span style=\"font-weight: bold\"> Layer (type)                         </span>┃<span style=\"font-weight: bold\"> Output Shape                </span>┃<span style=\"font-weight: bold\">         Param # </span>┃\n",
       "┡━━━━━━━━━━━━━━━━━━━━━━━━━━━━━━━━━━━━━━╇━━━━━━━━━━━━━━━━━━━━━━━━━━━━━╇━━━━━━━━━━━━━━━━━┩\n",
       "│ dense (<span style=\"color: #0087ff; text-decoration-color: #0087ff\">Dense</span>)                        │ (<span style=\"color: #00d7ff; text-decoration-color: #00d7ff\">None</span>, <span style=\"color: #00af00; text-decoration-color: #00af00\">500</span>)                 │         <span style=\"color: #00af00; text-decoration-color: #00af00\">192,500</span> │\n",
       "├──────────────────────────────────────┼─────────────────────────────┼─────────────────┤\n",
       "│ dropout (<span style=\"color: #0087ff; text-decoration-color: #0087ff\">Dropout</span>)                    │ (<span style=\"color: #00d7ff; text-decoration-color: #00d7ff\">None</span>, <span style=\"color: #00af00; text-decoration-color: #00af00\">500</span>)                 │               <span style=\"color: #00af00; text-decoration-color: #00af00\">0</span> │\n",
       "├──────────────────────────────────────┼─────────────────────────────┼─────────────────┤\n",
       "│ dense_1 (<span style=\"color: #0087ff; text-decoration-color: #0087ff\">Dense</span>)                      │ (<span style=\"color: #00d7ff; text-decoration-color: #00d7ff\">None</span>, <span style=\"color: #00af00; text-decoration-color: #00af00\">250</span>)                 │         <span style=\"color: #00af00; text-decoration-color: #00af00\">125,250</span> │\n",
       "├──────────────────────────────────────┼─────────────────────────────┼─────────────────┤\n",
       "│ dropout_1 (<span style=\"color: #0087ff; text-decoration-color: #0087ff\">Dropout</span>)                  │ (<span style=\"color: #00d7ff; text-decoration-color: #00d7ff\">None</span>, <span style=\"color: #00af00; text-decoration-color: #00af00\">250</span>)                 │               <span style=\"color: #00af00; text-decoration-color: #00af00\">0</span> │\n",
       "├──────────────────────────────────────┼─────────────────────────────┼─────────────────┤\n",
       "│ dense_2 (<span style=\"color: #0087ff; text-decoration-color: #0087ff\">Dense</span>)                      │ (<span style=\"color: #00d7ff; text-decoration-color: #00d7ff\">None</span>, <span style=\"color: #00af00; text-decoration-color: #00af00\">100</span>)                 │          <span style=\"color: #00af00; text-decoration-color: #00af00\">25,100</span> │\n",
       "├──────────────────────────────────────┼─────────────────────────────┼─────────────────┤\n",
       "│ dense_3 (<span style=\"color: #0087ff; text-decoration-color: #0087ff\">Dense</span>)                      │ (<span style=\"color: #00d7ff; text-decoration-color: #00d7ff\">None</span>, <span style=\"color: #00af00; text-decoration-color: #00af00\">50</span>)                  │           <span style=\"color: #00af00; text-decoration-color: #00af00\">5,050</span> │\n",
       "├──────────────────────────────────────┼─────────────────────────────┼─────────────────┤\n",
       "│ dense_4 (<span style=\"color: #0087ff; text-decoration-color: #0087ff\">Dense</span>)                      │ (<span style=\"color: #00d7ff; text-decoration-color: #00d7ff\">None</span>, <span style=\"color: #00af00; text-decoration-color: #00af00\">3</span>)                   │             <span style=\"color: #00af00; text-decoration-color: #00af00\">153</span> │\n",
       "└──────────────────────────────────────┴─────────────────────────────┴─────────────────┘\n",
       "</pre>\n"
      ],
      "text/plain": [
       "┏━━━━━━━━━━━━━━━━━━━━━━━━━━━━━━━━━━━━━━┳━━━━━━━━━━━━━━━━━━━━━━━━━━━━━┳━━━━━━━━━━━━━━━━━┓\n",
       "┃\u001b[1m \u001b[0m\u001b[1mLayer (type)                        \u001b[0m\u001b[1m \u001b[0m┃\u001b[1m \u001b[0m\u001b[1mOutput Shape               \u001b[0m\u001b[1m \u001b[0m┃\u001b[1m \u001b[0m\u001b[1m        Param #\u001b[0m\u001b[1m \u001b[0m┃\n",
       "┡━━━━━━━━━━━━━━━━━━━━━━━━━━━━━━━━━━━━━━╇━━━━━━━━━━━━━━━━━━━━━━━━━━━━━╇━━━━━━━━━━━━━━━━━┩\n",
       "│ dense (\u001b[38;5;33mDense\u001b[0m)                        │ (\u001b[38;5;45mNone\u001b[0m, \u001b[38;5;34m500\u001b[0m)                 │         \u001b[38;5;34m192,500\u001b[0m │\n",
       "├──────────────────────────────────────┼─────────────────────────────┼─────────────────┤\n",
       "│ dropout (\u001b[38;5;33mDropout\u001b[0m)                    │ (\u001b[38;5;45mNone\u001b[0m, \u001b[38;5;34m500\u001b[0m)                 │               \u001b[38;5;34m0\u001b[0m │\n",
       "├──────────────────────────────────────┼─────────────────────────────┼─────────────────┤\n",
       "│ dense_1 (\u001b[38;5;33mDense\u001b[0m)                      │ (\u001b[38;5;45mNone\u001b[0m, \u001b[38;5;34m250\u001b[0m)                 │         \u001b[38;5;34m125,250\u001b[0m │\n",
       "├──────────────────────────────────────┼─────────────────────────────┼─────────────────┤\n",
       "│ dropout_1 (\u001b[38;5;33mDropout\u001b[0m)                  │ (\u001b[38;5;45mNone\u001b[0m, \u001b[38;5;34m250\u001b[0m)                 │               \u001b[38;5;34m0\u001b[0m │\n",
       "├──────────────────────────────────────┼─────────────────────────────┼─────────────────┤\n",
       "│ dense_2 (\u001b[38;5;33mDense\u001b[0m)                      │ (\u001b[38;5;45mNone\u001b[0m, \u001b[38;5;34m100\u001b[0m)                 │          \u001b[38;5;34m25,100\u001b[0m │\n",
       "├──────────────────────────────────────┼─────────────────────────────┼─────────────────┤\n",
       "│ dense_3 (\u001b[38;5;33mDense\u001b[0m)                      │ (\u001b[38;5;45mNone\u001b[0m, \u001b[38;5;34m50\u001b[0m)                  │           \u001b[38;5;34m5,050\u001b[0m │\n",
       "├──────────────────────────────────────┼─────────────────────────────┼─────────────────┤\n",
       "│ dense_4 (\u001b[38;5;33mDense\u001b[0m)                      │ (\u001b[38;5;45mNone\u001b[0m, \u001b[38;5;34m3\u001b[0m)                   │             \u001b[38;5;34m153\u001b[0m │\n",
       "└──────────────────────────────────────┴─────────────────────────────┴─────────────────┘\n"
      ]
     },
     "metadata": {},
     "output_type": "display_data"
    },
    {
     "data": {
      "text/html": [
       "<pre style=\"white-space:pre;overflow-x:auto;line-height:normal;font-family:Menlo,'DejaVu Sans Mono',consolas,'Courier New',monospace\"><span style=\"font-weight: bold\"> Total params: </span><span style=\"color: #00af00; text-decoration-color: #00af00\">348,053</span> (1.33 MB)\n",
       "</pre>\n"
      ],
      "text/plain": [
       "\u001b[1m Total params: \u001b[0m\u001b[38;5;34m348,053\u001b[0m (1.33 MB)\n"
      ]
     },
     "metadata": {},
     "output_type": "display_data"
    },
    {
     "data": {
      "text/html": [
       "<pre style=\"white-space:pre;overflow-x:auto;line-height:normal;font-family:Menlo,'DejaVu Sans Mono',consolas,'Courier New',monospace\"><span style=\"font-weight: bold\"> Trainable params: </span><span style=\"color: #00af00; text-decoration-color: #00af00\">348,053</span> (1.33 MB)\n",
       "</pre>\n"
      ],
      "text/plain": [
       "\u001b[1m Trainable params: \u001b[0m\u001b[38;5;34m348,053\u001b[0m (1.33 MB)\n"
      ]
     },
     "metadata": {},
     "output_type": "display_data"
    },
    {
     "data": {
      "text/html": [
       "<pre style=\"white-space:pre;overflow-x:auto;line-height:normal;font-family:Menlo,'DejaVu Sans Mono',consolas,'Courier New',monospace\"><span style=\"font-weight: bold\"> Non-trainable params: </span><span style=\"color: #00af00; text-decoration-color: #00af00\">0</span> (0.00 B)\n",
       "</pre>\n"
      ],
      "text/plain": [
       "\u001b[1m Non-trainable params: \u001b[0m\u001b[38;5;34m0\u001b[0m (0.00 B)\n"
      ]
     },
     "metadata": {},
     "output_type": "display_data"
    }
   ],
   "source": [
    "#build NN_architecture\n",
    "model=Sequential()\n",
    "model.add(Dense(500,input_shape=(384,),activation='relu'))\n",
    "model.add(Dropout(0.3))\n",
    "model.add(Dense(250,activation='relu'))\n",
    "model.add(Dropout(0.2))\n",
    "model.add(Dense(100,activation='relu'))\n",
    "model.add(Dense(50,activation='relu'))\n",
    "model.add(Dense(3,activation='softmax'))\n",
    "\n",
    "# Compile the model\n",
    "model.compile(optimizer='adam',\n",
    "              loss='categorical_crossentropy',\n",
    "              metrics=[tf.keras.metrics.AUC(name='auc', multi_label=True), 'accuracy'])\n",
    "\n",
    "\n",
    "# Print model summary\n",
    "model.summary()\n"
   ]
  },
  {
   "cell_type": "code",
   "execution_count": 19,
   "id": "8442029d-3679-4e9c-8fd3-be256a50e6ce",
   "metadata": {},
   "outputs": [],
   "source": [
    "#spilitting datasets to test and train\n",
    "from sklearn.model_selection import train_test_split\n",
    "X_train, X_test, y_train, y_test = train_test_split(\n",
    "    agg_embs.drop(['TARGET'], axis = 1),agg_embs['TARGET'], test_size=0.20, random_state=1234)"
   ]
  },
  {
   "cell_type": "code",
   "execution_count": 21,
   "id": "9caff8ec-b2d6-4fab-a6df-2fbd0df70721",
   "metadata": {},
   "outputs": [],
   "source": [
    "#converting this to tensor dataframes for NN architecture\n",
    "X_train2 = tf.convert_to_tensor(X_train.drop(['MAKETXT','MODELTXT','YEARTXT','COMPDESC'], axis = 1))\n",
    "X_test2 = tf.convert_to_tensor(X_test.drop(['MAKETXT','MODELTXT','YEARTXT','COMPDESC'], axis = 1))"
   ]
  },
  {
   "cell_type": "code",
   "execution_count": 22,
   "id": "b73696fd-05a8-4953-9422-a9f7001c3a3b",
   "metadata": {},
   "outputs": [],
   "source": [
    "#converting the target variable as categorical variable for training\n",
    "y_train2 = to_categorical(y_train, num_classes=3)\n",
    "y_test2 = to_categorical(y_test, num_classes=3)"
   ]
  },
  {
   "cell_type": "code",
   "execution_count": 23,
   "id": "632fdb7c-e39b-43eb-984f-a886edab9d9f",
   "metadata": {},
   "outputs": [
    {
     "data": {
      "text/plain": [
       "array([[1., 0., 0.],\n",
       "       [1., 0., 0.],\n",
       "       [1., 0., 0.],\n",
       "       ...,\n",
       "       [1., 0., 0.],\n",
       "       [1., 0., 0.],\n",
       "       [1., 0., 0.]])"
      ]
     },
     "execution_count": 23,
     "metadata": {},
     "output_type": "execute_result"
    }
   ],
   "source": [
    "y_test2"
   ]
  },
  {
   "cell_type": "code",
   "execution_count": 26,
   "id": "efa7036d-cb57-4329-a825-00023bf8cca4",
   "metadata": {},
   "outputs": [
    {
     "name": "stdout",
     "output_type": "stream",
     "text": [
      "Epoch 1/100\n",
      "\u001b[1m4261/4261\u001b[0m \u001b[32m━━━━━━━━━━━━━━━━━━━━\u001b[0m\u001b[37m\u001b[0m \u001b[1m14s\u001b[0m 3ms/step - accuracy: 0.6054 - auc: 0.8056 - loss: 0.7461 - val_accuracy: 0.5633 - val_auc: 0.7694 - val_loss: 0.7543\n",
      "Epoch 2/100\n",
      "\u001b[1m4261/4261\u001b[0m \u001b[32m━━━━━━━━━━━━━━━━━━━━\u001b[0m\u001b[37m\u001b[0m \u001b[1m14s\u001b[0m 3ms/step - accuracy: 0.6326 - auc: 0.8199 - loss: 0.7177 - val_accuracy: 0.6775 - val_auc: 0.7842 - val_loss: 0.6397\n",
      "Epoch 3/100\n",
      "\u001b[1m4261/4261\u001b[0m \u001b[32m━━━━━━━━━━━━━━━━━━━━\u001b[0m\u001b[37m\u001b[0m \u001b[1m14s\u001b[0m 3ms/step - accuracy: 0.6172 - auc: 0.8275 - loss: 0.7112 - val_accuracy: 0.6437 - val_auc: 0.7822 - val_loss: 0.7943\n",
      "Epoch 4/100\n",
      "\u001b[1m4261/4261\u001b[0m \u001b[32m━━━━━━━━━━━━━━━━━━━━\u001b[0m\u001b[37m\u001b[0m \u001b[1m14s\u001b[0m 3ms/step - accuracy: 0.6389 - auc: 0.8388 - loss: 0.6751 - val_accuracy: 0.7635 - val_auc: 0.7934 - val_loss: 0.5359\n",
      "Epoch 5/100\n",
      "\u001b[1m4261/4261\u001b[0m \u001b[32m━━━━━━━━━━━━━━━━━━━━\u001b[0m\u001b[37m\u001b[0m \u001b[1m14s\u001b[0m 3ms/step - accuracy: 0.6410 - auc: 0.8451 - loss: 0.6586 - val_accuracy: 0.5938 - val_auc: 0.7736 - val_loss: 0.7454\n",
      "Epoch 6/100\n",
      "\u001b[1m4261/4261\u001b[0m \u001b[32m━━━━━━━━━━━━━━━━━━━━\u001b[0m\u001b[37m\u001b[0m \u001b[1m14s\u001b[0m 3ms/step - accuracy: 0.6542 - auc: 0.8526 - loss: 0.6501 - val_accuracy: 0.6107 - val_auc: 0.7901 - val_loss: 0.6842\n",
      "Epoch 7/100\n",
      "\u001b[1m4261/4261\u001b[0m \u001b[32m━━━━━━━━━━━━━━━━━━━━\u001b[0m\u001b[37m\u001b[0m \u001b[1m14s\u001b[0m 3ms/step - accuracy: 0.6579 - auc: 0.8672 - loss: 0.6003 - val_accuracy: 0.6788 - val_auc: 0.7955 - val_loss: 0.6464\n",
      "Epoch 8/100\n",
      "\u001b[1m4261/4261\u001b[0m \u001b[32m━━━━━━━━━━━━━━━━━━━━\u001b[0m\u001b[37m\u001b[0m \u001b[1m14s\u001b[0m 3ms/step - accuracy: 0.6722 - auc: 0.8721 - loss: 0.5756 - val_accuracy: 0.3731 - val_auc: 0.7698 - val_loss: 1.0915\n",
      "Epoch 9/100\n",
      "\u001b[1m4261/4261\u001b[0m \u001b[32m━━━━━━━━━━━━━━━━━━━━\u001b[0m\u001b[37m\u001b[0m \u001b[1m16s\u001b[0m 4ms/step - accuracy: 0.6529 - auc: 0.8735 - loss: 0.5627 - val_accuracy: 0.6050 - val_auc: 0.7904 - val_loss: 0.7093\n",
      "Epoch 10/100\n",
      "\u001b[1m4261/4261\u001b[0m \u001b[32m━━━━━━━━━━━━━━━━━━━━\u001b[0m\u001b[37m\u001b[0m \u001b[1m14s\u001b[0m 3ms/step - accuracy: 0.6699 - auc: 0.8839 - loss: 0.5350 - val_accuracy: 0.5539 - val_auc: 0.7916 - val_loss: 0.8212\n",
      "Epoch 11/100\n",
      "\u001b[1m4261/4261\u001b[0m \u001b[32m━━━━━━━━━━━━━━━━━━━━\u001b[0m\u001b[37m\u001b[0m \u001b[1m14s\u001b[0m 3ms/step - accuracy: 0.6839 - auc: 0.8915 - loss: 0.5125 - val_accuracy: 0.6975 - val_auc: 0.8065 - val_loss: 0.5874\n",
      "Epoch 12/100\n",
      "\u001b[1m4261/4261\u001b[0m \u001b[32m━━━━━━━━━━━━━━━━━━━━\u001b[0m\u001b[37m\u001b[0m \u001b[1m14s\u001b[0m 3ms/step - accuracy: 0.6829 - auc: 0.8936 - loss: 0.5137 - val_accuracy: 0.6435 - val_auc: 0.8011 - val_loss: 0.8072\n",
      "Epoch 13/100\n",
      "\u001b[1m4261/4261\u001b[0m \u001b[32m━━━━━━━━━━━━━━━━━━━━\u001b[0m\u001b[37m\u001b[0m \u001b[1m14s\u001b[0m 3ms/step - accuracy: 0.6870 - auc: 0.8989 - loss: 0.4904 - val_accuracy: 0.6647 - val_auc: 0.8018 - val_loss: 0.6359\n",
      "Epoch 14/100\n",
      "\u001b[1m4261/4261\u001b[0m \u001b[32m━━━━━━━━━━━━━━━━━━━━\u001b[0m\u001b[37m\u001b[0m \u001b[1m15s\u001b[0m 3ms/step - accuracy: 0.6966 - auc: 0.8996 - loss: 0.4820 - val_accuracy: 0.6884 - val_auc: 0.8097 - val_loss: 0.6033\n",
      "Epoch 14: early stopping\n",
      "Restoring model weights from the end of the best epoch: 4.\n"
     ]
    }
   ],
   "source": [
    "from sklearn.utils.class_weight import compute_sample_weight\n",
    "\n",
    "# Convert y_train2 (categorical) back to original labels\n",
    "y_train_labels = np.argmax(y_train2, axis=1)\n",
    "\n",
    "# Compute sample weights using \"balanced\" method\n",
    "sample_weights = compute_sample_weight(class_weight=\"balanced\", y=y_train_labels)\n",
    "# Define callbacks\n",
    "early_stopping = EarlyStopping(monitor='val_loss', patience=10, restore_best_weights=True, verbose=1)\n",
    "\n",
    "\n",
    "# Train the model with callbacks and sample weights\n",
    "history = model.fit(X_train2, y_train2,\n",
    "                    epochs=100, \n",
    "                    validation_data=(X_test2, y_test2),\n",
    "                    callbacks=[early_stopping],\n",
    "                   sample_weight=sample_weights\n",
    "                   )"
   ]
  },
  {
   "cell_type": "code",
   "execution_count": 27,
   "id": "d6e9e31f-f618-4e35-8290-a8258bdc9f0e",
   "metadata": {},
   "outputs": [
    {
     "name": "stdout",
     "output_type": "stream",
     "text": [
      "\u001b[1m4261/4261\u001b[0m \u001b[32m━━━━━━━━━━━━━━━━━━━━\u001b[0m\u001b[37m\u001b[0m \u001b[1m5s\u001b[0m 1ms/step\n"
     ]
    }
   ],
   "source": [
    "# Get predicted probabilities for Xtrain\n",
    "train_probs = model.predict(X_train2)"
   ]
  },
  {
   "cell_type": "code",
   "execution_count": 28,
   "id": "c2cf81fa-6903-4c1a-b06b-4eec6d5f6837",
   "metadata": {},
   "outputs": [
    {
     "name": "stdout",
     "output_type": "stream",
     "text": [
      "\u001b[1m1066/1066\u001b[0m \u001b[32m━━━━━━━━━━━━━━━━━━━━\u001b[0m\u001b[37m\u001b[0m \u001b[1m1s\u001b[0m 1ms/step\n"
     ]
    }
   ],
   "source": [
    "# Get predicted probabilities for X_test\n",
    "test_probs = model.predict(X_test2)"
   ]
  },
  {
   "cell_type": "code",
   "execution_count": 29,
   "id": "555ddce8-1984-481b-984e-0fd012deaee1",
   "metadata": {},
   "outputs": [],
   "source": [
    "#converting the predicted probabilities of the model in a pandas dataframe\n",
    "df_train_probs = pd.DataFrame(train_probs, columns=['Class_0', 'Class_1', 'Class_2'])\n",
    "df_test_probs = pd.DataFrame(test_probs, columns=['Class_0', 'Class_1', 'Class_2'])"
   ]
  },
  {
   "cell_type": "code",
   "execution_count": 30,
   "id": "65971229-bde6-4251-9f1b-5d1aa7de2151",
   "metadata": {},
   "outputs": [],
   "source": [
    "#Concatinating predicted probabilies of NN model to the primary keys are getting outputs for final test and final train for ML model.\n",
    "#Note it contains only primary keys, class probability from Neural network.\n",
    "#Other numerical columns from complaints datatset needed to be added in this for the next ML analysis.\n",
    "\n",
    "final_train_nlp_cw = pd.concat([X_train[['MAKETXT','MODELTXT','YEARTXT','COMPDESC']].reset_index().drop('index', axis = 1),df_train_probs.reset_index().drop('index',axis = 1), y_train.reset_index().drop('index',axis = 1)], axis=1)\n",
    "final_test_nlp_cw = pd.concat([X_test[['MAKETXT','MODELTXT','YEARTXT','COMPDESC']].reset_index().drop('index', axis = 1),df_test_probs.reset_index().drop('index',axis = 1), y_test.reset_index().drop('index',axis = 1)], axis=1)"
   ]
  },
  {
   "cell_type": "code",
   "execution_count": 31,
   "id": "5fe88179-b8ae-4c92-8474-821ee9b208c7",
   "metadata": {},
   "outputs": [],
   "source": [
    "#Saving the dataframe to csv\n",
    "csv_filename_final_train_nlp_cw = r\"C:\\Users\\shanm\\OneDrive\\Desktop\\Kavya\\Spring 25\\NHTSA dataset-20250211T191427Z-002\\NHTSA dataset\\Target\\final_train_nlp_cw.csv\"\n",
    "csv_filename_final_test_nlp_cw = r\"C:\\Users\\shanm\\OneDrive\\Desktop\\Kavya\\Spring 25\\NHTSA dataset-20250211T191427Z-002\\NHTSA dataset\\Target\\final_test_nlp_cw.csv\"\n",
    "final_train_nlp_cw.to_csv(csv_filename_final_train_nlp_cw, index=False, encoding='utf-8')\n",
    "final_test_nlp_cw.to_csv(csv_filename_final_test_nlp_cw, index=False, encoding='utf-8')"
   ]
  },
  {
   "cell_type": "code",
   "execution_count": 32,
   "id": "a6cc0f6b-f619-4100-9158-4ea45579d4a7",
   "metadata": {},
   "outputs": [
    {
     "data": {
      "text/plain": [
       "((136340, 8), (34085, 8))"
      ]
     },
     "execution_count": 32,
     "metadata": {},
     "output_type": "execute_result"
    }
   ],
   "source": [
    "final_train_nlp_cw.shape, final_test_nlp_cw.shape"
   ]
  }
 ],
 "metadata": {
  "kernelspec": {
   "display_name": "Python 3 (ipykernel)",
   "language": "python",
   "name": "python3"
  },
  "language_info": {
   "codemirror_mode": {
    "name": "ipython",
    "version": 3
   },
   "file_extension": ".py",
   "mimetype": "text/x-python",
   "name": "python",
   "nbconvert_exporter": "python",
   "pygments_lexer": "ipython3",
   "version": "3.11.1"
  }
 },
 "nbformat": 4,
 "nbformat_minor": 5
}
