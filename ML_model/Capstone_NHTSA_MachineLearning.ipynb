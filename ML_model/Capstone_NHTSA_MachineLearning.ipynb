{
 "cells": [
  {
   "cell_type": "code",
   "execution_count": 2,
   "id": "3761df4a-5138-4873-8198-e83da354a988",
   "metadata": {},
   "outputs": [],
   "source": [
    "#importing relevant libraries\n",
    "import pandas as pd\n",
    "import numpy as np\n",
    "import seaborn as sns\n",
    "import matplotlib.pyplot as plt\n",
    "import warnings\n",
    "warnings.filterwarnings(\"ignore\")"
   ]
  },
  {
   "cell_type": "code",
   "execution_count": 3,
   "id": "d2605b79-b07c-44aa-a2ed-87d4f729d133",
   "metadata": {},
   "outputs": [],
   "source": [
    "#Loading aggregated complaints without compdesc, final_train and Final_test with 80-20 split of NLP outputs of probabilities in each class\n",
    "comp_num = pd.read_csv(r\"C:\\Users\\shanm\\OneDrive\\Desktop\\Kavya\\Spring 25\\NHTSA dataset-20250211T191427Z-002\\NHTSA dataset\\Complaints\\final_aggregated_complaints.csv\", low_memory = True)\n",
    "comp_desc_train = pd.read_csv(r\"C:\\Users\\shanm\\OneDrive\\Desktop\\Kavya\\Spring 25\\NHTSA dataset-20250211T191427Z-002\\NHTSA dataset\\Target\\final_train_nlp.csv\", low_memory = True)\n",
    "comp_desc_test = pd.read_csv(r\"C:\\Users\\shanm\\OneDrive\\Desktop\\Kavya\\Spring 25\\NHTSA dataset-20250211T191427Z-002\\NHTSA dataset\\Target\\final_test_nlp.csv\", low_memory = True)\n"
   ]
  },
  {
   "cell_type": "code",
   "execution_count": 3,
   "id": "547b4583-8d12-4439-a956-28b6db4a95d9",
   "metadata": {},
   "outputs": [
    {
     "data": {
      "text/plain": [
       "((136340, 8), (34085, 8))"
      ]
     },
     "execution_count": 3,
     "metadata": {},
     "output_type": "execute_result"
    }
   ],
   "source": [
    "#checking shape of test and train\n",
    "comp_desc_train.shape, comp_desc_test.shape"
   ]
  },
  {
   "cell_type": "code",
   "execution_count": 4,
   "id": "90a2b1df-9659-4ee3-93ba-24f0d71268f7",
   "metadata": {},
   "outputs": [
    {
     "data": {
      "text/plain": [
       "Index(['MAKETXT', 'MODELTXT', 'YEARTXT', 'COMPDESC', 'Class_0', 'Class_1',\n",
       "       'Class_2', 'TARGET'],\n",
       "      dtype='object')"
      ]
     },
     "execution_count": 4,
     "metadata": {},
     "output_type": "execute_result"
    }
   ],
   "source": [
    "comp_desc_train.columns"
   ]
  },
  {
   "cell_type": "code",
   "execution_count": 5,
   "id": "98f03c28-c605-4357-9684-006c21b1ffbb",
   "metadata": {},
   "outputs": [
    {
     "data": {
      "text/plain": [
       "Index(['MAKETXT', 'MODELTXT', 'YEARTXT', 'COMPDESC', 'TOTAL_COMPLAINTS',\n",
       "       'CRASH_COUNT', 'MEDIAN_DAYS_TO_REPORT', 'FIRE_OCCURANCES',\n",
       "       'POLICE_REPORTING', 'OWNERSHIP', 'ANTI_BRAKES', 'CRUISE_CONTROL',\n",
       "       'MEDICAL_ATTENTION', 'VEHICLES_TOWED', 'NORTHEAST_STATES',\n",
       "       'MIDWEST_STATES', 'SOUTH_STATES', 'WEST_STATES', 'US_TERRITORIES',\n",
       "       'Q1_TOTAL', 'Q2_TOTAL', 'Q3_TOTAL', 'Q4_TOTAL', 'CT_IVOQ_COUNT',\n",
       "       'CT_EVOQ_COUNT', 'CT_LETR_COUNT', 'CT_SVOQ_COUNT', 'CT_CON_COUNT',\n",
       "       'DT_FWD_SUM', 'DT_4WD_SUM', 'DT_AWD_SUM', 'DT_RWD_SUM', 'FT_GAS_COUNT',\n",
       "       'FT_BIFUEL_COUNT', 'FT_DIESEL_COUNT', 'FT_HYBRID_ELECTRIC_COUNT',\n",
       "       'PT_VEHICLE', 'PT_EQUIPMENT', 'PT_CHILD_RESTRAINT', 'PT_TIRES',\n",
       "       'MEAN_VEH_SPEED', 'MAX_VEH_SPEED', 'MEAN_AGE', 'MAX_AGE', 'MIN_AGE',\n",
       "       'MEAN_MILES', 'MAX_MILES', 'MIN_MILES', 'MEAN_OCCURRENCES',\n",
       "       'MAX_OCCURRENCES'],\n",
       "      dtype='object')"
      ]
     },
     "execution_count": 5,
     "metadata": {},
     "output_type": "execute_result"
    }
   ],
   "source": [
    "comp_num.columns"
   ]
  },
  {
   "cell_type": "code",
   "execution_count": 4,
   "id": "871de70b-7c4c-4e76-b30b-270ed57c5dd4",
   "metadata": {},
   "outputs": [],
   "source": [
    "import re\n",
    " \n",
    "# Standardize column to match investigation dataset\n",
    "def clean_make_column(make):\n",
    "    if pd.isna(make):  # Handle NaN values\n",
    "        return None\n",
    "    make = make.strip().upper()  # Remove spaces and convert to uppercase\n",
    "    #make = re.sub(r'[^A-Z0-9 -]', '', make)  # Remove non-alphanumeric characters except spaces and hyphens\n",
    "    make = re.sub(r'\\s+', ' ', make)  # Normalize multiple spaces\n",
    " \n",
    "    return make"
   ]
  },
  {
   "cell_type": "code",
   "execution_count": 5,
   "id": "c112ab0d-1141-4208-9018-ddc08b8036c7",
   "metadata": {},
   "outputs": [],
   "source": [
    "# Apply cleaning function in comp_num\n",
    "comp_num['MAKETXT'] = comp_num['MAKETXT'].apply(clean_make_column)\n",
    "comp_num['MODELTXT'] = comp_num['MODELTXT'].apply(clean_make_column)\n",
    "#comp_num['YEARTXT'] = comp_num['YEARTXT'].apply(clean_make_column)\n",
    "comp_num['COMPDESC'] = comp_num['COMPDESC'].apply(clean_make_column)"
   ]
  },
  {
   "cell_type": "code",
   "execution_count": 6,
   "id": "a8470b5f-f6f8-4c99-a30e-cdf9ae7fac57",
   "metadata": {},
   "outputs": [],
   "source": [
    "#final_train is modifying by mergeing the corresponding numerical rows from numerical aggregated complaints of primary keys.\n",
    "final_train = comp_desc_train.merge(comp_num, how = 'inner', on = ['MAKETXT', 'MODELTXT', 'YEARTXT', 'COMPDESC'])"
   ]
  },
  {
   "cell_type": "code",
   "execution_count": 9,
   "id": "7d8fa416-058d-4e2b-8175-96ae59a0c989",
   "metadata": {},
   "outputs": [
    {
     "data": {
      "text/html": [
       "<div>\n",
       "<style scoped>\n",
       "    .dataframe tbody tr th:only-of-type {\n",
       "        vertical-align: middle;\n",
       "    }\n",
       "\n",
       "    .dataframe tbody tr th {\n",
       "        vertical-align: top;\n",
       "    }\n",
       "\n",
       "    .dataframe thead th {\n",
       "        text-align: right;\n",
       "    }\n",
       "</style>\n",
       "<table border=\"1\" class=\"dataframe\">\n",
       "  <thead>\n",
       "    <tr style=\"text-align: right;\">\n",
       "      <th></th>\n",
       "      <th>MAKETXT</th>\n",
       "      <th>MODELTXT</th>\n",
       "      <th>YEARTXT</th>\n",
       "      <th>COMPDESC</th>\n",
       "      <th>Class_0</th>\n",
       "      <th>Class_1</th>\n",
       "      <th>Class_2</th>\n",
       "      <th>TARGET</th>\n",
       "      <th>TOTAL_COMPLAINTS</th>\n",
       "      <th>CRASH_COUNT</th>\n",
       "      <th>...</th>\n",
       "      <th>MEAN_VEH_SPEED</th>\n",
       "      <th>MAX_VEH_SPEED</th>\n",
       "      <th>MEAN_AGE</th>\n",
       "      <th>MAX_AGE</th>\n",
       "      <th>MIN_AGE</th>\n",
       "      <th>MEAN_MILES</th>\n",
       "      <th>MAX_MILES</th>\n",
       "      <th>MIN_MILES</th>\n",
       "      <th>MEAN_OCCURRENCES</th>\n",
       "      <th>MAX_OCCURRENCES</th>\n",
       "    </tr>\n",
       "  </thead>\n",
       "  <tbody>\n",
       "    <tr>\n",
       "      <th>0</th>\n",
       "      <td>NISSAN</td>\n",
       "      <td>VERSA</td>\n",
       "      <td>2017.0</td>\n",
       "      <td>LATCHES/LOCKS/LINKAGES:HOOD:LATCH</td>\n",
       "      <td>0.997876</td>\n",
       "      <td>0.001477</td>\n",
       "      <td>0.000647</td>\n",
       "      <td>0.0</td>\n",
       "      <td>1</td>\n",
       "      <td>0.0</td>\n",
       "      <td>...</td>\n",
       "      <td>45.000000</td>\n",
       "      <td>45.0</td>\n",
       "      <td>4.000000</td>\n",
       "      <td>4.0</td>\n",
       "      <td>4.0</td>\n",
       "      <td>27014.000000</td>\n",
       "      <td>27014.0</td>\n",
       "      <td>27014.0</td>\n",
       "      <td>1.0</td>\n",
       "      <td>1.0</td>\n",
       "    </tr>\n",
       "    <tr>\n",
       "      <th>1</th>\n",
       "      <td>SUBARU</td>\n",
       "      <td>FORESTER</td>\n",
       "      <td>2015.0</td>\n",
       "      <td>VEHICLE SPEED CONTROL:ACCELERATOR PEDAL</td>\n",
       "      <td>0.977787</td>\n",
       "      <td>0.017972</td>\n",
       "      <td>0.004242</td>\n",
       "      <td>0.0</td>\n",
       "      <td>5</td>\n",
       "      <td>4.0</td>\n",
       "      <td>...</td>\n",
       "      <td>23.666667</td>\n",
       "      <td>35.0</td>\n",
       "      <td>5.200000</td>\n",
       "      <td>8.0</td>\n",
       "      <td>0.0</td>\n",
       "      <td>45800.000000</td>\n",
       "      <td>82000.0</td>\n",
       "      <td>3000.0</td>\n",
       "      <td>1.0</td>\n",
       "      <td>1.0</td>\n",
       "    </tr>\n",
       "    <tr>\n",
       "      <th>2</th>\n",
       "      <td>FORD</td>\n",
       "      <td>ESCAPE</td>\n",
       "      <td>2005.0</td>\n",
       "      <td>SUSPENSION:FRONT:WHEEL BEARING</td>\n",
       "      <td>0.982770</td>\n",
       "      <td>0.016910</td>\n",
       "      <td>0.000320</td>\n",
       "      <td>0.0</td>\n",
       "      <td>1</td>\n",
       "      <td>0.0</td>\n",
       "      <td>...</td>\n",
       "      <td>60.000000</td>\n",
       "      <td>60.0</td>\n",
       "      <td>7.000000</td>\n",
       "      <td>7.0</td>\n",
       "      <td>7.0</td>\n",
       "      <td>30167.000000</td>\n",
       "      <td>30167.0</td>\n",
       "      <td>30167.0</td>\n",
       "      <td>1.0</td>\n",
       "      <td>1.0</td>\n",
       "    </tr>\n",
       "    <tr>\n",
       "      <th>3</th>\n",
       "      <td>HYUNDAI</td>\n",
       "      <td>ACCENT</td>\n",
       "      <td>2015.0</td>\n",
       "      <td>SERVICE BRAKES, HYDRAULIC</td>\n",
       "      <td>0.969010</td>\n",
       "      <td>0.022711</td>\n",
       "      <td>0.008278</td>\n",
       "      <td>0.0</td>\n",
       "      <td>7</td>\n",
       "      <td>0.0</td>\n",
       "      <td>...</td>\n",
       "      <td>0.000000</td>\n",
       "      <td>0.0</td>\n",
       "      <td>8.857143</td>\n",
       "      <td>9.0</td>\n",
       "      <td>8.0</td>\n",
       "      <td>96493.562273</td>\n",
       "      <td>180000.0</td>\n",
       "      <td>0.0</td>\n",
       "      <td>1.0</td>\n",
       "      <td>1.0</td>\n",
       "    </tr>\n",
       "    <tr>\n",
       "      <th>4</th>\n",
       "      <td>CHEVROLET</td>\n",
       "      <td>CORVETTE</td>\n",
       "      <td>2017.0</td>\n",
       "      <td>EQUIPMENT</td>\n",
       "      <td>0.990274</td>\n",
       "      <td>0.009083</td>\n",
       "      <td>0.000643</td>\n",
       "      <td>0.0</td>\n",
       "      <td>1</td>\n",
       "      <td>0.0</td>\n",
       "      <td>...</td>\n",
       "      <td>NaN</td>\n",
       "      <td>NaN</td>\n",
       "      <td>3.000000</td>\n",
       "      <td>3.0</td>\n",
       "      <td>3.0</td>\n",
       "      <td>15000.000000</td>\n",
       "      <td>15000.0</td>\n",
       "      <td>15000.0</td>\n",
       "      <td>1.0</td>\n",
       "      <td>1.0</td>\n",
       "    </tr>\n",
       "  </tbody>\n",
       "</table>\n",
       "<p>5 rows × 54 columns</p>\n",
       "</div>"
      ],
      "text/plain": [
       "     MAKETXT  MODELTXT  YEARTXT                                 COMPDESC  \\\n",
       "0     NISSAN     VERSA   2017.0        LATCHES/LOCKS/LINKAGES:HOOD:LATCH   \n",
       "1     SUBARU  FORESTER   2015.0  VEHICLE SPEED CONTROL:ACCELERATOR PEDAL   \n",
       "2       FORD    ESCAPE   2005.0           SUSPENSION:FRONT:WHEEL BEARING   \n",
       "3    HYUNDAI    ACCENT   2015.0                SERVICE BRAKES, HYDRAULIC   \n",
       "4  CHEVROLET  CORVETTE   2017.0                                EQUIPMENT   \n",
       "\n",
       "    Class_0   Class_1   Class_2  TARGET  TOTAL_COMPLAINTS  CRASH_COUNT  ...  \\\n",
       "0  0.997876  0.001477  0.000647     0.0                 1          0.0  ...   \n",
       "1  0.977787  0.017972  0.004242     0.0                 5          4.0  ...   \n",
       "2  0.982770  0.016910  0.000320     0.0                 1          0.0  ...   \n",
       "3  0.969010  0.022711  0.008278     0.0                 7          0.0  ...   \n",
       "4  0.990274  0.009083  0.000643     0.0                 1          0.0  ...   \n",
       "\n",
       "   MEAN_VEH_SPEED  MAX_VEH_SPEED  MEAN_AGE  MAX_AGE  MIN_AGE    MEAN_MILES  \\\n",
       "0       45.000000           45.0  4.000000      4.0      4.0  27014.000000   \n",
       "1       23.666667           35.0  5.200000      8.0      0.0  45800.000000   \n",
       "2       60.000000           60.0  7.000000      7.0      7.0  30167.000000   \n",
       "3        0.000000            0.0  8.857143      9.0      8.0  96493.562273   \n",
       "4             NaN            NaN  3.000000      3.0      3.0  15000.000000   \n",
       "\n",
       "   MAX_MILES  MIN_MILES  MEAN_OCCURRENCES  MAX_OCCURRENCES  \n",
       "0    27014.0    27014.0               1.0              1.0  \n",
       "1    82000.0     3000.0               1.0              1.0  \n",
       "2    30167.0    30167.0               1.0              1.0  \n",
       "3   180000.0        0.0               1.0              1.0  \n",
       "4    15000.0    15000.0               1.0              1.0  \n",
       "\n",
       "[5 rows x 54 columns]"
      ]
     },
     "execution_count": 9,
     "metadata": {},
     "output_type": "execute_result"
    }
   ],
   "source": [
    "final_train.head()"
   ]
  },
  {
   "cell_type": "code",
   "execution_count": 10,
   "id": "d88b3647-1654-450e-9cd7-0c1c181fbfb3",
   "metadata": {},
   "outputs": [
    {
     "data": {
      "text/plain": [
       "(136196, 54)"
      ]
     },
     "execution_count": 10,
     "metadata": {},
     "output_type": "execute_result"
    }
   ],
   "source": [
    "final_train.shape"
   ]
  },
  {
   "cell_type": "code",
   "execution_count": 7,
   "id": "36775a74-ca1b-4d74-adb9-749b52dae9da",
   "metadata": {},
   "outputs": [],
   "source": [
    "#final_test is modifying by mergeing the corresponding numerical rows from numerical aggregated complaints of primary keys.\n",
    "final_test = comp_desc_test.merge(comp_num, how = 'inner', on = ['MAKETXT', 'MODELTXT', 'YEARTXT', 'COMPDESC'])"
   ]
  },
  {
   "cell_type": "code",
   "execution_count": 8,
   "id": "1414d24e-09a6-4d0c-a405-503742e6eee2",
   "metadata": {},
   "outputs": [
    {
     "data": {
      "text/plain": [
       "0.0    131578\n",
       "1.0      3746\n",
       "2.0       872\n",
       "Name: TARGET, dtype: int64"
      ]
     },
     "execution_count": 8,
     "metadata": {},
     "output_type": "execute_result"
    }
   ],
   "source": [
    "#checking the distribution of final_train target value\n",
    "final_train['TARGET'].value_counts()"
   ]
  },
  {
   "cell_type": "code",
   "execution_count": null,
   "id": "b261d1dd-d393-4d62-a2bb-77c01006e4cb",
   "metadata": {},
   "outputs": [],
   "source": [
    "# temp = comp_desc_train.merge(comp_num, how = 'left', on = ['MAKETXT', 'MODELTXT', 'YEARTXT', 'COMPDESC'])\n",
    "# temp[temp['TOTAL_COMPLAINTS'].isna()]['TARGET'].sum()"
   ]
  },
  {
   "cell_type": "code",
   "execution_count": null,
   "id": "68a57aff-434e-46a9-a5b1-59f982459609",
   "metadata": {},
   "outputs": [],
   "source": [
    "#temp[(temp['TOTAL_COMPLAINTS'].isna()) & (temp['TARGET'].isin([1,2])) ]"
   ]
  },
  {
   "cell_type": "code",
   "execution_count": 13,
   "id": "37713011-b29c-40e3-9c6e-5c0345c6b247",
   "metadata": {},
   "outputs": [
    {
     "data": {
      "text/plain": [
       "0.0    32809\n",
       "1.0     1000\n",
       "2.0      234\n",
       "Name: TARGET, dtype: int64"
      ]
     },
     "execution_count": 13,
     "metadata": {},
     "output_type": "execute_result"
    }
   ],
   "source": [
    "#checking the distribution of final_test target value\n",
    "final_test['TARGET'].value_counts()"
   ]
  },
  {
   "cell_type": "code",
   "execution_count": 17,
   "id": "5bba2326-cc81-4a19-ad55-ab531958f9e8",
   "metadata": {},
   "outputs": [],
   "source": [
    "#Saving the dataframe to csv\n",
    "csv_filename_final_train = r\"C:\\Users\\shanm\\OneDrive\\Desktop\\Kavya\\Spring 25\\NHTSA dataset-20250211T191427Z-002\\NHTSA dataset\\Target\\final_train_ML.csv\"\n",
    "csv_filename_final_test = r\"C:\\Users\\shanm\\OneDrive\\Desktop\\Kavya\\Spring 25\\NHTSA dataset-20250211T191427Z-002\\NHTSA dataset\\Target\\final_test_ML.csv\"\n",
    "final_train.to_csv(csv_filename_final_train, index=False, encoding='utf-8')\n",
    "final_test.to_csv(csv_filename_final_test, index=False, encoding='utf-8')"
   ]
  },
  {
   "cell_type": "markdown",
   "id": "233f92f2-ce76-482a-abc4-720c9b9891e2",
   "metadata": {},
   "source": [
    "---"
   ]
  },
  {
   "cell_type": "markdown",
   "id": "131efdee-e408-4fc5-bb66-a64cc08c43cc",
   "metadata": {},
   "source": [
    "### ML Model"
   ]
  },
  {
   "cell_type": "code",
   "execution_count": 9,
   "id": "9a57e917-5d20-4c75-8f6f-e2d1127e92de",
   "metadata": {},
   "outputs": [
    {
     "name": "stdout",
     "output_type": "stream",
     "text": [
      "Defaulting to user installation because normal site-packages is not writeable\n",
      "Requirement already satisfied: xgboost in c:\\users\\shanm\\appdata\\roaming\\python\\python311\\site-packages (3.0.0)\n",
      "Requirement already satisfied: numpy in c:\\users\\shanm\\appdata\\roaming\\python\\python311\\site-packages (from xgboost) (1.24.3)\n",
      "Requirement already satisfied: scipy in c:\\users\\shanm\\appdata\\roaming\\python\\python311\\site-packages (from xgboost) (1.12.0)\n"
     ]
    },
    {
     "name": "stderr",
     "output_type": "stream",
     "text": [
      "\n",
      "[notice] A new release of pip is available: 24.2 -> 25.0.1\n",
      "[notice] To update, run: python.exe -m pip install --upgrade pip\n"
     ]
    }
   ],
   "source": [
    "#Installing relevant libraries for XG Boost\n",
    "! pip install xgboost\n",
    "from xgboost import XGBClassifier\n",
    "from sklearn.model_selection import train_test_split\n",
    "from sklearn.preprocessing import LabelEncoder\n",
    "from sklearn.metrics import accuracy_score, classification_report, confusion_matrix"
   ]
  },
  {
   "cell_type": "code",
   "execution_count": 10,
   "id": "050db025-c892-4e6d-93d3-7ebad0437ecd",
   "metadata": {},
   "outputs": [],
   "source": [
    "#defining test and train data for xg boost\n",
    "X_train = final_train.drop(columns=['TARGET', 'MAKETXT', 'MODELTXT', 'YEARTXT', 'COMPDESC' ])  \n",
    "y_train = final_train['TARGET']\n",
    "X_test = final_test.drop(columns=['TARGET', 'MAKETXT', 'MODELTXT', 'YEARTXT', 'COMPDESC' ])\n",
    "y_test = final_test['TARGET']"
   ]
  },
  {
   "cell_type": "code",
   "execution_count": 11,
   "id": "ab0dc322-78c1-428c-952b-56030ca313e4",
   "metadata": {},
   "outputs": [],
   "source": [
    "# Encode categorical labels if necessary\n",
    "le = LabelEncoder()\n",
    "y_train = le.fit_transform(y_train) \n",
    "y_test = le.transform(y_test) "
   ]
  },
  {
   "cell_type": "code",
   "execution_count": 14,
   "id": "3a26ef8c-92fd-41e3-b43e-badd37d933b1",
   "metadata": {},
   "outputs": [
    {
     "data": {
      "text/plain": [
       "(array([0, 0, 0, ..., 0, 0, 0], dtype=int64),\n",
       " array([0, 0, 0, ..., 0, 0, 0], dtype=int64))"
      ]
     },
     "execution_count": 14,
     "metadata": {},
     "output_type": "execute_result"
    }
   ],
   "source": [
    "y_train, y_test"
   ]
  },
  {
   "cell_type": "code",
   "execution_count": 17,
   "id": "fa8067b1-ce1c-4e2d-8e86-3230d10b58d9",
   "metadata": {},
   "outputs": [],
   "source": [
    "# Initialize XGBoost classifier for multiclass classification\n",
    "xgb_model = XGBClassifier(objective=\"multi:softmax\", num_class=3, eval_metric=\"aucpr\")"
   ]
  },
  {
   "cell_type": "code",
   "execution_count": 18,
   "id": "d0836aff-41e6-4182-8d4e-3bea5e7ce65a",
   "metadata": {},
   "outputs": [],
   "source": [
    "# Train the model\n",
    "xgb_model.fit(X_train, y_train)\n",
    "\n",
    "# Make predictions\n",
    "y_test_pred = xgb_model.predict(X_test)"
   ]
  },
  {
   "cell_type": "code",
   "execution_count": 19,
   "id": "207f31a9-88b2-453f-a046-2fdac94a67b0",
   "metadata": {},
   "outputs": [
    {
     "data": {
      "text/plain": [
       "array([0., 1., 2.])"
      ]
     },
     "execution_count": 19,
     "metadata": {},
     "output_type": "execute_result"
    }
   ],
   "source": [
    "le.classes_"
   ]
  },
  {
   "cell_type": "code",
   "execution_count": 20,
   "id": "8a608e37-f649-4c15-b36a-6dc885f28906",
   "metadata": {},
   "outputs": [
    {
     "name": "stdout",
     "output_type": "stream",
     "text": [
      "Model Accuracy: 0.9633\n",
      "\n",
      "Classification Report:\n",
      "               precision    recall  f1-score   support\n",
      "\n",
      "         Low       0.97      0.99      0.98     32809\n",
      "      Medium       0.45      0.15      0.22      1000\n",
      "        High       0.43      0.20      0.27       234\n",
      "\n",
      "    accuracy                           0.96     34043\n",
      "   macro avg       0.62      0.45      0.49     34043\n",
      "weighted avg       0.95      0.96      0.95     34043\n",
      "\n",
      "\n",
      "Confusion Matrix:\n",
      " [[32599   168    42]\n",
      " [  832   149    19]\n",
      " [  176    12    46]]\n"
     ]
    }
   ],
   "source": [
    "# Evaluate model performance\n",
    "accuracy = accuracy_score(y_test, y_test_pred)\n",
    "print(f\"Model Accuracy: {accuracy:.4f}\")\n",
    "print(\"\\nClassification Report:\\n\", classification_report(y_test, y_test_pred, target_names=['Low','Medium','High']))\n",
    "print(\"\\nConfusion Matrix:\\n\", confusion_matrix(y_test, y_test_pred))"
   ]
  },
  {
   "cell_type": "markdown",
   "id": "c06625bb-2d87-40fe-bf25-471cde0e3f30",
   "metadata": {},
   "source": [
    "---"
   ]
  },
  {
   "cell_type": "markdown",
   "id": "b11786fd-35ed-4095-8437-c5308ce4b420",
   "metadata": {},
   "source": [
    "### Gridsearch"
   ]
  },
  {
   "cell_type": "markdown",
   "id": "105c3db6-c77c-4868-8ed7-f0a5a914fd86",
   "metadata": {},
   "source": [
    "### 1st without class-weights"
   ]
  },
  {
   "cell_type": "code",
   "execution_count": 51,
   "id": "9276d0bf-7fbb-4727-9f3d-0fc59fbef890",
   "metadata": {},
   "outputs": [
    {
     "name": "stdout",
     "output_type": "stream",
     "text": [
      "Fitting 2 folds for each of 432 candidates, totalling 864 fits\n",
      "Best Parameters: {'learning_rate': 0.01, 'max_depth': 3, 'n_estimators': 1000, 'reg_alpha': 1, 'reg_lambda': 1}\n"
     ]
    }
   ],
   "source": [
    "from sklearn.model_selection import GridSearchCV\n",
    "\n",
    "param_grid1 = {\n",
    "    \"max_depth\": [3, 5, 7],\n",
    "    \"learning_rate\": [0.01, 0.1, 0.15],\n",
    "    \"n_estimators\": [500, 700, 1000],\n",
    "    \"reg_lambda\": [0.01, 0.1, 1, 10],  \n",
    "    \"reg_alpha\": [0, 0.1, 0.5, 1]\n",
    "}\n",
    "\n",
    "grid_search1 = GridSearchCV(XGBClassifier(objective=\"multi:softmax\", num_class=3), param_grid1, scoring=\"roc_auc_ovr_weighted\", verbose=3,n_jobs=-1, cv=2)\n",
    "grid_search1.fit(X_train, y_train)\n",
    "\n",
    "print(\"Best Parameters:\", grid_search1.best_params_)\n"
   ]
  },
  {
   "cell_type": "code",
   "execution_count": 21,
   "id": "b2a6e968-b594-48f9-b76b-5a4cfdda84cc",
   "metadata": {},
   "outputs": [
    {
     "name": "stdout",
     "output_type": "stream",
     "text": [
      "Defaulting to user installation because normal site-packages is not writeable\n",
      "Requirement already satisfied: joblib in c:\\users\\shanm\\appdata\\roaming\\python\\python311\\site-packages (1.3.2)\n"
     ]
    },
    {
     "name": "stderr",
     "output_type": "stream",
     "text": [
      "\n",
      "[notice] A new release of pip is available: 24.2 -> 25.0.1\n",
      "[notice] To update, run: python.exe -m pip install --upgrade pip\n"
     ]
    }
   ],
   "source": [
    "#Importing library for saving best model with parameters found in gridsearch Cv\n",
    "!pip install joblib \n",
    "import joblib"
   ]
  },
  {
   "cell_type": "code",
   "execution_count": 52,
   "id": "fd442b72-181b-43ef-ac51-ad599d9c3101",
   "metadata": {},
   "outputs": [
    {
     "name": "stdout",
     "output_type": "stream",
     "text": [
      "Defaulting to user installation because normal site-packages is not writeable\n",
      "Requirement already satisfied: joblib in c:\\users\\shanm\\appdata\\roaming\\python\\python311\\site-packages (1.3.2)\n",
      "Best model saved successfully!\n"
     ]
    },
    {
     "name": "stderr",
     "output_type": "stream",
     "text": [
      "\n",
      "[notice] A new release of pip is available: 24.2 -> 25.0.1\n",
      "[notice] To update, run: python.exe -m pip install --upgrade pip\n"
     ]
    }
   ],
   "source": [
    "#best model of first iteration without class-weights\n",
    "best_model1 = grid_search1.best_estimator_\n",
    "\n",
    "# Save the model\n",
    "joblib.dump(best_model1, r'C:\\Users\\shanm\\OneDrive\\Desktop\\Kavya\\Spring 25\\NHTSA dataset-20250211T191427Z-002\\NHTSA dataset\\best_model.pkl')\n",
    "\n",
    "print(\"Best model saved successfully!\")"
   ]
  },
  {
   "cell_type": "code",
   "execution_count": 54,
   "id": "55941959-3d4c-4cef-b6f4-a4356742599d",
   "metadata": {},
   "outputs": [],
   "source": [
    "# Make predictions\n",
    "y_train_pred1 = best_model1.predict(X_train)\n",
    "y_test_pred1 = best_model1.predict(X_test)\n"
   ]
  },
  {
   "cell_type": "code",
   "execution_count": 55,
   "id": "a302787e-e616-4731-9399-4cce9353bf60",
   "metadata": {},
   "outputs": [
    {
     "name": "stdout",
     "output_type": "stream",
     "text": [
      "Model Accuracy: 0.9640\n",
      "\n",
      "Classification Report:\n",
      "               precision    recall  f1-score   support\n",
      "\n",
      "         Low       0.97      0.99      0.98     32809\n",
      "      Medium       0.51      0.14      0.22      1000\n",
      "        High       0.38      0.18      0.25       234\n",
      "\n",
      "    accuracy                           0.96     34043\n",
      "   macro avg       0.62      0.44      0.48     34043\n",
      "weighted avg       0.95      0.96      0.95     34043\n",
      "\n",
      "\n",
      "Confusion Matrix:\n",
      " [[32637   122    50]\n",
      " [  843   138    19]\n",
      " [  180    11    43]]\n"
     ]
    }
   ],
   "source": [
    "# Evaluate model performance\n",
    "accuracy = accuracy_score(y_test, y_test_pred1)\n",
    "print(f\"Model Accuracy: {accuracy:.4f}\")\n",
    "print(\"\\nClassification Report:\\n\", classification_report(y_test, y_test_pred1, target_names=['Low','Medium','High']))\n",
    "print(\"\\nConfusion Matrix:\\n\", confusion_matrix(y_test, y_test_pred1))"
   ]
  },
  {
   "cell_type": "code",
   "execution_count": null,
   "id": "11c6e84f-8888-4d7c-b148-78b2c5d87d6c",
   "metadata": {},
   "outputs": [],
   "source": [
    "#loading the best model from first iteration to see the results\n",
    "loaded_model1 = joblib.load(r'C:\\Users\\shanm\\OneDrive\\Desktop\\Kavya\\Spring 25\\NHTSA dataset-20250211T191427Z-002\\NHTSA dataset\\best_model.pkl')\n",
    "\n",
    "# Make predictions\n",
    "y_train_pred_bm1 = loaded_model1.predict(X_train)\n",
    "y_test_pred_bm1 = loaded_model1.predict(X_test)\n"
   ]
  },
  {
   "cell_type": "code",
   "execution_count": 62,
   "id": "4f5d48ee-2b1a-40c9-a83f-6fefccb6ebbf",
   "metadata": {},
   "outputs": [],
   "source": [
    "#temp2 = final_train['TARGET'].value_counts().reset_index()\n",
    "# count_0 = temp2[temp2['index'] == 0]['TARGET'].iloc[0]\n",
    "# count_1 = temp2[temp2['index'] == 1]['TARGET'].iloc[0]\n",
    "# count_2 = temp2[temp2['index'] == 2]['TARGET'].iloc[0]"
   ]
  },
  {
   "cell_type": "markdown",
   "id": "b990daed-b442-4d20-a5d5-f663663a6495",
   "metadata": {},
   "source": [
    "----"
   ]
  },
  {
   "cell_type": "markdown",
   "id": "f64f532c-e1e2-4f4b-ada8-dfb16d4c5fc9",
   "metadata": {},
   "source": [
    "### 2nd with class-weights"
   ]
  },
  {
   "cell_type": "code",
   "execution_count": 79,
   "id": "daabc0e8-cac8-4b5d-a89f-d74ada3b0112",
   "metadata": {},
   "outputs": [],
   "source": [
    "#importing libraries to introduce sample_weights\n",
    "from sklearn.utils.class_weight import compute_sample_weight\n",
    "import xgboost as xgb"
   ]
  },
  {
   "attachments": {
    "e9590146-e6f8-45bc-a13f-41f53bbec0ad.png": {
     "image/png": "[encoded data removed]"
    }
   },
   "cell_type": "markdown",
   "id": "2c4f691d-a097-47f2-b8d0-1d37521eb9ee",
   "metadata": {},
   "source": [
    "![image.png](attachment:e9590146-e6f8-45bc-a13f-41f53bbec0ad.png)"
   ]
  },
  {
   "cell_type": "code",
   "execution_count": 76,
   "id": "bec131e1-7377-4752-8397-216454781f9d",
   "metadata": {},
   "outputs": [
    {
     "data": {
      "text/plain": [
       "array([0.34503235, 0.34503235, 0.34503235, ..., 0.34503235, 0.34503235,\n",
       "       0.34503235])"
      ]
     },
     "execution_count": 76,
     "metadata": {},
     "output_type": "execute_result"
    }
   ],
   "source": [
    "#calculating sample weights using the formula above\n",
    "sample_weights = compute_sample_weight(class_weight=\"balanced\", y=y_train)\n",
    "sample_weights"
   ]
  },
  {
   "cell_type": "code",
   "execution_count": 83,
   "id": "9b5ee677-41b2-4547-a5a4-b96a73b6b359",
   "metadata": {
    "scrolled": true
   },
   "outputs": [
    {
     "name": "stdout",
     "output_type": "stream",
     "text": [
      "Fitting 2 folds for each of 432 candidates, totalling 864 fits\n",
      "Best Parameters: {'learning_rate': 0.01, 'max_depth': 5, 'n_estimators': 1000, 'reg_alpha': 0.5, 'reg_lambda': 10}\n"
     ]
    }
   ],
   "source": [
    "#second iteration with class weights.\n",
    "from sklearn.model_selection import GridSearchCV\n",
    "\n",
    "param_grid2 = {\n",
    "    \"max_depth\": [5, 7, 9],\n",
    "    \"learning_rate\": [0.01, 0.1, 0.15],\n",
    "    \"n_estimators\": [500, 700, 1000],\n",
    "    \"reg_lambda\": [0.01, 0.1, 1, 10],  \n",
    "    \"reg_alpha\": [0, 0.1, 0.5, 1]\n",
    "}\n",
    "\n",
    "grid_search2 = GridSearchCV(XGBClassifier(objective=\"multi:softmax\", num_class=3), param_grid2, scoring=\"roc_auc_ovr_weighted\", verbose=3,n_jobs=-1, cv=2)\n",
    "grid_search2.fit(X_train, y_train, sample_weight=sample_weights)\n",
    "\n",
    "print(\"Best Parameters:\", grid_search2.best_params_)"
   ]
  },
  {
   "cell_type": "code",
   "execution_count": null,
   "id": "d94f0b8e-fe9e-4a94-9856-e6d177b11dce",
   "metadata": {},
   "outputs": [],
   "source": [
    "best_model_cw = grid_search2.best_estimator_\n",
    "\n",
    "# Save the model\n",
    "joblib.dump(best_model_cw, r'C:\\Users\\shanm\\OneDrive\\Desktop\\Kavya\\Spring 25\\NHTSA dataset-20250211T191427Z-002\\NHTSA dataset\\best_model_cw.pkl')\n",
    "\n",
    "print(\"Best model saved successfully!\")"
   ]
  },
  {
   "cell_type": "code",
   "execution_count": 22,
   "id": "0c51eb5d-ea8e-4b60-a939-9f0a6eb61c5d",
   "metadata": {},
   "outputs": [],
   "source": [
    "#loading the best model from first iteration to see the results\n",
    "loaded_model2 = joblib.load(r'C:\\Users\\shanm\\OneDrive\\Desktop\\Kavya\\Spring 25\\NHTSA dataset-20250211T191427Z-002\\NHTSA dataset\\best_model_cw.pkl')\n",
    "\n",
    "# Make predictions\n",
    "y_train_pred_bm2 = loaded_model2.predict(X_train)\n",
    "y_test_pred_bm2 = loaded_model2.predict(X_test)"
   ]
  },
  {
   "cell_type": "code",
   "execution_count": 23,
   "id": "9396d55f-c1c5-4f8e-882c-f403503265c1",
   "metadata": {},
   "outputs": [
    {
     "name": "stdout",
     "output_type": "stream",
     "text": [
      "Model Accuracy: 0.7938\n",
      "\n",
      "Classification Report:\n",
      "               precision    recall  f1-score   support\n",
      "\n",
      "         Low       0.99      0.80      0.89     32809\n",
      "      Medium       0.10      0.53      0.17      1000\n",
      "        High       0.06      0.59      0.11       234\n",
      "\n",
      "    accuracy                           0.79     34043\n",
      "   macro avg       0.38      0.64      0.39     34043\n",
      "weighted avg       0.95      0.79      0.86     34043\n",
      "\n",
      "\n",
      "Confusion Matrix:\n",
      " [[26358  4562  1889]\n",
      " [  332   527   141]\n",
      " [   45    51   138]]\n"
     ]
    }
   ],
   "source": [
    "# Evaluate model performance\n",
    "accuracy = accuracy_score(y_test, y_test_pred_bm2)\n",
    "print(f\"Model Accuracy: {accuracy:.4f}\")\n",
    "print(\"\\nClassification Report:\\n\", classification_report(y_test, y_test_pred_bm2, target_names=['Low','Medium','High']))\n",
    "print(\"\\nConfusion Matrix:\\n\", confusion_matrix(y_test, y_test_pred_bm2))"
   ]
  },
  {
   "cell_type": "markdown",
   "id": "3b2e2e04-e53c-4fca-84b8-4dcfba9e3c37",
   "metadata": {},
   "source": [
    "### Custom Weight Approach"
   ]
  },
  {
   "cell_type": "code",
   "execution_count": 28,
   "id": "6bd9261a-6a26-4e56-a36f-257e990ccc7a",
   "metadata": {},
   "outputs": [],
   "source": [
    "from sklearn.utils.class_weight import compute_sample_weight\n",
    "from sklearn.model_selection import GridSearchCV\n",
    "import numpy as np\n",
    "import xgboost as xgb\n",
    "\n",
    "# Define custom class weights (adjust as needed)\n",
    "custom_class_weights = {0: 0.3, 1: 8, 2: 20}\n",
    "\n",
    "# Map weights to each training sample\n",
    "sample_weights_custom = np.array([custom_class_weights[label] for label in y_train])\n",
    "\n",
    "xgb_model_ccw = xgb.XGBClassifier(\n",
    "    objective=\"multi:softmax\",\n",
    "    num_class=3,  \n",
    "    learning_rate=0.01,  \n",
    "    max_depth=5,  \n",
    "    n_estimators=1000,  \n",
    "    reg_alpha=0.5,  \n",
    "    reg_lambda=10,  \n",
    "    eval_metric=\"aucpr\",  # Use log loss for multiclass classification\n",
    "    use_label_encoder=False\n",
    ")\n",
    "\n",
    "# Train the model using sample weights\n",
    "xgb_model_ccw.fit(X_train, y_train, sample_weight=sample_weights_custom)\n",
    "\n",
    "# Make predictions\n",
    "y_test_pred_ccw = xgb_model.predict(X_test)\n"
   ]
  },
  {
   "cell_type": "code",
   "execution_count": 29,
   "id": "b66a1e67-7fa6-462d-8563-19dc15936b79",
   "metadata": {},
   "outputs": [
    {
     "name": "stdout",
     "output_type": "stream",
     "text": [
      "Model Accuracy: 0.9633\n",
      "\n",
      "Classification Report:\n",
      "               precision    recall  f1-score   support\n",
      "\n",
      "         Low       0.97      0.99      0.98     32809\n",
      "      Medium       0.45      0.15      0.22      1000\n",
      "        High       0.43      0.20      0.27       234\n",
      "\n",
      "    accuracy                           0.96     34043\n",
      "   macro avg       0.62      0.45      0.49     34043\n",
      "weighted avg       0.95      0.96      0.95     34043\n",
      "\n",
      "\n",
      "Confusion Matrix:\n",
      " [[32599   168    42]\n",
      " [  832   149    19]\n",
      " [  176    12    46]]\n"
     ]
    }
   ],
   "source": [
    "# Evaluate model performance\n",
    "accuracy = accuracy_score(y_test, y_test_pred_ccw)\n",
    "print(f\"Model Accuracy: {accuracy:.4f}\")\n",
    "print(\"\\nClassification Report:\\n\", classification_report(y_test, y_test_pred_ccw, target_names=['Low','Medium','High']))\n",
    "print(\"\\nConfusion Matrix:\\n\", confusion_matrix(y_test, y_test_pred_ccw))"
   ]
  },
  {
   "cell_type": "markdown",
   "id": "37f35606-fc31-466d-b6cd-6c19f2d703ac",
   "metadata": {},
   "source": [
    "---"
   ]
  },
  {
   "cell_type": "markdown",
   "id": "0c737978-bc99-4a43-ab0d-b9331ef008d1",
   "metadata": {},
   "source": [
    "### Logarithmic Weight Approach"
   ]
  },
  {
   "cell_type": "code",
   "execution_count": 31,
   "id": "40c6b6ac-1187-4585-8f7b-9a78e230228d",
   "metadata": {},
   "outputs": [],
   "source": [
    "from sklearn.utils.class_weight import compute_sample_weight\n",
    "from sklearn.model_selection import GridSearchCV\n",
    "import numpy as np\n",
    "import xgboost as xgb\n",
    "\n",
    "# Compute log-based class weights\n",
    "y_train_series = pd.Series(y_train)\n",
    "class_counts = y_train_series.value_counts().to_dict()\n",
    "log_class_weights = {label: np.log(sum(class_counts.values()) / count) for label, count in class_counts.items()}\n",
    "\n",
    "# Assign log weights to each sample\n",
    "sample_weights_log = np.array([log_class_weights[label] for label in y_train])\n",
    "\n",
    "xgb_model_log = xgb.XGBClassifier(\n",
    "    objective=\"multi:softmax\",\n",
    "    num_class=3,  \n",
    "    learning_rate=0.01,  \n",
    "    max_depth=5,  \n",
    "    n_estimators=1000,  \n",
    "    reg_alpha=0.5,  \n",
    "    reg_lambda=10,  \n",
    "    eval_metric=\"aucpr\",  # Use log loss for multiclass classification\n",
    "    use_label_encoder=False\n",
    ")\n",
    "\n",
    "# Train the model using sample weights\n",
    "xgb_model_log.fit(X_train, y_train, sample_weight=sample_weights_log)\n",
    "\n",
    "# Make predictions\n",
    "y_test_pred_log = xgb_model_log.predict(X_test)"
   ]
  },
  {
   "cell_type": "code",
   "execution_count": 32,
   "id": "aa5b855c-efc5-495f-bb13-60680cc1741d",
   "metadata": {},
   "outputs": [
    {
     "name": "stdout",
     "output_type": "stream",
     "text": [
      "Model Accuracy: 0.6553\n",
      "\n",
      "Classification Report:\n",
      "               precision    recall  f1-score   support\n",
      "\n",
      "         Low       0.99      0.65      0.79     32809\n",
      "      Medium       0.07      0.72      0.12      1000\n",
      "        High       0.08      0.44      0.14       234\n",
      "\n",
      "    accuracy                           0.66     34043\n",
      "   macro avg       0.38      0.61      0.35     34043\n",
      "weighted avg       0.96      0.66      0.76     34043\n",
      "\n",
      "\n",
      "Confusion Matrix:\n",
      " [[21486 10234  1089]\n",
      " [  200   720    80]\n",
      " [   18   113   103]]\n"
     ]
    }
   ],
   "source": [
    "# Evaluate model performance\n",
    "accuracy = accuracy_score(y_test, y_test_pred_log)\n",
    "print(f\"Model Accuracy: {accuracy:.4f}\")\n",
    "print(\"\\nClassification Report:\\n\", classification_report(y_test, y_test_pred_log, target_names=['Low','Medium','High']))\n",
    "print(\"\\nConfusion Matrix:\\n\", confusion_matrix(y_test, y_test_pred_log))"
   ]
  },
  {
   "cell_type": "markdown",
   "id": "f634b1f5-3154-4394-adcd-015bf6bba066",
   "metadata": {},
   "source": [
    "---"
   ]
  },
  {
   "cell_type": "markdown",
   "id": "59ec8d41-1af9-4dde-8409-a9cd4ebfe98c",
   "metadata": {},
   "source": [
    "### Randomised Search CV results from Saadana"
   ]
  },
  {
   "cell_type": "markdown",
   "id": "7204aea3-7538-41f1-b03d-75bbd229b587",
   "metadata": {},
   "source": [
    "## Balanced class weights"
   ]
  },
  {
   "cell_type": "markdown",
   "id": "fc7eb076-7534-4d13-93c0-38da6737fa28",
   "metadata": {},
   "source": [
    "for sample weights -Best Parameters Found: {'reg_lambda': 0.1, 'reg_alpha': 0.5, 'n_estimators': 100, 'max_depth': 3, 'learning_rate': 0.1}\n",
    " "
   ]
  },
  {
   "cell_type": "code",
   "execution_count": 13,
   "id": "f6b0ce25-b12e-4eee-a797-c0c5dc078abe",
   "metadata": {},
   "outputs": [],
   "source": [
    "from sklearn.utils.class_weight import compute_sample_weight\n",
    "from sklearn.model_selection import GridSearchCV\n",
    "import numpy as np\n",
    "import xgboost as xgb\n",
    "\n",
    "sample_weights = compute_sample_weight(class_weight=\"balanced\", y=y_train)\n",
    "\n",
    "xgb_model_ccw_rs = xgb.XGBClassifier(\n",
    "    objective=\"multi:softmax\",\n",
    "    num_class=3,  \n",
    "    learning_rate=0.1,  \n",
    "    max_depth=3,  \n",
    "    n_estimators=100,  \n",
    "    reg_alpha=0.5,  \n",
    "    reg_lambda=0.1,  \n",
    "    eval_metric=\"aucpr\",  # Use log loss for multiclass classification\n",
    "    use_label_encoder=False\n",
    ")\n",
    "\n",
    "# Train the model using sample weights\n",
    "xgb_model_ccw_rs.fit(X_train, y_train, sample_weight=sample_weights)\n",
    "\n",
    "# Make predictions\n",
    "y_test_pred_ccw_rs = xgb_model_ccw_rs.predict(X_test)"
   ]
  },
  {
   "cell_type": "code",
   "execution_count": 14,
   "id": "1bae1ea4-d66a-405f-9c40-2efbb2208779",
   "metadata": {},
   "outputs": [
    {
     "name": "stdout",
     "output_type": "stream",
     "text": [
      "Model Accuracy: 0.7799\n",
      "\n",
      "Classification Report:\n",
      "               precision    recall  f1-score   support\n",
      "\n",
      "         Low       0.99      0.79      0.88     32809\n",
      "      Medium       0.10      0.52      0.17      1000\n",
      "        High       0.06      0.63      0.10       234\n",
      "\n",
      "    accuracy                           0.78     34043\n",
      "   macro avg       0.38      0.65      0.38     34043\n",
      "weighted avg       0.95      0.78      0.85     34043\n",
      "\n",
      "\n",
      "Confusion Matrix:\n",
      " [[25880  4633  2296]\n",
      " [  316   523   161]\n",
      " [   42    45   147]]\n"
     ]
    }
   ],
   "source": [
    "# Evaluate model performance\n",
    "accuracy = accuracy_score(y_test, y_test_pred_ccw_rs)\n",
    "print(f\"Model Accuracy: {accuracy:.4f}\")\n",
    "print(\"\\nClassification Report:\\n\", classification_report(y_test, y_test_pred_ccw_rs, target_names=['Low','Medium','High']))\n",
    "print(\"\\nConfusion Matrix:\\n\", confusion_matrix(y_test, y_test_pred_ccw_rs))"
   ]
  },
  {
   "cell_type": "markdown",
   "id": "88a0e2be-fe8f-416b-852f-1b8d9eb3d576",
   "metadata": {},
   "source": [
    "## Log class weights"
   ]
  },
  {
   "cell_type": "code",
   "execution_count": 16,
   "id": "439dedbf-bbf6-43e4-afe3-d04fa598c280",
   "metadata": {},
   "outputs": [],
   "source": [
    "from sklearn.utils.class_weight import compute_sample_weight\n",
    "from sklearn.model_selection import GridSearchCV\n",
    "import numpy as np\n",
    "import xgboost as xgb\n",
    "\n",
    "# Compute log-based class weights\n",
    "y_train_series = pd.Series(y_train)\n",
    "class_counts = y_train_series.value_counts().to_dict()\n",
    "log_class_weights = {label: np.log(sum(class_counts.values()) / count) for label, count in class_counts.items()}\n",
    "\n",
    "# Assign log weights to each sample\n",
    "sample_weights_log = np.array([log_class_weights[label] for label in y_train])\n",
    "\n",
    "xgb_model_log_rs = xgb.XGBClassifier(\n",
    "    objective=\"multi:softmax\",\n",
    "    num_class=3,  \n",
    "    learning_rate=0.1,  \n",
    "    max_depth=3,  \n",
    "    n_estimators=100,  \n",
    "    reg_alpha=0.5,  \n",
    "    reg_lambda=0.1,  \n",
    "    eval_metric=\"aucpr\",  # Use log loss for multiclass classification\n",
    "    use_label_encoder=False\n",
    ")\n",
    "\n",
    "# Train the model using sample weights\n",
    "xgb_model_log_rs.fit(X_train, y_train, sample_weight=sample_weights_log)\n",
    "\n",
    "# Make predictions\n",
    "y_test_pred_log_rs = xgb_model_log_rs.predict(X_test)"
   ]
  },
  {
   "cell_type": "code",
   "execution_count": 17,
   "id": "4d20cabd-f8d0-42ef-84bb-326cf2e9194c",
   "metadata": {},
   "outputs": [
    {
     "name": "stdout",
     "output_type": "stream",
     "text": [
      "Model Accuracy: 0.6368\n",
      "\n",
      "Classification Report:\n",
      "               precision    recall  f1-score   support\n",
      "\n",
      "         Low       0.99      0.64      0.77     32809\n",
      "      Medium       0.06      0.73      0.12      1000\n",
      "        High       0.08      0.44      0.13       234\n",
      "\n",
      "    accuracy                           0.64     34043\n",
      "   macro avg       0.38      0.60      0.34     34043\n",
      "weighted avg       0.96      0.64      0.75     34043\n",
      "\n",
      "\n",
      "Confusion Matrix:\n",
      " [[20849 10791  1169]\n",
      " [  186   726    88]\n",
      " [   21   109   104]]\n"
     ]
    }
   ],
   "source": [
    "# Evaluate model performance\n",
    "accuracy = accuracy_score(y_test, y_test_pred_log_rs)\n",
    "print(f\"Model Accuracy: {accuracy:.4f}\")\n",
    "print(\"\\nClassification Report:\\n\", classification_report(y_test, y_test_pred_log_rs, target_names=['Low','Medium','High']))\n",
    "print(\"\\nConfusion Matrix:\\n\", confusion_matrix(y_test, y_test_pred_log_rs))"
   ]
  },
  {
   "cell_type": "code",
   "execution_count": null,
   "id": "5a488b5f-680c-4b62-ac53-62dbb4c96385",
   "metadata": {},
   "outputs": [],
   "source": []
  }
 ],
 "metadata": {
  "kernelspec": {
   "display_name": "Python 3 (ipykernel)",
   "language": "python",
   "name": "python3"
  },
  "language_info": {
   "codemirror_mode": {
    "name": "ipython",
    "version": 3
   },
   "file_extension": ".py",
   "mimetype": "text/x-python",
   "name": "python",
   "nbconvert_exporter": "python",
   "pygments_lexer": "ipython3",
   "version": "3.11.1"
  }
 },
 "nbformat": 4,
 "nbformat_minor": 5
}
