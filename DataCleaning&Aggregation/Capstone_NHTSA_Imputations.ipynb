{
 "cells": [
  {
   "cell_type": "code",
   "execution_count": null,
   "id": "e53f7bd0-32fe-4b3e-bfe3-217cb3849a62",
   "metadata": {},
   "outputs": [],
   "source": [
    "pip install pyodbc pandas"
   ]
  },
  {
   "cell_type": "code",
   "execution_count": null,
   "id": "105d01c1-3dcc-4ef5-a037-2f2a75380686",
   "metadata": {},
   "outputs": [],
   "source": [
    "import pyodbc\n",
    "print(pyodbc.drivers())"
   ]
  },
  {
   "cell_type": "code",
   "execution_count": null,
   "id": "87a38fe2-29fa-4e16-98ed-7d06b7550faf",
   "metadata": {},
   "outputs": [],
   "source": [
    "import pyodbc\n",
    "import pandas as pd\n",
    "\n",
    "# Define connection string with TrustServerCertificate=yes\n",
    "conn = pyodbc.connect(\n",
    "    \"DRIVER={ODBC Driver 18 for SQL Server};\"\n",
    "    \"SERVER=desktop-h3rbqbo;\"\n",
    "    \"DATABASE=ConsumerComplaints;\"\n",
    "    \"Trusted_Connection=yes;\"\n",
    "    \"TrustServerCertificate=yes;\"\n",
    ")\n",
    "\n",
    "# SQL Query to fetch all data\n",
    "query = \"SELECT * FROM dbo.combined_complaints;\"\n",
    "\n",
    "# Load table data into Pandas DataFrame\n",
    "df = pd.read_sql(query, conn)\n",
    "\n",
    "# Close connection\n",
    "conn.close()\n",
    "\n",
    "# Save DataFrame to CSV\n",
    "csv_filename = r\"C:\\Users\\shanm\\OneDrive\\Desktop\\Kavya\\Spring 25\\NHTSA dataset-20250211T191427Z-002\\NHTSA dataset\\Complaints\\combined_complaints.csv\"\n",
    "df.to_csv(csv_filename, index=False, encoding='utf-8')\n",
    "\n",
    "print(f\"✅ Data successfully saved to {csv_filename}\")\n"
   ]
  },
  {
   "cell_type": "code",
   "execution_count": 2,
   "id": "a802a33d-a3bd-4ce8-a97f-9b9c959df609",
   "metadata": {},
   "outputs": [
    {
     "name": "stderr",
     "output_type": "stream",
     "text": [
      "C:\\Users\\shanm\\AppData\\Local\\Temp\\ipykernel_21872\\3080914645.py:3: DtypeWarning: Columns (27,28,29,30,33,35,38,41,44) have mixed types. Specify dtype option on import or set low_memory=False.\n",
      "  df = pd.read_csv(r\"C:\\Users\\shanm\\OneDrive\\Desktop\\Kavya\\Spring 25\\NHTSA dataset-20250211T191427Z-002\\NHTSA dataset\\Complaints\\combined_complaints.csv\", low_memory = True)\n"
     ]
    }
   ],
   "source": [
    "#reading csv file\n",
    "import pandas as pd\n",
    "df = pd.read_csv(r\"C:\\Users\\shanm\\OneDrive\\Desktop\\Kavya\\Spring 25\\NHTSA dataset-20250211T191427Z-002\\NHTSA dataset\\Complaints\\combined_complaints.csv\", low_memory = True)"
   ]
  },
  {
   "cell_type": "code",
   "execution_count": 3,
   "id": "bcce482f-e145-48a6-a952-7c6c213b4d28",
   "metadata": {},
   "outputs": [
    {
     "data": {
      "text/plain": [
       "(1213407, 49)"
      ]
     },
     "execution_count": 3,
     "metadata": {},
     "output_type": "execute_result"
    }
   ],
   "source": [
    "df.shape"
   ]
  },
  {
   "cell_type": "code",
   "execution_count": 4,
   "id": "a6a8024c-0fc7-4112-aca8-8c4dd052ca5e",
   "metadata": {},
   "outputs": [
    {
     "data": {
      "text/html": [
       "<div>\n",
       "<style scoped>\n",
       "    .dataframe tbody tr th:only-of-type {\n",
       "        vertical-align: middle;\n",
       "    }\n",
       "\n",
       "    .dataframe tbody tr th {\n",
       "        vertical-align: top;\n",
       "    }\n",
       "\n",
       "    .dataframe thead th {\n",
       "        text-align: right;\n",
       "    }\n",
       "</style>\n",
       "<table border=\"1\" class=\"dataframe\">\n",
       "  <thead>\n",
       "    <tr style=\"text-align: right;\">\n",
       "      <th></th>\n",
       "      <th>CMPLID</th>\n",
       "      <th>ODINO</th>\n",
       "      <th>MFR_NAME</th>\n",
       "      <th>MAKETXT</th>\n",
       "      <th>MODELTXT</th>\n",
       "      <th>YEARTXT</th>\n",
       "      <th>CRASH</th>\n",
       "      <th>FAILDATE</th>\n",
       "      <th>FIRE</th>\n",
       "      <th>INJURED</th>\n",
       "      <th>...</th>\n",
       "      <th>RESTRAINT_TYPE</th>\n",
       "      <th>DEALER_NAME</th>\n",
       "      <th>DEALER_TEL</th>\n",
       "      <th>DEALER_CITY</th>\n",
       "      <th>DEALER_STATE</th>\n",
       "      <th>DEALER_ZIP</th>\n",
       "      <th>PROD_TYPE</th>\n",
       "      <th>REPAIRED_YN</th>\n",
       "      <th>MEDICAL_ATTN</th>\n",
       "      <th>VEHICLES_TOWED_YN</th>\n",
       "    </tr>\n",
       "  </thead>\n",
       "  <tbody>\n",
       "    <tr>\n",
       "      <th>0</th>\n",
       "      <td>179043</td>\n",
       "      <td>851144</td>\n",
       "      <td>Ford Motor Company</td>\n",
       "      <td>FORD</td>\n",
       "      <td>EXPEDITION                                    ...</td>\n",
       "      <td>2008.0</td>\n",
       "      <td>Y</td>\n",
       "      <td>20091102</td>\n",
       "      <td>N</td>\n",
       "      <td>0</td>\n",
       "      <td>...</td>\n",
       "      <td>NaN</td>\n",
       "      <td>NaN</td>\n",
       "      <td>NaN</td>\n",
       "      <td>NaN</td>\n",
       "      <td>NaN</td>\n",
       "      <td>NaN</td>\n",
       "      <td>V</td>\n",
       "      <td>NaN</td>\n",
       "      <td>N</td>\n",
       "      <td>N</td>\n",
       "    </tr>\n",
       "    <tr>\n",
       "      <th>1</th>\n",
       "      <td>179044</td>\n",
       "      <td>851144</td>\n",
       "      <td>Ford Motor Company</td>\n",
       "      <td>FORD</td>\n",
       "      <td>EXPEDITION                                    ...</td>\n",
       "      <td>2008.0</td>\n",
       "      <td>Y</td>\n",
       "      <td>20091102</td>\n",
       "      <td>N</td>\n",
       "      <td>0</td>\n",
       "      <td>...</td>\n",
       "      <td>NaN</td>\n",
       "      <td>NaN</td>\n",
       "      <td>NaN</td>\n",
       "      <td>NaN</td>\n",
       "      <td>NaN</td>\n",
       "      <td>NaN</td>\n",
       "      <td>V</td>\n",
       "      <td>NaN</td>\n",
       "      <td>N</td>\n",
       "      <td>N</td>\n",
       "    </tr>\n",
       "    <tr>\n",
       "      <th>2</th>\n",
       "      <td>725400</td>\n",
       "      <td>10275413</td>\n",
       "      <td>Gulf Stream Coach, Inc.</td>\n",
       "      <td>GULF STREAM</td>\n",
       "      <td>TOURMASTER                                    ...</td>\n",
       "      <td>2008.0</td>\n",
       "      <td>N</td>\n",
       "      <td>20091201</td>\n",
       "      <td>N</td>\n",
       "      <td>0</td>\n",
       "      <td>...</td>\n",
       "      <td>NaN</td>\n",
       "      <td>NaN</td>\n",
       "      <td>NaN</td>\n",
       "      <td>NaN</td>\n",
       "      <td>NaN</td>\n",
       "      <td>NaN</td>\n",
       "      <td>V</td>\n",
       "      <td>NaN</td>\n",
       "      <td>N</td>\n",
       "      <td>N</td>\n",
       "    </tr>\n",
       "    <tr>\n",
       "      <th>3</th>\n",
       "      <td>753157</td>\n",
       "      <td>10300390</td>\n",
       "      <td>Volkswagen Group of America, Inc.</td>\n",
       "      <td>VOLKSWAGEN</td>\n",
       "      <td>PASSAT                                        ...</td>\n",
       "      <td>2006.0</td>\n",
       "      <td>N</td>\n",
       "      <td>20091228</td>\n",
       "      <td>N</td>\n",
       "      <td>0</td>\n",
       "      <td>...</td>\n",
       "      <td>NaN</td>\n",
       "      <td>NaN</td>\n",
       "      <td>NaN</td>\n",
       "      <td>NaN</td>\n",
       "      <td>NaN</td>\n",
       "      <td>NaN</td>\n",
       "      <td>V</td>\n",
       "      <td>NaN</td>\n",
       "      <td>N</td>\n",
       "      <td>N</td>\n",
       "    </tr>\n",
       "    <tr>\n",
       "      <th>4</th>\n",
       "      <td>753158</td>\n",
       "      <td>10300387</td>\n",
       "      <td>Ford Motor Company</td>\n",
       "      <td>MERCURY</td>\n",
       "      <td>SABLE                                         ...</td>\n",
       "      <td>2002.0</td>\n",
       "      <td>N</td>\n",
       "      <td>20080709</td>\n",
       "      <td>N</td>\n",
       "      <td>0</td>\n",
       "      <td>...</td>\n",
       "      <td>NaN</td>\n",
       "      <td>NaN</td>\n",
       "      <td>NaN</td>\n",
       "      <td>NaN</td>\n",
       "      <td>NaN</td>\n",
       "      <td>NaN</td>\n",
       "      <td>V</td>\n",
       "      <td>NaN</td>\n",
       "      <td>N</td>\n",
       "      <td>N</td>\n",
       "    </tr>\n",
       "  </tbody>\n",
       "</table>\n",
       "<p>5 rows × 49 columns</p>\n",
       "</div>"
      ],
      "text/plain": [
       "   CMPLID     ODINO                                  MFR_NAME  \\\n",
       "0  179043    851144  Ford Motor Company                         \n",
       "1  179044    851144  Ford Motor Company                         \n",
       "2  725400  10275413  Gulf Stream Coach, Inc.                    \n",
       "3  753157  10300390  Volkswagen Group of America, Inc.          \n",
       "4  753158  10300387  Ford Motor Company                         \n",
       "\n",
       "                     MAKETXT  \\\n",
       "0  FORD                        \n",
       "1  FORD                        \n",
       "2  GULF STREAM                 \n",
       "3  VOLKSWAGEN                  \n",
       "4  MERCURY                     \n",
       "\n",
       "                                            MODELTXT  YEARTXT CRASH  FAILDATE  \\\n",
       "0  EXPEDITION                                    ...   2008.0     Y  20091102   \n",
       "1  EXPEDITION                                    ...   2008.0     Y  20091102   \n",
       "2  TOURMASTER                                    ...   2008.0     N  20091201   \n",
       "3  PASSAT                                        ...   2006.0     N  20091228   \n",
       "4  SABLE                                         ...   2002.0     N  20080709   \n",
       "\n",
       "  FIRE  INJURED  ...  RESTRAINT_TYPE DEALER_NAME DEALER_TEL DEALER_CITY  \\\n",
       "0    N        0  ...             NaN         NaN        NaN         NaN   \n",
       "1    N        0  ...             NaN         NaN        NaN         NaN   \n",
       "2    N        0  ...             NaN         NaN        NaN         NaN   \n",
       "3    N        0  ...             NaN         NaN        NaN         NaN   \n",
       "4    N        0  ...             NaN         NaN        NaN         NaN   \n",
       "\n",
       "  DEALER_STATE  DEALER_ZIP  PROD_TYPE  REPAIRED_YN  MEDICAL_ATTN  \\\n",
       "0          NaN         NaN       V             NaN             N   \n",
       "1          NaN         NaN       V             NaN             N   \n",
       "2          NaN         NaN       V             NaN             N   \n",
       "3          NaN         NaN       V             NaN             N   \n",
       "4          NaN         NaN       V             NaN             N   \n",
       "\n",
       "  VEHICLES_TOWED_YN  \n",
       "0                 N  \n",
       "1                 N  \n",
       "2                 N  \n",
       "3                 N  \n",
       "4                 N  \n",
       "\n",
       "[5 rows x 49 columns]"
      ]
     },
     "execution_count": 4,
     "metadata": {},
     "output_type": "execute_result"
    }
   ],
   "source": [
    "df.head()"
   ]
  },
  {
   "cell_type": "code",
   "execution_count": 5,
   "id": "4f873cf7-8752-4bc9-9330-4d1020019dcf",
   "metadata": {},
   "outputs": [
    {
     "data": {
      "text/plain": [
       "Index(['CMPLID', 'ODINO', 'MFR_NAME', 'MAKETXT', 'MODELTXT', 'YEARTXT',\n",
       "       'CRASH', 'FAILDATE', 'FIRE', 'INJURED', 'DEATHS', 'COMPDESC', 'CITY',\n",
       "       'STATE', 'VIN', 'DATEA', 'LDATE', 'MILES', 'OCCURRENCES', 'CDESCR',\n",
       "       'CMPL_TYPE', 'POLICE_RPT_YN', 'PURCH_DT', 'ORIG_OWNER_YN',\n",
       "       'ANTI_BRAKES_YN', 'CRUISE_CONT_YN', 'NUM_CYLS', 'DRIVE_TRAIN',\n",
       "       'FUEL_SYS', 'FUEL_TYPE', 'TRANS_TYPE', 'VEH_SPEED', 'DOT', 'TIRE_SIZE',\n",
       "       'LOC_OF_TIRE', 'TIRE_FAIL_TYPE', 'ORIG_EQUIP_YN', 'MANUF_DT',\n",
       "       'SEAT_TYPE', 'RESTRAINT_TYPE', 'DEALER_NAME', 'DEALER_TEL',\n",
       "       'DEALER_CITY', 'DEALER_STATE', 'DEALER_ZIP', 'PROD_TYPE', 'REPAIRED_YN',\n",
       "       'MEDICAL_ATTN', 'VEHICLES_TOWED_YN'],\n",
       "      dtype='object')"
      ]
     },
     "execution_count": 5,
     "metadata": {},
     "output_type": "execute_result"
    }
   ],
   "source": [
    "df.columns"
   ]
  },
  {
   "cell_type": "code",
   "execution_count": 6,
   "id": "ffdbc62d-8227-4989-a3ca-07e60d9ee6f5",
   "metadata": {
    "scrolled": true
   },
   "outputs": [
    {
     "data": {
      "text/html": [
       "<div>\n",
       "<style scoped>\n",
       "    .dataframe tbody tr th:only-of-type {\n",
       "        vertical-align: middle;\n",
       "    }\n",
       "\n",
       "    .dataframe tbody tr th {\n",
       "        vertical-align: top;\n",
       "    }\n",
       "\n",
       "    .dataframe thead th {\n",
       "        text-align: right;\n",
       "    }\n",
       "</style>\n",
       "<table border=\"1\" class=\"dataframe\">\n",
       "  <thead>\n",
       "    <tr style=\"text-align: right;\">\n",
       "      <th></th>\n",
       "      <th>index</th>\n",
       "      <th>0</th>\n",
       "    </tr>\n",
       "  </thead>\n",
       "  <tbody>\n",
       "    <tr>\n",
       "      <th>0</th>\n",
       "      <td>CMPLID</td>\n",
       "      <td>0.000000</td>\n",
       "    </tr>\n",
       "    <tr>\n",
       "      <th>1</th>\n",
       "      <td>ODINO</td>\n",
       "      <td>0.000000</td>\n",
       "    </tr>\n",
       "    <tr>\n",
       "      <th>2</th>\n",
       "      <td>MFR_NAME</td>\n",
       "      <td>0.001813</td>\n",
       "    </tr>\n",
       "    <tr>\n",
       "      <th>3</th>\n",
       "      <td>MAKETXT</td>\n",
       "      <td>0.001813</td>\n",
       "    </tr>\n",
       "    <tr>\n",
       "      <th>4</th>\n",
       "      <td>MODELTXT</td>\n",
       "      <td>0.001813</td>\n",
       "    </tr>\n",
       "    <tr>\n",
       "      <th>5</th>\n",
       "      <td>YEARTXT</td>\n",
       "      <td>0.001813</td>\n",
       "    </tr>\n",
       "    <tr>\n",
       "      <th>6</th>\n",
       "      <td>CRASH</td>\n",
       "      <td>0.000000</td>\n",
       "    </tr>\n",
       "    <tr>\n",
       "      <th>7</th>\n",
       "      <td>FAILDATE</td>\n",
       "      <td>0.000000</td>\n",
       "    </tr>\n",
       "    <tr>\n",
       "      <th>8</th>\n",
       "      <td>FIRE</td>\n",
       "      <td>0.000000</td>\n",
       "    </tr>\n",
       "    <tr>\n",
       "      <th>9</th>\n",
       "      <td>INJURED</td>\n",
       "      <td>0.000000</td>\n",
       "    </tr>\n",
       "    <tr>\n",
       "      <th>10</th>\n",
       "      <td>DEATHS</td>\n",
       "      <td>0.000000</td>\n",
       "    </tr>\n",
       "    <tr>\n",
       "      <th>11</th>\n",
       "      <td>COMPDESC</td>\n",
       "      <td>0.001319</td>\n",
       "    </tr>\n",
       "    <tr>\n",
       "      <th>12</th>\n",
       "      <td>CITY</td>\n",
       "      <td>0.003132</td>\n",
       "    </tr>\n",
       "    <tr>\n",
       "      <th>13</th>\n",
       "      <td>STATE</td>\n",
       "      <td>0.000000</td>\n",
       "    </tr>\n",
       "    <tr>\n",
       "      <th>14</th>\n",
       "      <td>VIN</td>\n",
       "      <td>9.987580</td>\n",
       "    </tr>\n",
       "    <tr>\n",
       "      <th>15</th>\n",
       "      <td>DATEA</td>\n",
       "      <td>0.000000</td>\n",
       "    </tr>\n",
       "    <tr>\n",
       "      <th>16</th>\n",
       "      <td>LDATE</td>\n",
       "      <td>0.000000</td>\n",
       "    </tr>\n",
       "    <tr>\n",
       "      <th>17</th>\n",
       "      <td>MILES</td>\n",
       "      <td>36.067206</td>\n",
       "    </tr>\n",
       "    <tr>\n",
       "      <th>18</th>\n",
       "      <td>OCCURRENCES</td>\n",
       "      <td>73.469495</td>\n",
       "    </tr>\n",
       "    <tr>\n",
       "      <th>19</th>\n",
       "      <td>CDESCR</td>\n",
       "      <td>0.003791</td>\n",
       "    </tr>\n",
       "    <tr>\n",
       "      <th>20</th>\n",
       "      <td>CMPL_TYPE</td>\n",
       "      <td>0.000000</td>\n",
       "    </tr>\n",
       "    <tr>\n",
       "      <th>21</th>\n",
       "      <td>POLICE_RPT_YN</td>\n",
       "      <td>0.000000</td>\n",
       "    </tr>\n",
       "    <tr>\n",
       "      <th>22</th>\n",
       "      <td>PURCH_DT</td>\n",
       "      <td>97.891886</td>\n",
       "    </tr>\n",
       "    <tr>\n",
       "      <th>23</th>\n",
       "      <td>ORIG_OWNER_YN</td>\n",
       "      <td>1.586525</td>\n",
       "    </tr>\n",
       "    <tr>\n",
       "      <th>24</th>\n",
       "      <td>ANTI_BRAKES_YN</td>\n",
       "      <td>1.586525</td>\n",
       "    </tr>\n",
       "    <tr>\n",
       "      <th>25</th>\n",
       "      <td>CRUISE_CONT_YN</td>\n",
       "      <td>1.586525</td>\n",
       "    </tr>\n",
       "    <tr>\n",
       "      <th>26</th>\n",
       "      <td>NUM_CYLS</td>\n",
       "      <td>82.413073</td>\n",
       "    </tr>\n",
       "    <tr>\n",
       "      <th>27</th>\n",
       "      <td>DRIVE_TRAIN</td>\n",
       "      <td>89.779357</td>\n",
       "    </tr>\n",
       "    <tr>\n",
       "      <th>28</th>\n",
       "      <td>FUEL_SYS</td>\n",
       "      <td>97.494493</td>\n",
       "    </tr>\n",
       "    <tr>\n",
       "      <th>29</th>\n",
       "      <td>FUEL_TYPE</td>\n",
       "      <td>85.156506</td>\n",
       "    </tr>\n",
       "    <tr>\n",
       "      <th>30</th>\n",
       "      <td>TRANS_TYPE</td>\n",
       "      <td>98.351666</td>\n",
       "    </tr>\n",
       "    <tr>\n",
       "      <th>31</th>\n",
       "      <td>VEH_SPEED</td>\n",
       "      <td>39.163117</td>\n",
       "    </tr>\n",
       "    <tr>\n",
       "      <th>32</th>\n",
       "      <td>DOT</td>\n",
       "      <td>99.456984</td>\n",
       "    </tr>\n",
       "    <tr>\n",
       "      <th>33</th>\n",
       "      <td>TIRE_SIZE</td>\n",
       "      <td>99.414047</td>\n",
       "    </tr>\n",
       "    <tr>\n",
       "      <th>34</th>\n",
       "      <td>LOC_OF_TIRE</td>\n",
       "      <td>99.330727</td>\n",
       "    </tr>\n",
       "    <tr>\n",
       "      <th>35</th>\n",
       "      <td>TIRE_FAIL_TYPE</td>\n",
       "      <td>99.449237</td>\n",
       "    </tr>\n",
       "    <tr>\n",
       "      <th>36</th>\n",
       "      <td>ORIG_EQUIP_YN</td>\n",
       "      <td>99.506513</td>\n",
       "    </tr>\n",
       "    <tr>\n",
       "      <th>37</th>\n",
       "      <td>MANUF_DT</td>\n",
       "      <td>99.774190</td>\n",
       "    </tr>\n",
       "    <tr>\n",
       "      <th>38</th>\n",
       "      <td>SEAT_TYPE</td>\n",
       "      <td>99.769080</td>\n",
       "    </tr>\n",
       "    <tr>\n",
       "      <th>39</th>\n",
       "      <td>RESTRAINT_TYPE</td>\n",
       "      <td>99.786716</td>\n",
       "    </tr>\n",
       "    <tr>\n",
       "      <th>40</th>\n",
       "      <td>DEALER_NAME</td>\n",
       "      <td>94.126456</td>\n",
       "    </tr>\n",
       "    <tr>\n",
       "      <th>41</th>\n",
       "      <td>DEALER_TEL</td>\n",
       "      <td>98.705628</td>\n",
       "    </tr>\n",
       "    <tr>\n",
       "      <th>42</th>\n",
       "      <td>DEALER_CITY</td>\n",
       "      <td>94.612195</td>\n",
       "    </tr>\n",
       "    <tr>\n",
       "      <th>43</th>\n",
       "      <td>DEALER_STATE</td>\n",
       "      <td>94.589120</td>\n",
       "    </tr>\n",
       "    <tr>\n",
       "      <th>44</th>\n",
       "      <td>DEALER_ZIP</td>\n",
       "      <td>95.355392</td>\n",
       "    </tr>\n",
       "    <tr>\n",
       "      <th>45</th>\n",
       "      <td>PROD_TYPE</td>\n",
       "      <td>0.001401</td>\n",
       "    </tr>\n",
       "    <tr>\n",
       "      <th>46</th>\n",
       "      <td>REPAIRED_YN</td>\n",
       "      <td>99.179253</td>\n",
       "    </tr>\n",
       "    <tr>\n",
       "      <th>47</th>\n",
       "      <td>MEDICAL_ATTN</td>\n",
       "      <td>0.000000</td>\n",
       "    </tr>\n",
       "    <tr>\n",
       "      <th>48</th>\n",
       "      <td>VEHICLES_TOWED_YN</td>\n",
       "      <td>1.586525</td>\n",
       "    </tr>\n",
       "  </tbody>\n",
       "</table>\n",
       "</div>"
      ],
      "text/plain": [
       "                index          0\n",
       "0              CMPLID   0.000000\n",
       "1               ODINO   0.000000\n",
       "2            MFR_NAME   0.001813\n",
       "3             MAKETXT   0.001813\n",
       "4            MODELTXT   0.001813\n",
       "5             YEARTXT   0.001813\n",
       "6               CRASH   0.000000\n",
       "7            FAILDATE   0.000000\n",
       "8                FIRE   0.000000\n",
       "9             INJURED   0.000000\n",
       "10             DEATHS   0.000000\n",
       "11           COMPDESC   0.001319\n",
       "12               CITY   0.003132\n",
       "13              STATE   0.000000\n",
       "14                VIN   9.987580\n",
       "15              DATEA   0.000000\n",
       "16              LDATE   0.000000\n",
       "17              MILES  36.067206\n",
       "18        OCCURRENCES  73.469495\n",
       "19             CDESCR   0.003791\n",
       "20          CMPL_TYPE   0.000000\n",
       "21      POLICE_RPT_YN   0.000000\n",
       "22           PURCH_DT  97.891886\n",
       "23      ORIG_OWNER_YN   1.586525\n",
       "24     ANTI_BRAKES_YN   1.586525\n",
       "25     CRUISE_CONT_YN   1.586525\n",
       "26           NUM_CYLS  82.413073\n",
       "27        DRIVE_TRAIN  89.779357\n",
       "28           FUEL_SYS  97.494493\n",
       "29          FUEL_TYPE  85.156506\n",
       "30         TRANS_TYPE  98.351666\n",
       "31          VEH_SPEED  39.163117\n",
       "32                DOT  99.456984\n",
       "33          TIRE_SIZE  99.414047\n",
       "34        LOC_OF_TIRE  99.330727\n",
       "35     TIRE_FAIL_TYPE  99.449237\n",
       "36      ORIG_EQUIP_YN  99.506513\n",
       "37           MANUF_DT  99.774190\n",
       "38          SEAT_TYPE  99.769080\n",
       "39     RESTRAINT_TYPE  99.786716\n",
       "40        DEALER_NAME  94.126456\n",
       "41         DEALER_TEL  98.705628\n",
       "42        DEALER_CITY  94.612195\n",
       "43       DEALER_STATE  94.589120\n",
       "44         DEALER_ZIP  95.355392\n",
       "45          PROD_TYPE   0.001401\n",
       "46        REPAIRED_YN  99.179253\n",
       "47       MEDICAL_ATTN   0.000000\n",
       "48  VEHICLES_TOWED_YN   1.586525"
      ]
     },
     "execution_count": 6,
     "metadata": {},
     "output_type": "execute_result"
    }
   ],
   "source": [
    "#finding missing values\n",
    "missing = ((df.isna().sum()/df.shape[0])*100).reset_index()\n",
    "missing"
   ]
  },
  {
   "cell_type": "code",
   "execution_count": 7,
   "id": "e50d3970-f275-4397-9879-e1a36a90a730",
   "metadata": {},
   "outputs": [],
   "source": [
    "#dropping columns having more than 90% missing values\n",
    "drop_cols = missing[missing[0]>90]['index'].tolist()\n"
   ]
  },
  {
   "cell_type": "code",
   "execution_count": 8,
   "id": "215edd2a-8a94-4adb-9497-72dbf3cf2a35",
   "metadata": {},
   "outputs": [],
   "source": [
    "df.drop(axis = 1, columns = drop_cols, inplace = True)"
   ]
  },
  {
   "cell_type": "code",
   "execution_count": 9,
   "id": "0efe78ac-5552-4af6-9f2d-1614959dba39",
   "metadata": {},
   "outputs": [
    {
     "data": {
      "text/plain": [
       "Index(['CMPLID', 'ODINO', 'MFR_NAME', 'MAKETXT', 'MODELTXT', 'YEARTXT',\n",
       "       'CRASH', 'FAILDATE', 'FIRE', 'INJURED', 'DEATHS', 'COMPDESC', 'CITY',\n",
       "       'STATE', 'VIN', 'DATEA', 'LDATE', 'MILES', 'OCCURRENCES', 'CDESCR',\n",
       "       'CMPL_TYPE', 'POLICE_RPT_YN', 'ORIG_OWNER_YN', 'ANTI_BRAKES_YN',\n",
       "       'CRUISE_CONT_YN', 'NUM_CYLS', 'DRIVE_TRAIN', 'FUEL_TYPE', 'VEH_SPEED',\n",
       "       'PROD_TYPE', 'MEDICAL_ATTN', 'VEHICLES_TOWED_YN'],\n",
       "      dtype='object')"
      ]
     },
     "execution_count": 9,
     "metadata": {},
     "output_type": "execute_result"
    }
   ],
   "source": [
    "df.columns"
   ]
  },
  {
   "cell_type": "code",
   "execution_count": 10,
   "id": "41f608b8-b525-48a2-9390-2d9df68d6cf2",
   "metadata": {
    "scrolled": true
   },
   "outputs": [
    {
     "data": {
      "text/plain": [
       "CMPLID                     0\n",
       "POLICE_RPT_YN              0\n",
       "CMPL_TYPE                  0\n",
       "LDATE                      0\n",
       "MEDICAL_ATTN               0\n",
       "STATE                      0\n",
       "DEATHS                     0\n",
       "INJURED                    0\n",
       "DATEA                      0\n",
       "FAILDATE                   0\n",
       "CRASH                      0\n",
       "ODINO                      0\n",
       "FIRE                       0\n",
       "COMPDESC                  16\n",
       "PROD_TYPE                 17\n",
       "MAKETXT                   22\n",
       "MFR_NAME                  22\n",
       "YEARTXT                   22\n",
       "MODELTXT                  22\n",
       "CITY                      38\n",
       "CDESCR                    46\n",
       "ORIG_OWNER_YN          19251\n",
       "ANTI_BRAKES_YN         19251\n",
       "CRUISE_CONT_YN         19251\n",
       "VEHICLES_TOWED_YN      19251\n",
       "VIN                   121190\n",
       "MILES                 437642\n",
       "VEH_SPEED             475208\n",
       "OCCURRENCES           891484\n",
       "NUM_CYLS             1000006\n",
       "FUEL_TYPE            1033295\n",
       "DRIVE_TRAIN          1089389\n",
       "dtype: int64"
      ]
     },
     "execution_count": 10,
     "metadata": {},
     "output_type": "execute_result"
    }
   ],
   "source": [
    "df.isna().sum().sort_values()"
   ]
  },
  {
   "cell_type": "code",
   "execution_count": 11,
   "id": "8e3e73b5-c4f2-45fb-8d51-b7d244691d3f",
   "metadata": {},
   "outputs": [],
   "source": [
    "#droping additional columns based on column relevance\n",
    "df.drop(axis = 1, columns = ['VIN','NUM_CYLS','MFR_NAME'],  inplace = True)"
   ]
  },
  {
   "cell_type": "code",
   "execution_count": 12,
   "id": "9da9ed3d-df40-4046-a695-b626d2f2f409",
   "metadata": {},
   "outputs": [
    {
     "data": {
      "text/plain": [
       "(1213407, 29)"
      ]
     },
     "execution_count": 12,
     "metadata": {},
     "output_type": "execute_result"
    }
   ],
   "source": [
    "df.shape"
   ]
  },
  {
   "cell_type": "markdown",
   "id": "fd6659cb-f11e-4642-b226-b24c7d0773be",
   "metadata": {},
   "source": [
    "### Primary_Keys "
   ]
  },
  {
   "cell_type": "code",
   "execution_count": 13,
   "id": "8bbf3071-0058-425a-95bd-e33175b8bf36",
   "metadata": {},
   "outputs": [
    {
     "data": {
      "text/plain": [
       "(1213377, 29)"
      ]
     },
     "execution_count": 13,
     "metadata": {},
     "output_type": "execute_result"
    }
   ],
   "source": [
    "#deleting the rows where primary keys are null.\n",
    "#('MAKETXT','MODELTXT','YEARTXT','COMPDESC') are the primary keys \n",
    "df.dropna(subset=['MAKETXT','MODELTXT','YEARTXT','COMPDESC'], inplace = True)\n",
    "# df[df['MAKETXT'].notna() | df['MODELTXT'].notna() | df['YEARTXT'].notna() | df['COMPDESC'].notna()].shape\n",
    "df.shape "
   ]
  },
  {
   "cell_type": "code",
   "execution_count": 14,
   "id": "4db40824-e016-4b30-b416-fd6ed97272dc",
   "metadata": {},
   "outputs": [],
   "source": [
    "#Droping null values in the complaint description\n",
    "df.dropna(subset=['CDESCR'], inplace = True)"
   ]
  },
  {
   "cell_type": "code",
   "execution_count": 15,
   "id": "17cd9bca-185c-48f2-a64a-c907f3bc7717",
   "metadata": {},
   "outputs": [],
   "source": [
    "df.dropna(subset=['CITY'], inplace = True)"
   ]
  },
  {
   "cell_type": "code",
   "execution_count": 16,
   "id": "5f214972-8442-44d2-b72f-7d00909b7a32",
   "metadata": {},
   "outputs": [],
   "source": [
    "#droping complaint desc temporarily for space optimisation \n",
    "# df.drop(axis = 1, columns = ['CDESCR'],  inplace = True)"
   ]
  },
  {
   "cell_type": "code",
   "execution_count": 17,
   "id": "dcb40148-1439-48bb-b38c-8fafea5d01e8",
   "metadata": {
    "scrolled": true
   },
   "outputs": [
    {
     "data": {
      "text/html": [
       "<div>\n",
       "<style scoped>\n",
       "    .dataframe tbody tr th:only-of-type {\n",
       "        vertical-align: middle;\n",
       "    }\n",
       "\n",
       "    .dataframe tbody tr th {\n",
       "        vertical-align: top;\n",
       "    }\n",
       "\n",
       "    .dataframe thead th {\n",
       "        text-align: right;\n",
       "    }\n",
       "</style>\n",
       "<table border=\"1\" class=\"dataframe\">\n",
       "  <thead>\n",
       "    <tr style=\"text-align: right;\">\n",
       "      <th></th>\n",
       "      <th>CMPLID</th>\n",
       "      <th>ODINO</th>\n",
       "      <th>MAKETXT</th>\n",
       "      <th>MODELTXT</th>\n",
       "      <th>YEARTXT</th>\n",
       "      <th>CRASH</th>\n",
       "      <th>FAILDATE</th>\n",
       "      <th>FIRE</th>\n",
       "      <th>INJURED</th>\n",
       "      <th>DEATHS</th>\n",
       "      <th>...</th>\n",
       "      <th>POLICE_RPT_YN</th>\n",
       "      <th>ORIG_OWNER_YN</th>\n",
       "      <th>ANTI_BRAKES_YN</th>\n",
       "      <th>CRUISE_CONT_YN</th>\n",
       "      <th>DRIVE_TRAIN</th>\n",
       "      <th>FUEL_TYPE</th>\n",
       "      <th>VEH_SPEED</th>\n",
       "      <th>PROD_TYPE</th>\n",
       "      <th>MEDICAL_ATTN</th>\n",
       "      <th>VEHICLES_TOWED_YN</th>\n",
       "    </tr>\n",
       "  </thead>\n",
       "  <tbody>\n",
       "    <tr>\n",
       "      <th>677</th>\n",
       "      <td>750504</td>\n",
       "      <td>10297778</td>\n",
       "      <td>EVENFLO</td>\n",
       "      <td>381 (TOT TAXI)                                ...</td>\n",
       "      <td>9999.0</td>\n",
       "      <td>Y</td>\n",
       "      <td>20091231</td>\n",
       "      <td>N</td>\n",
       "      <td>0</td>\n",
       "      <td>0</td>\n",
       "      <td>...</td>\n",
       "      <td>N</td>\n",
       "      <td>NaN</td>\n",
       "      <td>NaN</td>\n",
       "      <td>NaN</td>\n",
       "      <td>NaN</td>\n",
       "      <td>NaN</td>\n",
       "      <td>NaN</td>\n",
       "      <td>C</td>\n",
       "      <td>N</td>\n",
       "      <td>NaN</td>\n",
       "    </tr>\n",
       "    <tr>\n",
       "      <th>684</th>\n",
       "      <td>750503</td>\n",
       "      <td>10297778</td>\n",
       "      <td>EVENFLO</td>\n",
       "      <td>381 (TOT TAXI)                                ...</td>\n",
       "      <td>9999.0</td>\n",
       "      <td>Y</td>\n",
       "      <td>20091231</td>\n",
       "      <td>N</td>\n",
       "      <td>0</td>\n",
       "      <td>0</td>\n",
       "      <td>...</td>\n",
       "      <td>N</td>\n",
       "      <td>NaN</td>\n",
       "      <td>NaN</td>\n",
       "      <td>NaN</td>\n",
       "      <td>NaN</td>\n",
       "      <td>NaN</td>\n",
       "      <td>NaN</td>\n",
       "      <td>C</td>\n",
       "      <td>N</td>\n",
       "      <td>NaN</td>\n",
       "    </tr>\n",
       "    <tr>\n",
       "      <th>732</th>\n",
       "      <td>752533</td>\n",
       "      <td>10299873</td>\n",
       "      <td>DOREL</td>\n",
       "      <td>22-355 LBF (DISNEY)                           ...</td>\n",
       "      <td>9999.0</td>\n",
       "      <td>N</td>\n",
       "      <td>20100101</td>\n",
       "      <td>N</td>\n",
       "      <td>0</td>\n",
       "      <td>0</td>\n",
       "      <td>...</td>\n",
       "      <td>N</td>\n",
       "      <td>NaN</td>\n",
       "      <td>NaN</td>\n",
       "      <td>NaN</td>\n",
       "      <td>NaN</td>\n",
       "      <td>NaN</td>\n",
       "      <td>NaN</td>\n",
       "      <td>C</td>\n",
       "      <td>N</td>\n",
       "      <td>NaN</td>\n",
       "    </tr>\n",
       "    <tr>\n",
       "      <th>911</th>\n",
       "      <td>755353</td>\n",
       "      <td>10303502</td>\n",
       "      <td>CHICCO</td>\n",
       "      <td>CORTINA TRAVEL SYSTEMS                        ...</td>\n",
       "      <td>9999.0</td>\n",
       "      <td>N</td>\n",
       "      <td>20100201</td>\n",
       "      <td>N</td>\n",
       "      <td>0</td>\n",
       "      <td>0</td>\n",
       "      <td>...</td>\n",
       "      <td>N</td>\n",
       "      <td>NaN</td>\n",
       "      <td>NaN</td>\n",
       "      <td>NaN</td>\n",
       "      <td>NaN</td>\n",
       "      <td>NaN</td>\n",
       "      <td>NaN</td>\n",
       "      <td>C</td>\n",
       "      <td>N</td>\n",
       "      <td>NaN</td>\n",
       "    </tr>\n",
       "    <tr>\n",
       "      <th>942</th>\n",
       "      <td>753910</td>\n",
       "      <td>10302132</td>\n",
       "      <td>COSCO</td>\n",
       "      <td>HIGH BACK                                     ...</td>\n",
       "      <td>9999.0</td>\n",
       "      <td>N</td>\n",
       "      <td>20100117</td>\n",
       "      <td>N</td>\n",
       "      <td>0</td>\n",
       "      <td>0</td>\n",
       "      <td>...</td>\n",
       "      <td>N</td>\n",
       "      <td>NaN</td>\n",
       "      <td>NaN</td>\n",
       "      <td>NaN</td>\n",
       "      <td>NaN</td>\n",
       "      <td>NaN</td>\n",
       "      <td>NaN</td>\n",
       "      <td>C</td>\n",
       "      <td>N</td>\n",
       "      <td>NaN</td>\n",
       "    </tr>\n",
       "    <tr>\n",
       "      <th>...</th>\n",
       "      <td>...</td>\n",
       "      <td>...</td>\n",
       "      <td>...</td>\n",
       "      <td>...</td>\n",
       "      <td>...</td>\n",
       "      <td>...</td>\n",
       "      <td>...</td>\n",
       "      <td>...</td>\n",
       "      <td>...</td>\n",
       "      <td>...</td>\n",
       "      <td>...</td>\n",
       "      <td>...</td>\n",
       "      <td>...</td>\n",
       "      <td>...</td>\n",
       "      <td>...</td>\n",
       "      <td>...</td>\n",
       "      <td>...</td>\n",
       "      <td>...</td>\n",
       "      <td>...</td>\n",
       "      <td>...</td>\n",
       "      <td>...</td>\n",
       "    </tr>\n",
       "    <tr>\n",
       "      <th>1212261</th>\n",
       "      <td>2049508</td>\n",
       "      <td>11631989</td>\n",
       "      <td>NUNA</td>\n",
       "      <td>RAVA                                          ...</td>\n",
       "      <td>9999.0</td>\n",
       "      <td>N</td>\n",
       "      <td>20241220</td>\n",
       "      <td>N</td>\n",
       "      <td>0</td>\n",
       "      <td>0</td>\n",
       "      <td>...</td>\n",
       "      <td>N</td>\n",
       "      <td>NaN</td>\n",
       "      <td>NaN</td>\n",
       "      <td>NaN</td>\n",
       "      <td>NaN</td>\n",
       "      <td>NaN</td>\n",
       "      <td>NaN</td>\n",
       "      <td>C</td>\n",
       "      <td>N</td>\n",
       "      <td>NaN</td>\n",
       "    </tr>\n",
       "    <tr>\n",
       "      <th>1212263</th>\n",
       "      <td>2049511</td>\n",
       "      <td>11631992</td>\n",
       "      <td>NUNA</td>\n",
       "      <td>RAVA                                          ...</td>\n",
       "      <td>9999.0</td>\n",
       "      <td>N</td>\n",
       "      <td>20241220</td>\n",
       "      <td>N</td>\n",
       "      <td>0</td>\n",
       "      <td>0</td>\n",
       "      <td>...</td>\n",
       "      <td>N</td>\n",
       "      <td>NaN</td>\n",
       "      <td>NaN</td>\n",
       "      <td>NaN</td>\n",
       "      <td>NaN</td>\n",
       "      <td>NaN</td>\n",
       "      <td>NaN</td>\n",
       "      <td>C</td>\n",
       "      <td>N</td>\n",
       "      <td>NaN</td>\n",
       "    </tr>\n",
       "    <tr>\n",
       "      <th>1213051</th>\n",
       "      <td>2057029</td>\n",
       "      <td>11637170</td>\n",
       "      <td>MAXI-COSI</td>\n",
       "      <td>MICO LUXE+                                    ...</td>\n",
       "      <td>9999.0</td>\n",
       "      <td>N</td>\n",
       "      <td>20241219</td>\n",
       "      <td>N</td>\n",
       "      <td>0</td>\n",
       "      <td>0</td>\n",
       "      <td>...</td>\n",
       "      <td>N</td>\n",
       "      <td>NaN</td>\n",
       "      <td>NaN</td>\n",
       "      <td>NaN</td>\n",
       "      <td>NaN</td>\n",
       "      <td>NaN</td>\n",
       "      <td>NaN</td>\n",
       "      <td>C</td>\n",
       "      <td>N</td>\n",
       "      <td>NaN</td>\n",
       "    </tr>\n",
       "    <tr>\n",
       "      <th>1213052</th>\n",
       "      <td>2057030</td>\n",
       "      <td>11637170</td>\n",
       "      <td>MAXI-COSI</td>\n",
       "      <td>MICO LUXE+                                    ...</td>\n",
       "      <td>9999.0</td>\n",
       "      <td>N</td>\n",
       "      <td>20241219</td>\n",
       "      <td>N</td>\n",
       "      <td>0</td>\n",
       "      <td>0</td>\n",
       "      <td>...</td>\n",
       "      <td>N</td>\n",
       "      <td>NaN</td>\n",
       "      <td>NaN</td>\n",
       "      <td>NaN</td>\n",
       "      <td>NaN</td>\n",
       "      <td>NaN</td>\n",
       "      <td>NaN</td>\n",
       "      <td>C</td>\n",
       "      <td>N</td>\n",
       "      <td>NaN</td>\n",
       "    </tr>\n",
       "    <tr>\n",
       "      <th>1213054</th>\n",
       "      <td>2057031</td>\n",
       "      <td>11637170</td>\n",
       "      <td>MAXI-COSI</td>\n",
       "      <td>MICO LUXE+                                    ...</td>\n",
       "      <td>9999.0</td>\n",
       "      <td>N</td>\n",
       "      <td>20241219</td>\n",
       "      <td>N</td>\n",
       "      <td>0</td>\n",
       "      <td>0</td>\n",
       "      <td>...</td>\n",
       "      <td>N</td>\n",
       "      <td>NaN</td>\n",
       "      <td>NaN</td>\n",
       "      <td>NaN</td>\n",
       "      <td>NaN</td>\n",
       "      <td>NaN</td>\n",
       "      <td>NaN</td>\n",
       "      <td>C</td>\n",
       "      <td>N</td>\n",
       "      <td>NaN</td>\n",
       "    </tr>\n",
       "  </tbody>\n",
       "</table>\n",
       "<p>3039 rows × 29 columns</p>\n",
       "</div>"
      ],
      "text/plain": [
       "          CMPLID     ODINO                    MAKETXT  \\\n",
       "677       750504  10297778  EVENFLO                     \n",
       "684       750503  10297778  EVENFLO                     \n",
       "732       752533  10299873  DOREL                       \n",
       "911       755353  10303502  CHICCO                      \n",
       "942       753910  10302132  COSCO                       \n",
       "...          ...       ...                        ...   \n",
       "1212261  2049508  11631989  NUNA                        \n",
       "1212263  2049511  11631992  NUNA                        \n",
       "1213051  2057029  11637170  MAXI-COSI                   \n",
       "1213052  2057030  11637170  MAXI-COSI                   \n",
       "1213054  2057031  11637170  MAXI-COSI                   \n",
       "\n",
       "                                                  MODELTXT  YEARTXT CRASH  \\\n",
       "677      381 (TOT TAXI)                                ...   9999.0     Y   \n",
       "684      381 (TOT TAXI)                                ...   9999.0     Y   \n",
       "732      22-355 LBF (DISNEY)                           ...   9999.0     N   \n",
       "911      CORTINA TRAVEL SYSTEMS                        ...   9999.0     N   \n",
       "942      HIGH BACK                                     ...   9999.0     N   \n",
       "...                                                    ...      ...   ...   \n",
       "1212261  RAVA                                          ...   9999.0     N   \n",
       "1212263  RAVA                                          ...   9999.0     N   \n",
       "1213051  MICO LUXE+                                    ...   9999.0     N   \n",
       "1213052  MICO LUXE+                                    ...   9999.0     N   \n",
       "1213054  MICO LUXE+                                    ...   9999.0     N   \n",
       "\n",
       "         FAILDATE FIRE  INJURED  DEATHS  ... POLICE_RPT_YN ORIG_OWNER_YN  \\\n",
       "677      20091231    N        0       0  ...             N           NaN   \n",
       "684      20091231    N        0       0  ...             N           NaN   \n",
       "732      20100101    N        0       0  ...             N           NaN   \n",
       "911      20100201    N        0       0  ...             N           NaN   \n",
       "942      20100117    N        0       0  ...             N           NaN   \n",
       "...           ...  ...      ...     ...  ...           ...           ...   \n",
       "1212261  20241220    N        0       0  ...             N           NaN   \n",
       "1212263  20241220    N        0       0  ...             N           NaN   \n",
       "1213051  20241219    N        0       0  ...             N           NaN   \n",
       "1213052  20241219    N        0       0  ...             N           NaN   \n",
       "1213054  20241219    N        0       0  ...             N           NaN   \n",
       "\n",
       "        ANTI_BRAKES_YN  CRUISE_CONT_YN  DRIVE_TRAIN  FUEL_TYPE  VEH_SPEED  \\\n",
       "677                NaN             NaN          NaN        NaN        NaN   \n",
       "684                NaN             NaN          NaN        NaN        NaN   \n",
       "732                NaN             NaN          NaN        NaN        NaN   \n",
       "911                NaN             NaN          NaN        NaN        NaN   \n",
       "942                NaN             NaN          NaN        NaN        NaN   \n",
       "...                ...             ...          ...        ...        ...   \n",
       "1212261            NaN             NaN          NaN        NaN        NaN   \n",
       "1212263            NaN             NaN          NaN        NaN        NaN   \n",
       "1213051            NaN             NaN          NaN        NaN        NaN   \n",
       "1213052            NaN             NaN          NaN        NaN        NaN   \n",
       "1213054            NaN             NaN          NaN        NaN        NaN   \n",
       "\n",
       "        PROD_TYPE MEDICAL_ATTN VEHICLES_TOWED_YN  \n",
       "677          C               N               NaN  \n",
       "684          C               N               NaN  \n",
       "732          C               N               NaN  \n",
       "911          C               N               NaN  \n",
       "942          C               N               NaN  \n",
       "...           ...          ...               ...  \n",
       "1212261      C               N               NaN  \n",
       "1212263      C               N               NaN  \n",
       "1213051      C               N               NaN  \n",
       "1213052      C               N               NaN  \n",
       "1213054      C               N               NaN  \n",
       "\n",
       "[3039 rows x 29 columns]"
      ]
     },
     "execution_count": 17,
     "metadata": {},
     "output_type": "execute_result"
    }
   ],
   "source": [
    "#identifying rows with no relevant information in primary keys.(yeartxt = 9999, unknown)\n",
    "df[(df['YEARTXT']==9999)  & (df['PROD_TYPE'].str.strip()=='C') ]#.head()#['PROD_TYPE'].value_counts()\n",
    "# df[(df['YEARTXT']=='9999')]"
   ]
  },
  {
   "cell_type": "code",
   "execution_count": 18,
   "id": "2c464b0e-a6e3-4662-92d6-efb93725a1c7",
   "metadata": {},
   "outputs": [
    {
     "data": {
      "text/plain": [
       "T       9758\n",
       "E       5268\n",
       "V       4159\n",
       "C       3039\n",
       "Name: PROD_TYPE, dtype: int64"
      ]
     },
     "execution_count": 18,
     "metadata": {},
     "output_type": "execute_result"
    }
   ],
   "source": [
    "df[df['YEARTXT']==9999]['PROD_TYPE'].value_counts()"
   ]
  },
  {
   "cell_type": "code",
   "execution_count": 19,
   "id": "5ec2d3e7-bf35-409e-bfe2-53c017daa6d0",
   "metadata": {},
   "outputs": [],
   "source": [
    "#Droping all the rows with YEARTXT as 9999\n",
    "df=df[df['YEARTXT'] != 9999]"
   ]
  },
  {
   "cell_type": "code",
   "execution_count": 20,
   "id": "ab0b7a4c-a626-47bc-bbf8-f555aa842e26",
   "metadata": {},
   "outputs": [
    {
     "data": {
      "text/html": [
       "<div>\n",
       "<style scoped>\n",
       "    .dataframe tbody tr th:only-of-type {\n",
       "        vertical-align: middle;\n",
       "    }\n",
       "\n",
       "    .dataframe tbody tr th {\n",
       "        vertical-align: top;\n",
       "    }\n",
       "\n",
       "    .dataframe thead th {\n",
       "        text-align: right;\n",
       "    }\n",
       "</style>\n",
       "<table border=\"1\" class=\"dataframe\">\n",
       "  <thead>\n",
       "    <tr style=\"text-align: right;\">\n",
       "      <th></th>\n",
       "      <th>CMPLID</th>\n",
       "      <th>ODINO</th>\n",
       "      <th>MAKETXT</th>\n",
       "      <th>MODELTXT</th>\n",
       "      <th>YEARTXT</th>\n",
       "      <th>CRASH</th>\n",
       "      <th>FAILDATE</th>\n",
       "      <th>FIRE</th>\n",
       "      <th>INJURED</th>\n",
       "      <th>DEATHS</th>\n",
       "      <th>...</th>\n",
       "      <th>POLICE_RPT_YN</th>\n",
       "      <th>ORIG_OWNER_YN</th>\n",
       "      <th>ANTI_BRAKES_YN</th>\n",
       "      <th>CRUISE_CONT_YN</th>\n",
       "      <th>DRIVE_TRAIN</th>\n",
       "      <th>FUEL_TYPE</th>\n",
       "      <th>VEH_SPEED</th>\n",
       "      <th>PROD_TYPE</th>\n",
       "      <th>MEDICAL_ATTN</th>\n",
       "      <th>VEHICLES_TOWED_YN</th>\n",
       "    </tr>\n",
       "  </thead>\n",
       "  <tbody>\n",
       "    <tr>\n",
       "      <th>14339</th>\n",
       "      <td>761570</td>\n",
       "      <td>10308745</td>\n",
       "      <td>SAFETY 1ST</td>\n",
       "      <td>22554 (VANTAGE)                               ...</td>\n",
       "      <td>2008.0</td>\n",
       "      <td>N</td>\n",
       "      <td>20100201</td>\n",
       "      <td>N</td>\n",
       "      <td>0</td>\n",
       "      <td>0</td>\n",
       "      <td>...</td>\n",
       "      <td>N</td>\n",
       "      <td>NaN</td>\n",
       "      <td>NaN</td>\n",
       "      <td>NaN</td>\n",
       "      <td>NaN</td>\n",
       "      <td>NaN</td>\n",
       "      <td>NaN</td>\n",
       "      <td>C</td>\n",
       "      <td>N</td>\n",
       "      <td>NaN</td>\n",
       "    </tr>\n",
       "    <tr>\n",
       "      <th>14357</th>\n",
       "      <td>764448</td>\n",
       "      <td>10312164</td>\n",
       "      <td>GRACO</td>\n",
       "      <td>175166 (NAUTILUS)                             ...</td>\n",
       "      <td>2009.0</td>\n",
       "      <td>N</td>\n",
       "      <td>20100218</td>\n",
       "      <td>N</td>\n",
       "      <td>0</td>\n",
       "      <td>0</td>\n",
       "      <td>...</td>\n",
       "      <td>N</td>\n",
       "      <td>NaN</td>\n",
       "      <td>NaN</td>\n",
       "      <td>NaN</td>\n",
       "      <td>NaN</td>\n",
       "      <td>NaN</td>\n",
       "      <td>NaN</td>\n",
       "      <td>C</td>\n",
       "      <td>N</td>\n",
       "      <td>NaN</td>\n",
       "    </tr>\n",
       "    <tr>\n",
       "      <th>18936</th>\n",
       "      <td>770725</td>\n",
       "      <td>10317274</td>\n",
       "      <td>COSCO</td>\n",
       "      <td>22123 (SCENERA)                               ...</td>\n",
       "      <td>2009.0</td>\n",
       "      <td>N</td>\n",
       "      <td>20100226</td>\n",
       "      <td>N</td>\n",
       "      <td>0</td>\n",
       "      <td>0</td>\n",
       "      <td>...</td>\n",
       "      <td>N</td>\n",
       "      <td>NaN</td>\n",
       "      <td>NaN</td>\n",
       "      <td>NaN</td>\n",
       "      <td>NaN</td>\n",
       "      <td>NaN</td>\n",
       "      <td>NaN</td>\n",
       "      <td>C</td>\n",
       "      <td>N</td>\n",
       "      <td>NaN</td>\n",
       "    </tr>\n",
       "    <tr>\n",
       "      <th>20296</th>\n",
       "      <td>770959</td>\n",
       "      <td>10317456</td>\n",
       "      <td>BABY TREND</td>\n",
       "      <td>6352                                          ...</td>\n",
       "      <td>2008.0</td>\n",
       "      <td>N</td>\n",
       "      <td>20100307</td>\n",
       "      <td>N</td>\n",
       "      <td>0</td>\n",
       "      <td>0</td>\n",
       "      <td>...</td>\n",
       "      <td>N</td>\n",
       "      <td>NaN</td>\n",
       "      <td>NaN</td>\n",
       "      <td>NaN</td>\n",
       "      <td>NaN</td>\n",
       "      <td>NaN</td>\n",
       "      <td>NaN</td>\n",
       "      <td>C</td>\n",
       "      <td>N</td>\n",
       "      <td>NaN</td>\n",
       "    </tr>\n",
       "    <tr>\n",
       "      <th>21012</th>\n",
       "      <td>770159</td>\n",
       "      <td>10316814</td>\n",
       "      <td>COSCO</td>\n",
       "      <td>22145 (SCENERA)                               ...</td>\n",
       "      <td>2008.0</td>\n",
       "      <td>N</td>\n",
       "      <td>20100228</td>\n",
       "      <td>N</td>\n",
       "      <td>0</td>\n",
       "      <td>0</td>\n",
       "      <td>...</td>\n",
       "      <td>N</td>\n",
       "      <td>NaN</td>\n",
       "      <td>NaN</td>\n",
       "      <td>NaN</td>\n",
       "      <td>NaN</td>\n",
       "      <td>NaN</td>\n",
       "      <td>NaN</td>\n",
       "      <td>C</td>\n",
       "      <td>N</td>\n",
       "      <td>NaN</td>\n",
       "    </tr>\n",
       "  </tbody>\n",
       "</table>\n",
       "<p>5 rows × 29 columns</p>\n",
       "</div>"
      ],
      "text/plain": [
       "       CMPLID     ODINO                    MAKETXT  \\\n",
       "14339  761570  10308745  SAFETY 1ST                  \n",
       "14357  764448  10312164  GRACO                       \n",
       "18936  770725  10317274  COSCO                       \n",
       "20296  770959  10317456  BABY TREND                  \n",
       "21012  770159  10316814  COSCO                       \n",
       "\n",
       "                                                MODELTXT  YEARTXT CRASH  \\\n",
       "14339  22554 (VANTAGE)                               ...   2008.0     N   \n",
       "14357  175166 (NAUTILUS)                             ...   2009.0     N   \n",
       "18936  22123 (SCENERA)                               ...   2009.0     N   \n",
       "20296  6352                                          ...   2008.0     N   \n",
       "21012  22145 (SCENERA)                               ...   2008.0     N   \n",
       "\n",
       "       FAILDATE FIRE  INJURED  DEATHS  ... POLICE_RPT_YN ORIG_OWNER_YN  \\\n",
       "14339  20100201    N        0       0  ...             N           NaN   \n",
       "14357  20100218    N        0       0  ...             N           NaN   \n",
       "18936  20100226    N        0       0  ...             N           NaN   \n",
       "20296  20100307    N        0       0  ...             N           NaN   \n",
       "21012  20100228    N        0       0  ...             N           NaN   \n",
       "\n",
       "      ANTI_BRAKES_YN  CRUISE_CONT_YN  DRIVE_TRAIN  FUEL_TYPE  VEH_SPEED  \\\n",
       "14339            NaN             NaN          NaN        NaN        NaN   \n",
       "14357            NaN             NaN          NaN        NaN        NaN   \n",
       "18936            NaN             NaN          NaN        NaN        NaN   \n",
       "20296            NaN             NaN          NaN        NaN        NaN   \n",
       "21012            NaN             NaN          NaN        NaN        NaN   \n",
       "\n",
       "      PROD_TYPE MEDICAL_ATTN VEHICLES_TOWED_YN  \n",
       "14339      C               N               NaN  \n",
       "14357      C               N               NaN  \n",
       "18936      C               N               NaN  \n",
       "20296      C               N               NaN  \n",
       "21012      C               N               NaN  \n",
       "\n",
       "[5 rows x 29 columns]"
      ]
     },
     "execution_count": 20,
     "metadata": {},
     "output_type": "execute_result"
    }
   ],
   "source": [
    "df[df['PROD_TYPE'].str.strip()=='C'].head()"
   ]
  },
  {
   "cell_type": "code",
   "execution_count": 21,
   "id": "742ac309-7886-40af-86da-77857fac949b",
   "metadata": {},
   "outputs": [],
   "source": [
    "#deleting all rows where maketxt and modeltxt are unknown\n",
    "df = df[~(df['MODELTXT'].str.upper().str.contains('UNKNOWN')) & ~(df['MAKETXT'].str.upper().str.contains('UNKNOWN'))]"
   ]
  },
  {
   "cell_type": "code",
   "execution_count": 22,
   "id": "c826b02e-4505-40e8-aa9f-4e6ec74a8603",
   "metadata": {},
   "outputs": [],
   "source": [
    "#identifying the number of complaints received for each model year\n",
    "temp_my = df['YEARTXT'].value_counts().reset_index().sort_values(by = 'index', ascending = False)"
   ]
  },
  {
   "cell_type": "code",
   "execution_count": 23,
   "id": "d1390700-eede-47e6-8e33-e2f846e8ab7b",
   "metadata": {},
   "outputs": [
    {
     "data": {
      "text/html": [
       "<div>\n",
       "<style scoped>\n",
       "    .dataframe tbody tr th:only-of-type {\n",
       "        vertical-align: middle;\n",
       "    }\n",
       "\n",
       "    .dataframe tbody tr th {\n",
       "        vertical-align: top;\n",
       "    }\n",
       "\n",
       "    .dataframe thead th {\n",
       "        text-align: right;\n",
       "    }\n",
       "</style>\n",
       "<table border=\"1\" class=\"dataframe\">\n",
       "  <thead>\n",
       "    <tr style=\"text-align: right;\">\n",
       "      <th></th>\n",
       "      <th>index</th>\n",
       "      <th>YEARTXT</th>\n",
       "    </tr>\n",
       "  </thead>\n",
       "  <tbody>\n",
       "    <tr>\n",
       "      <th>31</th>\n",
       "      <td>2025.0</td>\n",
       "      <td>822</td>\n",
       "    </tr>\n",
       "    <tr>\n",
       "      <th>25</th>\n",
       "      <td>2024.0</td>\n",
       "      <td>8005</td>\n",
       "    </tr>\n",
       "    <tr>\n",
       "      <th>21</th>\n",
       "      <td>2023.0</td>\n",
       "      <td>18164</td>\n",
       "    </tr>\n",
       "    <tr>\n",
       "      <th>20</th>\n",
       "      <td>2022.0</td>\n",
       "      <td>23425</td>\n",
       "    </tr>\n",
       "    <tr>\n",
       "      <th>18</th>\n",
       "      <td>2021.0</td>\n",
       "      <td>25243</td>\n",
       "    </tr>\n",
       "    <tr>\n",
       "      <th>...</th>\n",
       "      <td>...</td>\n",
       "      <td>...</td>\n",
       "    </tr>\n",
       "    <tr>\n",
       "      <th>63</th>\n",
       "      <td>1961.0</td>\n",
       "      <td>2</td>\n",
       "    </tr>\n",
       "    <tr>\n",
       "      <th>59</th>\n",
       "      <td>1960.0</td>\n",
       "      <td>3</td>\n",
       "    </tr>\n",
       "    <tr>\n",
       "      <th>65</th>\n",
       "      <td>1958.0</td>\n",
       "      <td>1</td>\n",
       "    </tr>\n",
       "    <tr>\n",
       "      <th>62</th>\n",
       "      <td>1955.0</td>\n",
       "      <td>2</td>\n",
       "    </tr>\n",
       "    <tr>\n",
       "      <th>57</th>\n",
       "      <td>1949.0</td>\n",
       "      <td>4</td>\n",
       "    </tr>\n",
       "  </tbody>\n",
       "</table>\n",
       "<p>68 rows × 2 columns</p>\n",
       "</div>"
      ],
      "text/plain": [
       "     index  YEARTXT\n",
       "31  2025.0      822\n",
       "25  2024.0     8005\n",
       "21  2023.0    18164\n",
       "20  2022.0    23425\n",
       "18  2021.0    25243\n",
       "..     ...      ...\n",
       "63  1961.0        2\n",
       "59  1960.0        3\n",
       "65  1958.0        1\n",
       "62  1955.0        2\n",
       "57  1949.0        4\n",
       "\n",
       "[68 rows x 2 columns]"
      ]
     },
     "execution_count": 23,
     "metadata": {},
     "output_type": "execute_result"
    }
   ],
   "source": [
    "temp_my"
   ]
  },
  {
   "cell_type": "code",
   "execution_count": 24,
   "id": "dca6cc31-e748-4e68-a136-d184614a6b93",
   "metadata": {},
   "outputs": [
    {
     "data": {
      "text/plain": [
       "<Axes: xlabel='index'>"
      ]
     },
     "execution_count": 24,
     "metadata": {},
     "output_type": "execute_result"
    },
    {
     "data": {
      "image/png": "[encoded data removed]",
      "text/plain": [
       "<Figure size 640x480 with 1 Axes>"
      ]
     },
     "metadata": {},
     "output_type": "display_data"
    }
   ],
   "source": [
    "temp_my.plot(x='index', y='YEARTXT', kind='bar', color='skyblue')"
   ]
  },
  {
   "cell_type": "code",
   "execution_count": 25,
   "id": "fb195139-7de4-4c79-9c11-55c13bb64704",
   "metadata": {},
   "outputs": [],
   "source": [
    "#removing complaints which came on model years older than 1995\n",
    "df = df[df['YEARTXT'] >= 1995]"
   ]
  },
  {
   "cell_type": "markdown",
   "id": "00b52459-d589-46de-9438-c1f78ffa833a",
   "metadata": {},
   "source": [
    "### Miles"
   ]
  },
  {
   "cell_type": "code",
   "execution_count": 26,
   "id": "5b4d0e57-d8ac-41b5-abee-34c832a1d093",
   "metadata": {},
   "outputs": [
    {
     "data": {
      "image/png": "[encoded data removed]",
      "text/plain": [
       "<Figure size 640x480 with 1 Axes>"
      ]
     },
     "metadata": {},
     "output_type": "display_data"
    }
   ],
   "source": [
    "import seaborn as sns\n",
    "import numpy as np\n",
    "import matplotlib.pyplot as plt\n",
    "sns.kdeplot(df['MILES'])\n",
    "plt.title('Density Plot of MILES Data')\n",
    "plt.xlabel('Value')\n",
    "plt.ylabel('Density')\n",
    "plt.show()"
   ]
  },
  {
   "cell_type": "code",
   "execution_count": 27,
   "id": "ed37f9bd-bd73-4aad-89a5-4602937067c6",
   "metadata": {},
   "outputs": [
    {
     "data": {
      "image/png": "[encoded data removed]",
      "text/plain": [
       "<Figure size 640x480 with 1 Axes>"
      ]
     },
     "metadata": {},
     "output_type": "display_data"
    }
   ],
   "source": [
    "sns.boxplot(df['MILES'])\n",
    "plt.title('Box Plot of Random Data')\n",
    "plt.xlabel('Value')\n",
    "plt.show()"
   ]
  },
  {
   "cell_type": "code",
   "execution_count": 28,
   "id": "3e4abc3d-92b8-4265-97a0-3691703fe805",
   "metadata": {},
   "outputs": [
    {
     "data": {
      "text/plain": [
       "count    7.728310e+05\n",
       "mean     7.549323e+04\n",
       "std      1.245605e+05\n",
       "min     -9.500000e+04\n",
       "25%      3.000000e+04\n",
       "50%      6.600000e+04\n",
       "75%      1.040000e+05\n",
       "max      9.999999e+06\n",
       "Name: MILES, dtype: float64"
      ]
     },
     "execution_count": 28,
     "metadata": {},
     "output_type": "execute_result"
    }
   ],
   "source": [
    "df['MILES'].describe()"
   ]
  },
  {
   "cell_type": "code",
   "execution_count": 29,
   "id": "1d31f7fa-5526-45c7-a0c2-b4665e40e5a9",
   "metadata": {},
   "outputs": [
    {
     "data": {
      "text/plain": [
       "230000.0"
      ]
     },
     "execution_count": 29,
     "metadata": {},
     "output_type": "execute_result"
    }
   ],
   "source": [
    "df['MILES'].quantile(0.99)"
   ]
  },
  {
   "cell_type": "code",
   "execution_count": 30,
   "id": "04390d44-7940-442d-93a9-57cc36e201ea",
   "metadata": {},
   "outputs": [
    {
     "data": {
      "text/html": [
       "<div>\n",
       "<style scoped>\n",
       "    .dataframe tbody tr th:only-of-type {\n",
       "        vertical-align: middle;\n",
       "    }\n",
       "\n",
       "    .dataframe tbody tr th {\n",
       "        vertical-align: top;\n",
       "    }\n",
       "\n",
       "    .dataframe thead th {\n",
       "        text-align: right;\n",
       "    }\n",
       "</style>\n",
       "<table border=\"1\" class=\"dataframe\">\n",
       "  <thead>\n",
       "    <tr style=\"text-align: right;\">\n",
       "      <th></th>\n",
       "      <th>MAKETXT</th>\n",
       "      <th>MODELTXT</th>\n",
       "      <th>YEARTXT</th>\n",
       "      <th>COMPDESC</th>\n",
       "      <th>MILES</th>\n",
       "      <th>PROD_TYPE</th>\n",
       "      <th>LDATE</th>\n",
       "    </tr>\n",
       "  </thead>\n",
       "  <tbody>\n",
       "    <tr>\n",
       "      <th>20590</th>\n",
       "      <td>TOYOTA</td>\n",
       "      <td>SIENNA                                        ...</td>\n",
       "      <td>2007.0</td>\n",
       "      <td>VEHICLE SPEED CONTROL                         ...</td>\n",
       "      <td>-1.0</td>\n",
       "      <td>V</td>\n",
       "      <td>20100303</td>\n",
       "    </tr>\n",
       "    <tr>\n",
       "      <th>20591</th>\n",
       "      <td>TOYOTA</td>\n",
       "      <td>SIENNA                                        ...</td>\n",
       "      <td>2007.0</td>\n",
       "      <td>SERVICE BRAKES, ELECTRIC                      ...</td>\n",
       "      <td>-1.0</td>\n",
       "      <td>V</td>\n",
       "      <td>20100303</td>\n",
       "    </tr>\n",
       "    <tr>\n",
       "      <th>25756</th>\n",
       "      <td>TOYOTA</td>\n",
       "      <td>PRIUS                                         ...</td>\n",
       "      <td>2010.0</td>\n",
       "      <td>SERVICE BRAKES, HYDRAULIC                     ...</td>\n",
       "      <td>-600.0</td>\n",
       "      <td>V</td>\n",
       "      <td>20100310</td>\n",
       "    </tr>\n",
       "    <tr>\n",
       "      <th>53618</th>\n",
       "      <td>FORD</td>\n",
       "      <td>TAURUS                                        ...</td>\n",
       "      <td>2002.0</td>\n",
       "      <td>SUSPENSION                                    ...</td>\n",
       "      <td>-95000.0</td>\n",
       "      <td>V</td>\n",
       "      <td>20100816</td>\n",
       "    </tr>\n",
       "    <tr>\n",
       "      <th>53709</th>\n",
       "      <td>HARLEY-DAVIDSON</td>\n",
       "      <td>VRSCA                                         ...</td>\n",
       "      <td>2002.0</td>\n",
       "      <td>FUEL SYSTEM, GASOLINE                         ...</td>\n",
       "      <td>-2000.0</td>\n",
       "      <td>V</td>\n",
       "      <td>20100806</td>\n",
       "    </tr>\n",
       "  </tbody>\n",
       "</table>\n",
       "</div>"
      ],
      "text/plain": [
       "                         MAKETXT  \\\n",
       "20590  TOYOTA                      \n",
       "20591  TOYOTA                      \n",
       "25756  TOYOTA                      \n",
       "53618  FORD                        \n",
       "53709  HARLEY-DAVIDSON             \n",
       "\n",
       "                                                MODELTXT  YEARTXT  \\\n",
       "20590  SIENNA                                        ...   2007.0   \n",
       "20591  SIENNA                                        ...   2007.0   \n",
       "25756  PRIUS                                         ...   2010.0   \n",
       "53618  TAURUS                                        ...   2002.0   \n",
       "53709  VRSCA                                         ...   2002.0   \n",
       "\n",
       "                                                COMPDESC    MILES PROD_TYPE  \\\n",
       "20590  VEHICLE SPEED CONTROL                         ...     -1.0      V      \n",
       "20591  SERVICE BRAKES, ELECTRIC                      ...     -1.0      V      \n",
       "25756  SERVICE BRAKES, HYDRAULIC                     ...   -600.0      V      \n",
       "53618  SUSPENSION                                    ... -95000.0      V      \n",
       "53709  FUEL SYSTEM, GASOLINE                         ...  -2000.0      V      \n",
       "\n",
       "          LDATE  \n",
       "20590  20100303  \n",
       "20591  20100303  \n",
       "25756  20100310  \n",
       "53618  20100816  \n",
       "53709  20100806  "
      ]
     },
     "execution_count": 30,
     "metadata": {},
     "output_type": "execute_result"
    }
   ],
   "source": [
    "df.loc[df['MILES'] < 0, ['MAKETXT','MODELTXT','YEARTXT','COMPDESC', 'MILES', 'PROD_TYPE','LDATE']]"
   ]
  },
  {
   "cell_type": "code",
   "execution_count": 31,
   "id": "171bc425-5463-4c7e-b5b9-26dbe172ca7e",
   "metadata": {},
   "outputs": [
    {
     "data": {
      "text/html": [
       "<div>\n",
       "<style scoped>\n",
       "    .dataframe tbody tr th:only-of-type {\n",
       "        vertical-align: middle;\n",
       "    }\n",
       "\n",
       "    .dataframe tbody tr th {\n",
       "        vertical-align: top;\n",
       "    }\n",
       "\n",
       "    .dataframe thead th {\n",
       "        text-align: right;\n",
       "    }\n",
       "</style>\n",
       "<table border=\"1\" class=\"dataframe\">\n",
       "  <thead>\n",
       "    <tr style=\"text-align: right;\">\n",
       "      <th></th>\n",
       "      <th>MAKETXT</th>\n",
       "      <th>MODELTXT</th>\n",
       "      <th>YEARTXT</th>\n",
       "      <th>COMPDESC</th>\n",
       "      <th>MILES</th>\n",
       "      <th>PROD_TYPE</th>\n",
       "      <th>LDATE</th>\n",
       "    </tr>\n",
       "  </thead>\n",
       "  <tbody>\n",
       "    <tr>\n",
       "      <th>52</th>\n",
       "      <td>FORD</td>\n",
       "      <td>EXPLORER                                      ...</td>\n",
       "      <td>2000.0</td>\n",
       "      <td>ELECTRICAL SYSTEM:IGNITION:SWITCH             ...</td>\n",
       "      <td>940000.0</td>\n",
       "      <td>V</td>\n",
       "      <td>20100130</td>\n",
       "    </tr>\n",
       "    <tr>\n",
       "      <th>178</th>\n",
       "      <td>JEEP</td>\n",
       "      <td>WRANGLER 4-DR 4X4                             ...</td>\n",
       "      <td>2007.0</td>\n",
       "      <td>FUEL SYSTEM, GASOLINE                         ...</td>\n",
       "      <td>590000.0</td>\n",
       "      <td>V</td>\n",
       "      <td>20100130</td>\n",
       "    </tr>\n",
       "    <tr>\n",
       "      <th>315</th>\n",
       "      <td>NISSAN</td>\n",
       "      <td>FRONTIER                                      ...</td>\n",
       "      <td>2006.0</td>\n",
       "      <td>FUEL SYSTEM, GASOLINE                         ...</td>\n",
       "      <td>460000.0</td>\n",
       "      <td>V</td>\n",
       "      <td>20100124</td>\n",
       "    </tr>\n",
       "    <tr>\n",
       "      <th>472</th>\n",
       "      <td>VOLVO</td>\n",
       "      <td>VNL                                           ...</td>\n",
       "      <td>2003.0</td>\n",
       "      <td>ENGINE AND ENGINE COOLING                     ...</td>\n",
       "      <td>728000.0</td>\n",
       "      <td>V</td>\n",
       "      <td>20100106</td>\n",
       "    </tr>\n",
       "    <tr>\n",
       "      <th>644</th>\n",
       "      <td>KENWORTH</td>\n",
       "      <td>T600                                          ...</td>\n",
       "      <td>2005.0</td>\n",
       "      <td>SERVICE BRAKES, AIR                           ...</td>\n",
       "      <td>510000.0</td>\n",
       "      <td>V</td>\n",
       "      <td>20100131</td>\n",
       "    </tr>\n",
       "    <tr>\n",
       "      <th>...</th>\n",
       "      <td>...</td>\n",
       "      <td>...</td>\n",
       "      <td>...</td>\n",
       "      <td>...</td>\n",
       "      <td>...</td>\n",
       "      <td>...</td>\n",
       "      <td>...</td>\n",
       "    </tr>\n",
       "    <tr>\n",
       "      <th>1189731</th>\n",
       "      <td>VOLKSWAGEN</td>\n",
       "      <td>JETTA                                         ...</td>\n",
       "      <td>2000.0</td>\n",
       "      <td>ELECTRICAL SYSTEM                             ...</td>\n",
       "      <td>489000.0</td>\n",
       "      <td>V</td>\n",
       "      <td>20241003</td>\n",
       "    </tr>\n",
       "    <tr>\n",
       "      <th>1189732</th>\n",
       "      <td>VOLKSWAGEN</td>\n",
       "      <td>JETTA                                         ...</td>\n",
       "      <td>2000.0</td>\n",
       "      <td>SEATS:FRONT ASSEMBLY:SEAT HEATER/COOLER       ...</td>\n",
       "      <td>489000.0</td>\n",
       "      <td>V</td>\n",
       "      <td>20241003</td>\n",
       "    </tr>\n",
       "    <tr>\n",
       "      <th>1198804</th>\n",
       "      <td>DODGE</td>\n",
       "      <td>GRAND CARAVAN                                 ...</td>\n",
       "      <td>2018.0</td>\n",
       "      <td>ENGINE                                        ...</td>\n",
       "      <td>835000.0</td>\n",
       "      <td>V</td>\n",
       "      <td>20241226</td>\n",
       "    </tr>\n",
       "    <tr>\n",
       "      <th>1206133</th>\n",
       "      <td>GMC</td>\n",
       "      <td>SIERRA 1500                                   ...</td>\n",
       "      <td>2019.0</td>\n",
       "      <td>LATCHES/LOCKS/LINKAGES                        ...</td>\n",
       "      <td>725000.0</td>\n",
       "      <td>V</td>\n",
       "      <td>20241209</td>\n",
       "    </tr>\n",
       "    <tr>\n",
       "      <th>1206493</th>\n",
       "      <td>FORD</td>\n",
       "      <td>F-250                                         ...</td>\n",
       "      <td>2021.0</td>\n",
       "      <td>SUSPENSION                                    ...</td>\n",
       "      <td>1100000.0</td>\n",
       "      <td>V</td>\n",
       "      <td>20241209</td>\n",
       "    </tr>\n",
       "  </tbody>\n",
       "</table>\n",
       "<p>2304 rows × 7 columns</p>\n",
       "</div>"
      ],
      "text/plain": [
       "                           MAKETXT  \\\n",
       "52       FORD                        \n",
       "178      JEEP                        \n",
       "315      NISSAN                      \n",
       "472      VOLVO                       \n",
       "644      KENWORTH                    \n",
       "...                            ...   \n",
       "1189731  VOLKSWAGEN                  \n",
       "1189732  VOLKSWAGEN                  \n",
       "1198804  DODGE                       \n",
       "1206133  GMC                         \n",
       "1206493  FORD                        \n",
       "\n",
       "                                                  MODELTXT  YEARTXT  \\\n",
       "52       EXPLORER                                      ...   2000.0   \n",
       "178      WRANGLER 4-DR 4X4                             ...   2007.0   \n",
       "315      FRONTIER                                      ...   2006.0   \n",
       "472      VNL                                           ...   2003.0   \n",
       "644      T600                                          ...   2005.0   \n",
       "...                                                    ...      ...   \n",
       "1189731  JETTA                                         ...   2000.0   \n",
       "1189732  JETTA                                         ...   2000.0   \n",
       "1198804  GRAND CARAVAN                                 ...   2018.0   \n",
       "1206133  SIERRA 1500                                   ...   2019.0   \n",
       "1206493  F-250                                         ...   2021.0   \n",
       "\n",
       "                                                  COMPDESC      MILES  \\\n",
       "52       ELECTRICAL SYSTEM:IGNITION:SWITCH             ...   940000.0   \n",
       "178      FUEL SYSTEM, GASOLINE                         ...   590000.0   \n",
       "315      FUEL SYSTEM, GASOLINE                         ...   460000.0   \n",
       "472      ENGINE AND ENGINE COOLING                     ...   728000.0   \n",
       "644      SERVICE BRAKES, AIR                           ...   510000.0   \n",
       "...                                                    ...        ...   \n",
       "1189731  ELECTRICAL SYSTEM                             ...   489000.0   \n",
       "1189732  SEATS:FRONT ASSEMBLY:SEAT HEATER/COOLER       ...   489000.0   \n",
       "1198804  ENGINE                                        ...   835000.0   \n",
       "1206133  LATCHES/LOCKS/LINKAGES                        ...   725000.0   \n",
       "1206493  SUSPENSION                                    ...  1100000.0   \n",
       "\n",
       "        PROD_TYPE     LDATE  \n",
       "52           V     20100130  \n",
       "178          V     20100130  \n",
       "315          V     20100124  \n",
       "472          V     20100106  \n",
       "644          V     20100131  \n",
       "...           ...       ...  \n",
       "1189731      V     20241003  \n",
       "1189732      V     20241003  \n",
       "1198804      V     20241226  \n",
       "1206133      V     20241209  \n",
       "1206493      V     20241209  \n",
       "\n",
       "[2304 rows x 7 columns]"
      ]
     },
     "execution_count": 31,
     "metadata": {},
     "output_type": "execute_result"
    }
   ],
   "source": [
    "df.loc[df['MILES'] > 400000, ['MAKETXT','MODELTXT','YEARTXT','COMPDESC', 'MILES', 'PROD_TYPE','LDATE']]"
   ]
  },
  {
   "cell_type": "code",
   "execution_count": 32,
   "id": "7623ebf8-553e-4fcd-90f2-ba8d8b382f73",
   "metadata": {},
   "outputs": [],
   "source": [
    "#Removing outliers in the \"MILES\" column\n",
    "# df[(df['MILES'] >= 0) & (df['MILES'] <= 400000)]\n",
    "df = df[df['MILES'].between(0, 400000, inclusive='both') | df['MILES'].isna()]"
   ]
  },
  {
   "cell_type": "code",
   "execution_count": 33,
   "id": "e01b0370-9961-41dd-a00e-73c8a69bd60d",
   "metadata": {},
   "outputs": [
    {
     "data": {
      "text/plain": [
       "(1184791, 29)"
      ]
     },
     "execution_count": 33,
     "metadata": {},
     "output_type": "execute_result"
    }
   ],
   "source": [
    "df.shape"
   ]
  },
  {
   "cell_type": "code",
   "execution_count": 34,
   "id": "0f2b4c94-5ca3-42db-93d6-9f4e9682312d",
   "metadata": {},
   "outputs": [
    {
     "data": {
      "text/plain": [
       "count    770522.000000\n",
       "mean      71693.883893\n",
       "std       52704.640633\n",
       "min           0.000000\n",
       "25%       30000.000000\n",
       "50%       66000.000000\n",
       "75%      103000.000000\n",
       "max      400000.000000\n",
       "Name: MILES, dtype: float64"
      ]
     },
     "execution_count": 34,
     "metadata": {},
     "output_type": "execute_result"
    }
   ],
   "source": [
    "df['MILES'].describe()"
   ]
  },
  {
   "cell_type": "code",
   "execution_count": 35,
   "id": "2a0dd480-2a3c-4442-9b42-88e37f266059",
   "metadata": {},
   "outputs": [
    {
     "data": {
      "image/png": "[encoded data removed]",
      "text/plain": [
       "<Figure size 640x480 with 1 Axes>"
      ]
     },
     "metadata": {},
     "output_type": "display_data"
    }
   ],
   "source": [
    "sns.kdeplot(df['MILES'])\n",
    "plt.title('Density Plot of MILES Data')\n",
    "plt.xlabel('Value')\n",
    "plt.ylabel('Density')\n",
    "plt.show()"
   ]
  },
  {
   "cell_type": "code",
   "execution_count": 36,
   "id": "61484ce4-1545-45ed-9a83-b0a7a674b8ea",
   "metadata": {},
   "outputs": [],
   "source": [
    "#Creating new column to identify the age of vehicle when complaint is lodged\n",
    "df['LDATE'] = pd.to_datetime(df['LDATE'], format='%Y%m%d')\n",
    "df['AGE'] = df['LDATE'].dt.year - df['YEARTXT']"
   ]
  },
  {
   "cell_type": "code",
   "execution_count": 37,
   "id": "faf97c36-ed82-4743-90a4-54e6f34f7cf7",
   "metadata": {
    "scrolled": true
   },
   "outputs": [
    {
     "data": {
      "text/html": [
       "<div>\n",
       "<style scoped>\n",
       "    .dataframe tbody tr th:only-of-type {\n",
       "        vertical-align: middle;\n",
       "    }\n",
       "\n",
       "    .dataframe tbody tr th {\n",
       "        vertical-align: top;\n",
       "    }\n",
       "\n",
       "    .dataframe thead tr th {\n",
       "        text-align: left;\n",
       "    }\n",
       "</style>\n",
       "<table border=\"1\" class=\"dataframe\">\n",
       "  <thead>\n",
       "    <tr>\n",
       "      <th></th>\n",
       "      <th>AGE</th>\n",
       "      <th colspan=\"2\" halign=\"left\">MILES</th>\n",
       "    </tr>\n",
       "    <tr>\n",
       "      <th></th>\n",
       "      <th></th>\n",
       "      <th>mean</th>\n",
       "      <th>median</th>\n",
       "    </tr>\n",
       "  </thead>\n",
       "  <tbody>\n",
       "    <tr>\n",
       "      <th>0</th>\n",
       "      <td>-1.0</td>\n",
       "      <td>2401.315432</td>\n",
       "      <td>700.0</td>\n",
       "    </tr>\n",
       "    <tr>\n",
       "      <th>1</th>\n",
       "      <td>0.0</td>\n",
       "      <td>5339.980874</td>\n",
       "      <td>2323.0</td>\n",
       "    </tr>\n",
       "    <tr>\n",
       "      <th>2</th>\n",
       "      <td>1.0</td>\n",
       "      <td>14675.904087</td>\n",
       "      <td>10000.0</td>\n",
       "    </tr>\n",
       "    <tr>\n",
       "      <th>3</th>\n",
       "      <td>2.0</td>\n",
       "      <td>31037.895261</td>\n",
       "      <td>28000.0</td>\n",
       "    </tr>\n",
       "    <tr>\n",
       "      <th>4</th>\n",
       "      <td>3.0</td>\n",
       "      <td>45503.020264</td>\n",
       "      <td>43000.0</td>\n",
       "    </tr>\n",
       "    <tr>\n",
       "      <th>5</th>\n",
       "      <td>4.0</td>\n",
       "      <td>57338.493635</td>\n",
       "      <td>55000.0</td>\n",
       "    </tr>\n",
       "    <tr>\n",
       "      <th>6</th>\n",
       "      <td>5.0</td>\n",
       "      <td>67994.208395</td>\n",
       "      <td>66000.0</td>\n",
       "    </tr>\n",
       "    <tr>\n",
       "      <th>7</th>\n",
       "      <td>6.0</td>\n",
       "      <td>77271.053442</td>\n",
       "      <td>76000.0</td>\n",
       "    </tr>\n",
       "    <tr>\n",
       "      <th>8</th>\n",
       "      <td>7.0</td>\n",
       "      <td>86629.675557</td>\n",
       "      <td>85000.0</td>\n",
       "    </tr>\n",
       "    <tr>\n",
       "      <th>9</th>\n",
       "      <td>8.0</td>\n",
       "      <td>94323.884537</td>\n",
       "      <td>93500.0</td>\n",
       "    </tr>\n",
       "    <tr>\n",
       "      <th>10</th>\n",
       "      <td>9.0</td>\n",
       "      <td>100727.467956</td>\n",
       "      <td>100000.0</td>\n",
       "    </tr>\n",
       "    <tr>\n",
       "      <th>11</th>\n",
       "      <td>10.0</td>\n",
       "      <td>107087.827414</td>\n",
       "      <td>107000.0</td>\n",
       "    </tr>\n",
       "    <tr>\n",
       "      <th>12</th>\n",
       "      <td>11.0</td>\n",
       "      <td>114114.515161</td>\n",
       "      <td>115000.0</td>\n",
       "    </tr>\n",
       "    <tr>\n",
       "      <th>13</th>\n",
       "      <td>12.0</td>\n",
       "      <td>118509.691347</td>\n",
       "      <td>120000.0</td>\n",
       "    </tr>\n",
       "    <tr>\n",
       "      <th>14</th>\n",
       "      <td>13.0</td>\n",
       "      <td>123752.131765</td>\n",
       "      <td>125909.5</td>\n",
       "    </tr>\n",
       "    <tr>\n",
       "      <th>15</th>\n",
       "      <td>14.0</td>\n",
       "      <td>128837.505280</td>\n",
       "      <td>130000.0</td>\n",
       "    </tr>\n",
       "    <tr>\n",
       "      <th>16</th>\n",
       "      <td>15.0</td>\n",
       "      <td>132120.145663</td>\n",
       "      <td>135000.0</td>\n",
       "    </tr>\n",
       "    <tr>\n",
       "      <th>17</th>\n",
       "      <td>16.0</td>\n",
       "      <td>133850.195408</td>\n",
       "      <td>137000.0</td>\n",
       "    </tr>\n",
       "    <tr>\n",
       "      <th>18</th>\n",
       "      <td>17.0</td>\n",
       "      <td>137299.483654</td>\n",
       "      <td>140629.0</td>\n",
       "    </tr>\n",
       "    <tr>\n",
       "      <th>19</th>\n",
       "      <td>18.0</td>\n",
       "      <td>140746.302932</td>\n",
       "      <td>145600.0</td>\n",
       "    </tr>\n",
       "    <tr>\n",
       "      <th>20</th>\n",
       "      <td>19.0</td>\n",
       "      <td>145434.651852</td>\n",
       "      <td>150000.0</td>\n",
       "    </tr>\n",
       "    <tr>\n",
       "      <th>21</th>\n",
       "      <td>20.0</td>\n",
       "      <td>139868.866326</td>\n",
       "      <td>147000.0</td>\n",
       "    </tr>\n",
       "    <tr>\n",
       "      <th>22</th>\n",
       "      <td>21.0</td>\n",
       "      <td>138286.619551</td>\n",
       "      <td>137849.0</td>\n",
       "    </tr>\n",
       "    <tr>\n",
       "      <th>23</th>\n",
       "      <td>22.0</td>\n",
       "      <td>142543.488273</td>\n",
       "      <td>147000.0</td>\n",
       "    </tr>\n",
       "    <tr>\n",
       "      <th>24</th>\n",
       "      <td>23.0</td>\n",
       "      <td>138182.751678</td>\n",
       "      <td>144000.0</td>\n",
       "    </tr>\n",
       "    <tr>\n",
       "      <th>25</th>\n",
       "      <td>24.0</td>\n",
       "      <td>150484.174497</td>\n",
       "      <td>155000.0</td>\n",
       "    </tr>\n",
       "    <tr>\n",
       "      <th>26</th>\n",
       "      <td>25.0</td>\n",
       "      <td>149615.379310</td>\n",
       "      <td>152500.0</td>\n",
       "    </tr>\n",
       "    <tr>\n",
       "      <th>27</th>\n",
       "      <td>26.0</td>\n",
       "      <td>165023.032258</td>\n",
       "      <td>169148.0</td>\n",
       "    </tr>\n",
       "    <tr>\n",
       "      <th>28</th>\n",
       "      <td>27.0</td>\n",
       "      <td>170869.565217</td>\n",
       "      <td>171000.0</td>\n",
       "    </tr>\n",
       "    <tr>\n",
       "      <th>29</th>\n",
       "      <td>28.0</td>\n",
       "      <td>160785.000000</td>\n",
       "      <td>152000.0</td>\n",
       "    </tr>\n",
       "    <tr>\n",
       "      <th>30</th>\n",
       "      <td>29.0</td>\n",
       "      <td>NaN</td>\n",
       "      <td>NaN</td>\n",
       "    </tr>\n",
       "  </tbody>\n",
       "</table>\n",
       "</div>"
      ],
      "text/plain": [
       "     AGE          MILES          \n",
       "                   mean    median\n",
       "0   -1.0    2401.315432     700.0\n",
       "1    0.0    5339.980874    2323.0\n",
       "2    1.0   14675.904087   10000.0\n",
       "3    2.0   31037.895261   28000.0\n",
       "4    3.0   45503.020264   43000.0\n",
       "5    4.0   57338.493635   55000.0\n",
       "6    5.0   67994.208395   66000.0\n",
       "7    6.0   77271.053442   76000.0\n",
       "8    7.0   86629.675557   85000.0\n",
       "9    8.0   94323.884537   93500.0\n",
       "10   9.0  100727.467956  100000.0\n",
       "11  10.0  107087.827414  107000.0\n",
       "12  11.0  114114.515161  115000.0\n",
       "13  12.0  118509.691347  120000.0\n",
       "14  13.0  123752.131765  125909.5\n",
       "15  14.0  128837.505280  130000.0\n",
       "16  15.0  132120.145663  135000.0\n",
       "17  16.0  133850.195408  137000.0\n",
       "18  17.0  137299.483654  140629.0\n",
       "19  18.0  140746.302932  145600.0\n",
       "20  19.0  145434.651852  150000.0\n",
       "21  20.0  139868.866326  147000.0\n",
       "22  21.0  138286.619551  137849.0\n",
       "23  22.0  142543.488273  147000.0\n",
       "24  23.0  138182.751678  144000.0\n",
       "25  24.0  150484.174497  155000.0\n",
       "26  25.0  149615.379310  152500.0\n",
       "27  26.0  165023.032258  169148.0\n",
       "28  27.0  170869.565217  171000.0\n",
       "29  28.0  160785.000000  152000.0\n",
       "30  29.0            NaN       NaN"
      ]
     },
     "execution_count": 37,
     "metadata": {},
     "output_type": "execute_result"
    }
   ],
   "source": [
    "#checking imputation techniques or miles\n",
    "df.groupby(['AGE']).agg({'MILES' : ['mean', 'median']}).reset_index()"
   ]
  },
  {
   "cell_type": "code",
   "execution_count": 38,
   "id": "2bcdfac5-b143-4f85-a3f6-07052f37a43a",
   "metadata": {
    "scrolled": true
   },
   "outputs": [],
   "source": [
    "#aggregating based on the mean of miles of every unique age of the car \n",
    "agg_miles = df.groupby(['AGE']).agg({'MILES' : 'mean'}).reset_index().rename(columns = {'MILES' : 'MEAN_MILES'})"
   ]
  },
  {
   "cell_type": "code",
   "execution_count": 39,
   "id": "ef7ee271-7356-4506-b24c-6eeb5ea40d5d",
   "metadata": {
    "scrolled": true
   },
   "outputs": [],
   "source": [
    "#merged the new df having mean_miles to the existing df\n",
    "df = df.merge(agg_miles, how = 'left', on = 'AGE')"
   ]
  },
  {
   "cell_type": "code",
   "execution_count": 40,
   "id": "65deb33e-f8d8-47a3-a8fb-2820f4f86fa8",
   "metadata": {},
   "outputs": [],
   "source": [
    "#replacing nulls of miles with the newly calculated mean\n",
    "import numpy as np\n",
    "df['MILES_NEW'] = np.where(df['MILES'].isna(),df['MEAN_MILES'], df['MILES'])"
   ]
  },
  {
   "cell_type": "code",
   "execution_count": 41,
   "id": "bfcf5955-e8d6-4283-9418-f496ad2d8a66",
   "metadata": {},
   "outputs": [],
   "source": [
    "#droping the existing one null value after imputing with median\n",
    "df.dropna(subset = ['MILES_NEW'], inplace = True)"
   ]
  },
  {
   "cell_type": "code",
   "execution_count": 42,
   "id": "b2994259-dd6b-4eee-a55d-f2ee7b474ef3",
   "metadata": {},
   "outputs": [],
   "source": [
    "#droping the existing miles and calculated mean_miles column to avoid duplicacy\n",
    "df.drop(columns = ['MILES', 'MEAN_MILES'], axis = 1, inplace = True)"
   ]
  },
  {
   "cell_type": "code",
   "execution_count": 43,
   "id": "2c7126a5-73bd-4f3f-adde-4c04e20facb1",
   "metadata": {
    "scrolled": true
   },
   "outputs": [
    {
     "data": {
      "text/plain": [
       "CMPLID                     0\n",
       "MEDICAL_ATTN               0\n",
       "PROD_TYPE                  0\n",
       "POLICE_RPT_YN              0\n",
       "CMPL_TYPE                  0\n",
       "CDESCR                     0\n",
       "AGE                        0\n",
       "DATEA                      0\n",
       "STATE                      0\n",
       "CITY                       0\n",
       "LDATE                      0\n",
       "DEATHS                     0\n",
       "ODINO                      0\n",
       "MAKETXT                    0\n",
       "COMPDESC                   0\n",
       "MODELTXT                   0\n",
       "YEARTXT                    0\n",
       "MILES_NEW                  0\n",
       "FAILDATE                   0\n",
       "FIRE                       0\n",
       "INJURED                    0\n",
       "CRASH                      0\n",
       "ORIG_OWNER_YN            588\n",
       "CRUISE_CONT_YN           588\n",
       "VEHICLES_TOWED_YN        588\n",
       "ANTI_BRAKES_YN           588\n",
       "VEH_SPEED             450974\n",
       "OCCURRENCES           876982\n",
       "FUEL_TYPE            1006162\n",
       "DRIVE_TRAIN          1061656\n",
       "dtype: int64"
      ]
     },
     "execution_count": 43,
     "metadata": {},
     "output_type": "execute_result"
    }
   ],
   "source": [
    "#Checking null values after imputation of miles\n",
    "df.isna().sum().sort_values()"
   ]
  },
  {
   "cell_type": "code",
   "execution_count": 44,
   "id": "bbd53c9f-0af2-42b9-a962-6b6f13d03f65",
   "metadata": {},
   "outputs": [
    {
     "data": {
      "text/plain": [
       "count    733815.000000\n",
       "mean         30.796770\n",
       "std          29.432401\n",
       "min         -65.000000\n",
       "25%           2.000000\n",
       "50%          30.000000\n",
       "75%          55.000000\n",
       "max         999.000000\n",
       "Name: VEH_SPEED, dtype: float64"
      ]
     },
     "execution_count": 44,
     "metadata": {},
     "output_type": "execute_result"
    }
   ],
   "source": [
    "df['VEH_SPEED'].describe()"
   ]
  },
  {
   "cell_type": "code",
   "execution_count": 45,
   "id": "4a240a86-b645-40e5-aa5c-ad5d0dc54d26",
   "metadata": {},
   "outputs": [
    {
     "data": {
      "image/png": "[encoded data removed]",
      "text/plain": [
       "<Figure size 640x480 with 1 Axes>"
      ]
     },
     "metadata": {},
     "output_type": "display_data"
    }
   ],
   "source": [
    "sns.kdeplot(df[df['VEH_SPEED'] < 200]['VEH_SPEED'])\n",
    "plt.show()"
   ]
  },
  {
   "cell_type": "code",
   "execution_count": 46,
   "id": "0a78241d-e3f2-4427-b606-98f9022f24e3",
   "metadata": {},
   "outputs": [],
   "source": [
    "df = df[((df['VEH_SPEED'] < 200) & (df['VEH_SPEED'] >=0)) | (df['VEH_SPEED'].isnull())]"
   ]
  },
  {
   "cell_type": "code",
   "execution_count": 47,
   "id": "930cd3d2-0300-49b9-a6ee-76a714a8c76c",
   "metadata": {},
   "outputs": [
    {
     "data": {
      "text/plain": [
       "(1184149, 30)"
      ]
     },
     "execution_count": 47,
     "metadata": {},
     "output_type": "execute_result"
    }
   ],
   "source": [
    "df.shape"
   ]
  },
  {
   "cell_type": "markdown",
   "id": "d52cc6e8-2718-4646-8a00-0dc11930ee7f",
   "metadata": {},
   "source": [
    "### Occurrences"
   ]
  },
  {
   "cell_type": "code",
   "execution_count": 49,
   "id": "5a0b57ba-6e9c-44ee-8d46-592d2ae1deb9",
   "metadata": {
    "scrolled": true
   },
   "outputs": [
    {
     "data": {
      "text/plain": [
       "1.0      287802\n",
       "2.0        8290\n",
       "3.0        5625\n",
       "4.0        2366\n",
       "5.0        1141\n",
       "6.0         806\n",
       "7.0         423\n",
       "8.0         317\n",
       "10.0        260\n",
       "9.0         143\n",
       "12.0        133\n",
       "15.0         60\n",
       "20.0         60\n",
       "11.0         56\n",
       "13.0         40\n",
       "14.0         25\n",
       "17.0         17\n",
       "50.0         15\n",
       "16.0         14\n",
       "0.0          13\n",
       "30.0         12\n",
       "18.0         11\n",
       "25.0          8\n",
       "40.0          7\n",
       "19.0          7\n",
       "200.0         6\n",
       "24.0          5\n",
       "100.0         4\n",
       "28.0          4\n",
       "36.0          4\n",
       "42.0          4\n",
       "106.0         3\n",
       "29.0          2\n",
       "22.0          2\n",
       "60.0          1\n",
       "21.0          1\n",
       "35.0          1\n",
       "99.0          1\n",
       "75.0          1\n",
       "109.0         1\n",
       "Name: OCCURRENCES, dtype: int64"
      ]
     },
     "execution_count": 49,
     "metadata": {},
     "output_type": "execute_result"
    }
   ],
   "source": [
    "df['OCCURRENCES'].value_counts()"
   ]
  },
  {
   "cell_type": "code",
   "execution_count": 50,
   "id": "fee55a9e-d79e-43bf-bbd8-970cf4d41600",
   "metadata": {
    "scrolled": true
   },
   "outputs": [],
   "source": [
    "df = df[(df['OCCURRENCES'] < 50) | (df['OCCURRENCES'].isnull())]"
   ]
  },
  {
   "cell_type": "code",
   "execution_count": 51,
   "id": "b8026680-9b85-4002-8d82-f55b3676fa28",
   "metadata": {},
   "outputs": [
    {
     "data": {
      "text/plain": [
       "count    307659.000000\n",
       "mean          1.164322\n",
       "std           0.932897\n",
       "min           0.000000\n",
       "25%           1.000000\n",
       "50%           1.000000\n",
       "75%           1.000000\n",
       "max          42.000000\n",
       "Name: OCCURRENCES, dtype: float64"
      ]
     },
     "execution_count": 51,
     "metadata": {},
     "output_type": "execute_result"
    }
   ],
   "source": [
    "df['OCCURRENCES'].describe()"
   ]
  },
  {
   "cell_type": "code",
   "execution_count": 52,
   "id": "ba7e4de5-0d49-408f-8089-721acddfe129",
   "metadata": {},
   "outputs": [],
   "source": [
    "temp2 = df.groupby(['MAKETXT','MODELTXT','YEARTXT','COMPDESC'])['OCCURRENCES'].median(numeric_only = True).reset_index()"
   ]
  },
  {
   "cell_type": "code",
   "execution_count": 53,
   "id": "3e9ab103-baa4-4774-a2a9-71132278f9a1",
   "metadata": {},
   "outputs": [],
   "source": [
    "temp2['OCCURRENCES'] = np.ceil(temp2['OCCURRENCES'])"
   ]
  },
  {
   "cell_type": "code",
   "execution_count": 54,
   "id": "aeac463d-2777-46f7-bb72-6b10f967bc58",
   "metadata": {
    "scrolled": true
   },
   "outputs": [
    {
     "data": {
      "text/plain": [
       "1.0     74784\n",
       "2.0      2906\n",
       "3.0      1493\n",
       "4.0       616\n",
       "5.0       273\n",
       "6.0       229\n",
       "7.0       144\n",
       "8.0        74\n",
       "10.0       44\n",
       "9.0        41\n",
       "12.0       28\n",
       "11.0       25\n",
       "20.0       14\n",
       "13.0        7\n",
       "15.0        7\n",
       "19.0        6\n",
       "14.0        6\n",
       "18.0        4\n",
       "17.0        4\n",
       "28.0        4\n",
       "16.0        4\n",
       "0.0         3\n",
       "42.0        3\n",
       "24.0        2\n",
       "21.0        1\n",
       "36.0        1\n",
       "23.0        1\n",
       "Name: OCCURRENCES, dtype: int64"
      ]
     },
     "execution_count": 54,
     "metadata": {},
     "output_type": "execute_result"
    }
   ],
   "source": [
    "temp2['OCCURRENCES'].value_counts()"
   ]
  },
  {
   "cell_type": "code",
   "execution_count": 55,
   "id": "98720b98-5297-4ae8-81c3-9eec59a8957a",
   "metadata": {
    "scrolled": true
   },
   "outputs": [
    {
     "data": {
      "text/plain": [
       "1.0     0.926416\n",
       "2.0     0.035999\n",
       "3.0     0.018495\n",
       "4.0     0.007631\n",
       "5.0     0.003382\n",
       "6.0     0.002837\n",
       "7.0     0.001784\n",
       "8.0     0.000917\n",
       "10.0    0.000545\n",
       "9.0     0.000508\n",
       "12.0    0.000347\n",
       "11.0    0.000310\n",
       "20.0    0.000173\n",
       "13.0    0.000087\n",
       "15.0    0.000087\n",
       "19.0    0.000074\n",
       "14.0    0.000074\n",
       "18.0    0.000050\n",
       "17.0    0.000050\n",
       "28.0    0.000050\n",
       "16.0    0.000050\n",
       "0.0     0.000037\n",
       "42.0    0.000037\n",
       "24.0    0.000025\n",
       "21.0    0.000012\n",
       "36.0    0.000012\n",
       "23.0    0.000012\n",
       "Name: OCCURRENCES, dtype: float64"
      ]
     },
     "execution_count": 55,
     "metadata": {},
     "output_type": "execute_result"
    }
   ],
   "source": [
    "# Step 1: Get the existing distribution of non-null values\n",
    "value_counts = temp2['OCCURRENCES'].dropna().value_counts(normalize=True)\n",
    "value_counts"
   ]
  },
  {
   "cell_type": "code",
   "execution_count": 56,
   "id": "c406cf96-41b9-49e7-ac68-b0d028dfb37d",
   "metadata": {
    "scrolled": true
   },
   "outputs": [
    {
     "data": {
      "text/plain": [
       "1.0     83100\n",
       "2.0      3229\n",
       "3.0      1659\n",
       "4.0       685\n",
       "5.0       303\n",
       "6.0       254\n",
       "7.0       160\n",
       "8.0        82\n",
       "10.0       49\n",
       "9.0        46\n",
       "12.0       31\n",
       "11.0       28\n",
       "20.0       16\n",
       "13.0        8\n",
       "15.0        8\n",
       "19.0        7\n",
       "14.0        7\n",
       "18.0        4\n",
       "17.0        4\n",
       "28.0        4\n",
       "16.0        4\n",
       "0.0         3\n",
       "42.0        3\n",
       "24.0        2\n",
       "21.0        1\n",
       "36.0        1\n",
       "23.0        1\n",
       "Name: OCCURRENCES, dtype: int32"
      ]
     },
     "execution_count": 56,
     "metadata": {},
     "output_type": "execute_result"
    }
   ],
   "source": [
    "# Step 2: Compute how many missing values we need to impute per category\n",
    "missing_count = temp2['OCCURRENCES'].isna().sum()\n",
    "impute_counts = (value_counts * missing_count).round().astype(int)\n",
    "impute_counts"
   ]
  },
  {
   "cell_type": "code",
   "execution_count": 57,
   "id": "31ffc5fb-da01-4268-bdf8-b398575b4e15",
   "metadata": {},
   "outputs": [
    {
     "data": {
      "text/plain": [
       "array([1., 1., 4., ..., 1., 1., 1.])"
      ]
     },
     "execution_count": 57,
     "metadata": {},
     "output_type": "execute_result"
    }
   ],
   "source": [
    "# Step 3: Create imputed values while maintaining the original distribution\n",
    "imputed_values = np.random.choice(value_counts.index, size=missing_count, p=value_counts.values)\n",
    "imputed_values"
   ]
  },
  {
   "cell_type": "code",
   "execution_count": 58,
   "id": "ac407611-0268-4ab1-a64b-4e1bd79a33e0",
   "metadata": {},
   "outputs": [],
   "source": [
    "# Step 4: Assign the imputed values while maintaining distribution\n",
    "temp2.loc[temp2['OCCURRENCES'].isna(), 'OCCURRENCES'] = imputed_values"
   ]
  },
  {
   "cell_type": "code",
   "execution_count": 59,
   "id": "f46186f9-44be-41f3-8ce7-3ce541cf382f",
   "metadata": {},
   "outputs": [
    {
     "name": "stdout",
     "output_type": "stream",
     "text": [
      "0\n"
     ]
    }
   ],
   "source": [
    "# Ensure no missing values\n",
    "print(temp2['OCCURRENCES'].isna().sum())  # Should be 0"
   ]
  },
  {
   "cell_type": "code",
   "execution_count": 60,
   "id": "c4732af8-c51b-4cb3-9ddd-55d57446a99c",
   "metadata": {
    "scrolled": true
   },
   "outputs": [],
   "source": [
    "temp2 = temp2.rename(columns = {'OCCURRENCES' : 'OCCURRENCES_MEDIAN'})"
   ]
  },
  {
   "cell_type": "code",
   "execution_count": 61,
   "id": "620657f6-9709-496d-b648-c1116c4f9651",
   "metadata": {},
   "outputs": [],
   "source": [
    "df = df.merge(temp2, on = ['MAKETXT','MODELTXT','YEARTXT','COMPDESC'], how = 'left')"
   ]
  },
  {
   "cell_type": "code",
   "execution_count": 62,
   "id": "1c0e73a3-67dd-4c66-a780-43f8ebc0756b",
   "metadata": {},
   "outputs": [],
   "source": [
    "#replacing nulls of occuurences with the newly calculated median\n",
    "import numpy as np\n",
    "df['OCCURRENCES_NEW'] = np.where(df['OCCURRENCES'].isna(),df['OCCURRENCES_MEDIAN'], df['OCCURRENCES'])"
   ]
  },
  {
   "cell_type": "code",
   "execution_count": 63,
   "id": "0feffb30-7e40-45f2-893f-17c539dd0bb2",
   "metadata": {},
   "outputs": [],
   "source": [
    "#droping the existing occurrences and calculated median occurrences column to avoid duplicacy\n",
    "df.drop(columns = ['OCCURRENCES', 'OCCURRENCES_MEDIAN'], axis = 1, inplace = True)"
   ]
  },
  {
   "cell_type": "markdown",
   "id": "d82e5115-75be-488c-9910-b44c7861416d",
   "metadata": {},
   "source": [
    "### Drive Train"
   ]
  },
  {
   "cell_type": "markdown",
   "id": "57347000-cfcd-4869-a0d4-cf3ae2b2b93a",
   "metadata": {},
   "source": [
    "Not imputing Drive Train and Fuel_type column becasue of higher number of null values and imputing can cause noise in the data."
   ]
  },
  {
   "cell_type": "code",
   "execution_count": 64,
   "id": "f4feb66b-f0da-4972-a11f-469497c0ae17",
   "metadata": {},
   "outputs": [
    {
     "data": {
      "text/plain": [
       "FWD     60269\n",
       "RWD     25948\n",
       "4WD     19371\n",
       "AWD     17473\n",
       "U          13\n",
       "Name: DRIVE_TRAIN, dtype: int64"
      ]
     },
     "execution_count": 64,
     "metadata": {},
     "output_type": "execute_result"
    }
   ],
   "source": [
    "df['DRIVE_TRAIN'].value_counts()"
   ]
  },
  {
   "cell_type": "code",
   "execution_count": 65,
   "id": "9fa325e4-0cc2-4408-a378-aedd0931fa02",
   "metadata": {},
   "outputs": [
    {
     "data": {
      "text/plain": [
       "GS      154374\n",
       "BF        9449\n",
       "DS        7620\n",
       "HE        7041\n",
       "CN          43\n",
       "Name: FUEL_TYPE, dtype: int64"
      ]
     },
     "execution_count": 65,
     "metadata": {},
     "output_type": "execute_result"
    }
   ],
   "source": [
    "df['FUEL_TYPE'].value_counts()"
   ]
  },
  {
   "cell_type": "code",
   "execution_count": null,
   "id": "48e878cf-9d4e-483a-9549-669c1b0b3a17",
   "metadata": {},
   "outputs": [],
   "source": []
  },
  {
   "cell_type": "markdown",
   "id": "5b7a0853-59eb-4a02-92d6-c6744bb9924f",
   "metadata": {},
   "source": [
    "## Aggregation"
   ]
  },
  {
   "cell_type": "code",
   "execution_count": 66,
   "id": "5ca3a1ce-d728-48e5-a605-d83e82e434d6",
   "metadata": {},
   "outputs": [
    {
     "data": {
      "text/plain": [
       "Index(['CMPLID', 'ODINO', 'MAKETXT', 'MODELTXT', 'YEARTXT', 'CRASH',\n",
       "       'FAILDATE', 'FIRE', 'INJURED', 'DEATHS', 'COMPDESC', 'CITY', 'STATE',\n",
       "       'DATEA', 'LDATE', 'CDESCR', 'CMPL_TYPE', 'POLICE_RPT_YN',\n",
       "       'ORIG_OWNER_YN', 'ANTI_BRAKES_YN', 'CRUISE_CONT_YN', 'DRIVE_TRAIN',\n",
       "       'FUEL_TYPE', 'VEH_SPEED', 'PROD_TYPE', 'MEDICAL_ATTN',\n",
       "       'VEHICLES_TOWED_YN', 'AGE', 'MILES_NEW', 'OCCURRENCES_NEW'],\n",
       "      dtype='object')"
      ]
     },
     "execution_count": 66,
     "metadata": {},
     "output_type": "execute_result"
    }
   ],
   "source": [
    "df.columns"
   ]
  },
  {
   "cell_type": "markdown",
   "id": "4a338d48-d237-4190-88c8-d5d3ca621aa4",
   "metadata": {},
   "source": [
    "#drop\n",
    "'ODINO','DATEA','CITY'"
   ]
  },
  {
   "cell_type": "markdown",
   "id": "19ef86cf-57ee-41d9-840b-f35058021630",
   "metadata": {},
   "source": [
    "**'CRASH' : #convert to 1 or 0**\n",
    "**'FAILDATE' - 'LDATE': Extract days from the dates and check the severity of complaint. If number of days are less, it could be an urgent issue and if days are more, the complaint can be either a medium risk or less risk one. mean or median days will be taken for aggregation**\n",
    "**'FIRE' :#convert to 1 or 0**\n",
    "**'STATE': classify the states to varous regions and find the number of complaints coming from each region. drop the states column after extracting data from it.**\n",
    "**'LDATE': Identify the quarter at which date is falling and get the total number of complaints falling in that quarter. Seasonality trends can be analysed using this method.**\n",
    "**'CDESCR' : Create a new dataframe and store it.**\n",
    "**'CMPL_TYPE': Source of complaint code. Pivot the codes to each new columns and get the total. Took value counts and discarded those complaints which are less than 1000**\n",
    "**'POLICE_RPT_YN': #convert to 1 or 0**\n",
    "**'ORIG_OWNER_YN', 'ANTI_BRAKES_YN', 'CRUISE_CONT_YN' : #convert to 1 or 0**\n",
    "**'DRIVE_TRAIN','FUEL_TYPE': Pivot the codes to each new columns and get the total.**\n",
    "**'VEH_SPEED' : 'mean' and 'max'**\n",
    "**'PROD_TYPE': Pivot the codes to each new columns and get the total.**\n",
    "**'MEDICAL_ATTN','VEHICLES_TOWED_YN' :#convert to 1 or 0**\n",
    "**'AGE': ['mean','max', 'min']**\n",
    "**'MILES_NEW', 'OCCURRENCES_NEW': 'mean' and 'max'**"
   ]
  },
  {
   "cell_type": "code",
   "execution_count": 67,
   "id": "acc85739-d32f-4412-954f-1532acb65632",
   "metadata": {},
   "outputs": [
    {
     "data": {
      "text/plain": [
       "CMPLID                     0\n",
       "ODINO                      0\n",
       "MAKETXT                    0\n",
       "MODELTXT                   0\n",
       "YEARTXT                    0\n",
       "CRASH                      0\n",
       "FAILDATE                   0\n",
       "FIRE                       0\n",
       "INJURED                    0\n",
       "DEATHS                     0\n",
       "COMPDESC                   0\n",
       "CITY                       0\n",
       "STATE                      0\n",
       "DATEA                      0\n",
       "LDATE                      0\n",
       "CDESCR                     0\n",
       "CMPL_TYPE                  0\n",
       "POLICE_RPT_YN              0\n",
       "ORIG_OWNER_YN            588\n",
       "ANTI_BRAKES_YN           588\n",
       "CRUISE_CONT_YN           588\n",
       "DRIVE_TRAIN          1061043\n",
       "FUEL_TYPE            1005590\n",
       "VEH_SPEED             450967\n",
       "PROD_TYPE                  0\n",
       "MEDICAL_ATTN               0\n",
       "VEHICLES_TOWED_YN        588\n",
       "AGE                        0\n",
       "MILES_NEW                  0\n",
       "OCCURRENCES_NEW            0\n",
       "dtype: int64"
      ]
     },
     "execution_count": 67,
     "metadata": {},
     "output_type": "execute_result"
    }
   ],
   "source": [
    "df.isna().sum()"
   ]
  },
  {
   "cell_type": "code",
   "execution_count": null,
   "id": "1a8da521-f459-46b3-bf1e-d219dd47f7a1",
   "metadata": {},
   "outputs": [],
   "source": [
    "# agg_func = {'CMPLID' : 'count', 'CRASH', : 'sum', 'FAILDATE'- 'LDATE': 'median'\n",
    "#        , 'FIRE': 'sum', 'INJURED': 'sum', 'DEATHS': 'sum', 'STATE',\n",
    "#        , 'LDATE', 'CMPL_TYPE', 'POLICE_RPT_YN' : 'sum',\n",
    "#        'ORIG_OWNER_YN' : 'sum', 'ANTI_BRAKES_YN':'sum', 'CRUISE_CONT_YN':'sum', 'DRIVE_TRAIN',\n",
    "#        'FUEL_TYPE', 'VEH_SPEED':['mean','max'], 'PROD_TYPE', 'MEDICAL_ATTN': 'sum',\n",
    "#        'VEHICLES_TOWED_YN':'sum', 'AGE': ['mean','max', 'min'], 'MILES_NEW': ['mean','max'], 'OCCURRENCES_NEW': ['mean','max']}"
   ]
  },
  {
   "cell_type": "code",
   "execution_count": 68,
   "id": "b51f7108-f21a-4e3f-80b2-a8e4b3b572b7",
   "metadata": {},
   "outputs": [],
   "source": [
    "# #saving complaint descriptions alone for BERT\n",
    "# csv_link = r\"C:\\Users\\shanm\\OneDrive\\Desktop\\Kavya\\Spring 25\\NHTSA dataset-20250211T191427Z-002\\NHTSA dataset\\Complaints\\complaints_descriptions.csv\"\n",
    "# df[['MAKETXT','MODELTXT','YEARTXT','COMPDESC','CDESCR']].to_csv(csv_link, index=False, encoding='utf-8')"
   ]
  },
  {
   "cell_type": "code",
   "execution_count": 71,
   "id": "712b3c4a-0559-4b39-a22e-9194b45f19aa",
   "metadata": {},
   "outputs": [],
   "source": [
    "# #dropping extra irrelevant columns and saving the final imputed file\n",
    "# csv_link2 = r\"C:\\Users\\shanm\\OneDrive\\Desktop\\Kavya\\Spring 25\\NHTSA dataset-20250211T191427Z-002\\NHTSA dataset\\Complaints\\complaints_imputed.csv\"\n",
    "# df.drop(axis = 1, columns = ['CDESCR','ODINO','DATEA','CITY'],  inplace = True)\n",
    "# df.to_csv(csv_link2, index=False, encoding='utf-8')"
   ]
  }
 ],
 "metadata": {
  "kernelspec": {
   "display_name": "Python 3 (ipykernel)",
   "language": "python",
   "name": "python3"
  },
  "language_info": {
   "codemirror_mode": {
    "name": "ipython",
    "version": 3
   },
   "file_extension": ".py",
   "mimetype": "text/x-python",
   "name": "python",
   "nbconvert_exporter": "python",
   "pygments_lexer": "ipython3",
   "version": "3.11.1"
  }
 },
 "nbformat": 4,
 "nbformat_minor": 5
}
