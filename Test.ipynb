{
 "cells": [
  {
   "cell_type": "code",
   "execution_count": 2,
   "id": "4f665b25-42b5-4536-817e-ba0dbd8d8e69",
   "metadata": {},
   "outputs": [],
   "source": [
    "#importing relevant libraries\n",
    "import pandas as pd\n",
    "import numpy as np\n",
    "import seaborn as sns\n",
    "import matplotlib.pyplot as plt\n",
    "import warnings\n",
    "warnings.filterwarnings(\"ignore\")"
   ]
  },
  {
   "cell_type": "code",
   "execution_count": 2,
   "id": "bd83d3cf-0f7d-4f35-a056-d2ed994d2414",
   "metadata": {},
   "outputs": [],
   "source": [
    "#Loading the imputed csv output from 'Capstone_NHTSA_Imputations' python notebook which are free of null values.\n",
    "comp = pd.read_csv(r\"C:\\Users\\shanm\\OneDrive\\Desktop\\Kavya\\Spring 25\\NHTSA dataset-20250211T191427Z-002\\NHTSA dataset\\Complaints\\complaints_imputed.csv\", low_memory = True)"
   ]
  },
  {
   "cell_type": "code",
   "execution_count": 9,
   "id": "85ce3de7-6999-4943-98ca-2f9c87a73bde",
   "metadata": {},
   "outputs": [
    {
     "data": {
      "text/html": [
       "<div>\n",
       "<style scoped>\n",
       "    .dataframe tbody tr th:only-of-type {\n",
       "        vertical-align: middle;\n",
       "    }\n",
       "\n",
       "    .dataframe tbody tr th {\n",
       "        vertical-align: top;\n",
       "    }\n",
       "\n",
       "    .dataframe thead th {\n",
       "        text-align: right;\n",
       "    }\n",
       "</style>\n",
       "<table border=\"1\" class=\"dataframe\">\n",
       "  <thead>\n",
       "    <tr style=\"text-align: right;\">\n",
       "      <th></th>\n",
       "      <th>CMPLID</th>\n",
       "      <th>MAKETXT</th>\n",
       "      <th>MODELTXT</th>\n",
       "      <th>YEARTXT</th>\n",
       "      <th>CRASH</th>\n",
       "      <th>FAILDATE</th>\n",
       "      <th>FIRE</th>\n",
       "      <th>INJURED</th>\n",
       "      <th>DEATHS</th>\n",
       "      <th>COMPDESC</th>\n",
       "      <th>...</th>\n",
       "      <th>CRUISE_CONT_YN</th>\n",
       "      <th>DRIVE_TRAIN</th>\n",
       "      <th>FUEL_TYPE</th>\n",
       "      <th>VEH_SPEED</th>\n",
       "      <th>PROD_TYPE</th>\n",
       "      <th>MEDICAL_ATTN</th>\n",
       "      <th>VEHICLES_TOWED_YN</th>\n",
       "      <th>AGE</th>\n",
       "      <th>MILES_NEW</th>\n",
       "      <th>OCCURRENCES_NEW</th>\n",
       "    </tr>\n",
       "  </thead>\n",
       "  <tbody>\n",
       "    <tr>\n",
       "      <th>63765</th>\n",
       "      <td>820762</td>\n",
       "      <td>TOYOTA</td>\n",
       "      <td>SEQUOIA                                       ...</td>\n",
       "      <td>2004.0</td>\n",
       "      <td>N</td>\n",
       "      <td>19010101</td>\n",
       "      <td>N</td>\n",
       "      <td>1</td>\n",
       "      <td>0</td>\n",
       "      <td>SUSPENSION:FRONT:CONTROL ARM:LOWER BALL JOINT ...</td>\n",
       "      <td>...</td>\n",
       "      <td>N</td>\n",
       "      <td>NaN</td>\n",
       "      <td>GS</td>\n",
       "      <td>NaN</td>\n",
       "      <td>V</td>\n",
       "      <td>N</td>\n",
       "      <td>N</td>\n",
       "      <td>6.0</td>\n",
       "      <td>77271.053442</td>\n",
       "      <td>1.0</td>\n",
       "    </tr>\n",
       "  </tbody>\n",
       "</table>\n",
       "<p>1 rows × 26 columns</p>\n",
       "</div>"
      ],
      "text/plain": [
       "       CMPLID                    MAKETXT  \\\n",
       "63765  820762  TOYOTA                      \n",
       "\n",
       "                                                MODELTXT  YEARTXT CRASH  \\\n",
       "63765  SEQUOIA                                       ...   2004.0     N   \n",
       "\n",
       "       FAILDATE FIRE  INJURED  DEATHS  \\\n",
       "63765  19010101    N        1       0   \n",
       "\n",
       "                                                COMPDESC  ... CRUISE_CONT_YN  \\\n",
       "63765  SUSPENSION:FRONT:CONTROL ARM:LOWER BALL JOINT ...  ...              N   \n",
       "\n",
       "      DRIVE_TRAIN FUEL_TYPE VEH_SPEED PROD_TYPE MEDICAL_ATTN  \\\n",
       "63765         NaN      GS         NaN      V               N   \n",
       "\n",
       "      VEHICLES_TOWED_YN  AGE     MILES_NEW  OCCURRENCES_NEW  \n",
       "63765                 N  6.0  77271.053442              1.0  \n",
       "\n",
       "[1 rows x 26 columns]"
      ]
     },
     "execution_count": 9,
     "metadata": {},
     "output_type": "execute_result"
    }
   ],
   "source": [
    "comp[(comp['MAKETXT'].str.contains('TOYOTA')) &  (comp['MODELTXT'].str.contains('SEQUOIA')) & (comp['YEARTXT'] == 2004) & (comp['COMPDESC'].str.contains('SUSPENSION:FRONT:CONTROL ARM:LOWER BALL JOINT'))]"
   ]
  },
  {
   "cell_type": "code",
   "execution_count": 3,
   "id": "f3b791fa-ad21-401d-bfe4-6ab66d208e98",
   "metadata": {},
   "outputs": [],
   "source": [
    "target = pd.read_csv(r\"C:\\Users\\shanm\\OneDrive\\Desktop\\Kavya\\Spring 25\\NHTSA dataset-20250211T191427Z-002\\NHTSA dataset\\Target\\target.csv\", low_memory = True)"
   ]
  },
  {
   "cell_type": "code",
   "execution_count": 5,
   "id": "bf3a7a43-c80e-407a-9bdf-c20bb5ba5e03",
   "metadata": {},
   "outputs": [
    {
     "data": {
      "text/html": [
       "<div>\n",
       "<style scoped>\n",
       "    .dataframe tbody tr th:only-of-type {\n",
       "        vertical-align: middle;\n",
       "    }\n",
       "\n",
       "    .dataframe tbody tr th {\n",
       "        vertical-align: top;\n",
       "    }\n",
       "\n",
       "    .dataframe thead th {\n",
       "        text-align: right;\n",
       "    }\n",
       "</style>\n",
       "<table border=\"1\" class=\"dataframe\">\n",
       "  <thead>\n",
       "    <tr style=\"text-align: right;\">\n",
       "      <th></th>\n",
       "      <th>MAKE</th>\n",
       "      <th>MODEL</th>\n",
       "      <th>YEAR</th>\n",
       "      <th>COMPNAME</th>\n",
       "      <th>INV_IND</th>\n",
       "      <th>RCL_IND</th>\n",
       "      <th>TARGET</th>\n",
       "    </tr>\n",
       "  </thead>\n",
       "  <tbody>\n",
       "    <tr>\n",
       "      <th>0</th>\n",
       "      <td>PACE AMERICAN</td>\n",
       "      <td>TRAILER</td>\n",
       "      <td>2003.0</td>\n",
       "      <td>WHEELS</td>\n",
       "      <td>1</td>\n",
       "      <td>0.0</td>\n",
       "      <td>1.0</td>\n",
       "    </tr>\n",
       "    <tr>\n",
       "      <th>1</th>\n",
       "      <td>PACE AMERICAN</td>\n",
       "      <td>TRAILER</td>\n",
       "      <td>2004.0</td>\n",
       "      <td>WHEELS</td>\n",
       "      <td>1</td>\n",
       "      <td>0.0</td>\n",
       "      <td>1.0</td>\n",
       "    </tr>\n",
       "    <tr>\n",
       "      <th>2</th>\n",
       "      <td>PACE AMERICAN</td>\n",
       "      <td>TRAILER</td>\n",
       "      <td>2005.0</td>\n",
       "      <td>WHEELS</td>\n",
       "      <td>1</td>\n",
       "      <td>0.0</td>\n",
       "      <td>1.0</td>\n",
       "    </tr>\n",
       "    <tr>\n",
       "      <th>3</th>\n",
       "      <td>PACE AMERICAN</td>\n",
       "      <td>TRAILER</td>\n",
       "      <td>2006.0</td>\n",
       "      <td>WHEELS</td>\n",
       "      <td>1</td>\n",
       "      <td>0.0</td>\n",
       "      <td>1.0</td>\n",
       "    </tr>\n",
       "    <tr>\n",
       "      <th>4</th>\n",
       "      <td>APEXCONE</td>\n",
       "      <td>APX9004</td>\n",
       "      <td>9999.0</td>\n",
       "      <td>EXTERIOR LIGHTING</td>\n",
       "      <td>1</td>\n",
       "      <td>1.0</td>\n",
       "      <td>2.0</td>\n",
       "    </tr>\n",
       "  </tbody>\n",
       "</table>\n",
       "</div>"
      ],
      "text/plain": [
       "            MAKE    MODEL    YEAR           COMPNAME  INV_IND  RCL_IND  TARGET\n",
       "0  PACE AMERICAN  TRAILER  2003.0             WHEELS        1      0.0     1.0\n",
       "1  PACE AMERICAN  TRAILER  2004.0             WHEELS        1      0.0     1.0\n",
       "2  PACE AMERICAN  TRAILER  2005.0             WHEELS        1      0.0     1.0\n",
       "3  PACE AMERICAN  TRAILER  2006.0             WHEELS        1      0.0     1.0\n",
       "4       APEXCONE  APX9004  9999.0  EXTERIOR LIGHTING        1      1.0     2.0"
      ]
     },
     "execution_count": 5,
     "metadata": {},
     "output_type": "execute_result"
    }
   ],
   "source": [
    "target.head()"
   ]
  },
  {
   "cell_type": "code",
   "execution_count": 6,
   "id": "ee13cc53-442c-4729-beef-4cb53a3f096c",
   "metadata": {},
   "outputs": [
    {
     "data": {
      "text/plain": [
       "1.0    36268\n",
       "2.0     4537\n",
       "Name: TARGET, dtype: int64"
      ]
     },
     "execution_count": 6,
     "metadata": {},
     "output_type": "execute_result"
    }
   ],
   "source": [
    "target['TARGET'].value_counts()"
   ]
  }
 ],
 "metadata": {
  "kernelspec": {
   "display_name": "Python 3 (ipykernel)",
   "language": "python",
   "name": "python3"
  },
  "language_info": {
   "codemirror_mode": {
    "name": "ipython",
    "version": 3
   },
   "file_extension": ".py",
   "mimetype": "text/x-python",
   "name": "python",
   "nbconvert_exporter": "python",
   "pygments_lexer": "ipython3",
   "version": "3.11.1"
  }
 },
 "nbformat": 4,
 "nbformat_minor": 5
}
